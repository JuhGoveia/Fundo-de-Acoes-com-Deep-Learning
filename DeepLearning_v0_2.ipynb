{
  "cells": [
    {
      "cell_type": "markdown",
      "metadata": {
        "id": "VDbi6PDS9MYO"
      },
      "source": [
        "***Participantes (RM - NOME):***<br>\n",
        "348112 - Kaio<br>\n",
        "348012 - Evandro<br>\n",
        "343832 - Pedro Emil<br>\n",
        "348196 - Julia<br>"
      ]
    },
    {
      "cell_type": "markdown",
      "metadata": {
        "id": "r-b3hhd7i9JM"
      },
      "source": [
        "# Introdução e Setup\n",
        "\n",
        "A QuantumFinance está desejando construir um fundo de ações baseado em\n",
        "modelos de Deep Learning. A ideia é desenvolver um modelo que tenha como\n",
        "saída a compra ou venda de um determinada ação baseado na movimentação\n",
        "do mercado nos últimos 15 dias.\n",
        "Inicialmente 4 ações foram selecionadas para análise:\n",
        "\n",
        "- VALE3 – Vale do Rio Doce\n",
        "- PETR4 – Petrobras\n",
        "- BBAS3 – Banco do Brasil\n",
        "- CSNA3 - Companhia Siderúrgica Nacional\n",
        "\n",
        "| Date | Close | Smoothed_Close | Label | D-1 ~ D-15 |\n",
        "|--|--|--|--|--|\n",
        "| Data da Operação | Valor de Fechamento do dia | Close trabalhado | -1 Venda, 1 Compra | Close Dias anteriores |"
      ]
    },
    {
      "cell_type": "code",
      "execution_count": null,
      "metadata": {
        "colab": {
          "base_uri": "https://localhost:8080/"
        },
        "id": "xCbMYceaVJxA",
        "outputId": "b4850068-c0b3-46b1-c77b-400529ca14b1"
      },
      "outputs": [
        {
          "output_type": "stream",
          "name": "stdout",
          "text": [
            "Requirement already satisfied: scikeras in /usr/local/lib/python3.10/dist-packages (0.12.0)\n",
            "Requirement already satisfied: packaging>=0.21 in /usr/local/lib/python3.10/dist-packages (from scikeras) (23.2)\n",
            "Requirement already satisfied: scikit-learn>=1.0.0 in /usr/local/lib/python3.10/dist-packages (from scikeras) (1.2.2)\n",
            "Requirement already satisfied: numpy>=1.17.3 in /usr/local/lib/python3.10/dist-packages (from scikit-learn>=1.0.0->scikeras) (1.25.2)\n",
            "Requirement already satisfied: scipy>=1.3.2 in /usr/local/lib/python3.10/dist-packages (from scikit-learn>=1.0.0->scikeras) (1.11.4)\n",
            "Requirement already satisfied: joblib>=1.1.1 in /usr/local/lib/python3.10/dist-packages (from scikit-learn>=1.0.0->scikeras) (1.3.2)\n",
            "Requirement already satisfied: threadpoolctl>=2.0.0 in /usr/local/lib/python3.10/dist-packages (from scikit-learn>=1.0.0->scikeras) (3.3.0)\n"
          ]
        }
      ],
      "source": [
        "!pip install scikeras"
      ]
    },
    {
      "cell_type": "code",
      "execution_count": null,
      "metadata": {
        "id": "74mX8wOPkeY0"
      },
      "outputs": [],
      "source": [
        "import pandas as pd\n",
        "import matplotlib.pyplot as plt\n",
        "import numpy as np\n",
        "from tensorflow.keras.models import Sequential\n",
        "from tensorflow.keras.layers import LSTM, Dense, InputLayer, BatchNormalization, Dropout, Dense, Conv1D, Flatten, MaxPooling1D, Bidirectional\n",
        "from scikeras.wrappers import KerasClassifier\n",
        "from sklearn.model_selection import GridSearchCV\n",
        "from sklearn.preprocessing import MinMaxScaler\n",
        "from sklearn.metrics import confusion_matrix\n",
        "import seaborn as sns\n",
        "import matplotlib.pyplot as plt\n",
        "from sklearn.metrics import make_scorer, accuracy_score, precision_score, recall_score, f1_score\n",
        "from sklearn.model_selection import TimeSeriesSplit\n",
        "import gc"
      ]
    },
    {
      "cell_type": "code",
      "execution_count": null,
      "metadata": {
        "id": "1Ma_GEHnmyfD"
      },
      "outputs": [],
      "source": [
        "def prepare_network_analysis_dataframe(df):\n",
        "    \"\"\"\n",
        "    Prepara um DataFrame para análise de rede, adicionando médias móveis, variações de preços, Bandas de Bollinger e indicadores MACD.\n",
        "\n",
        "    A função modifica o DataFrame de entrada adicionando novas colunas que incluem:\n",
        "    - Médias móveis para janelas de 5, 10 e 15 dias.\n",
        "    - Variação do preço de fechamento para os últimos 5, 10 e 15 dias.\n",
        "    - Bandas de Bollinger para uma janela de 15 dias.\n",
        "    - Linha MACD, linha de sinal MACD e histograma MACD.\n",
        "\n",
        "    Parâmetros:\n",
        "    - df (DataFrame): DataFrame de entrada contendo dados do mercado financeiro. Deve incluir as colunas 'Label', 'Close' e 'Past_X_Days_Close', onde X pode ser 5, 10, 15, etc.\n",
        "\n",
        "    Retorna:\n",
        "    - DataFrame: um novo DataFrame com as colunas adicionais necessárias para análise de rede.\n",
        "\n",
        "    Nota: A coluna 'Label' é binarizada, substituindo -1 por 0. Os cálculos das Bandas de Bollinger e MACD são baseados na coluna 'Close'.\n",
        "    \"\"\"\n",
        "    new_df = df[[\"Label\", \"Close\"]].copy()\n",
        "    new_df[\"Label\"] = new_df[\"Label\"].replace({-1:0})\n",
        "\n",
        "\n",
        "    for window in [5, 10, 15]:\n",
        "        ma_col = f\"ma_{window}\"\n",
        "        new_df[ma_col] = df.iloc[:, 5:(5 + window)].mean(axis=1) #Medias Moveis\n",
        "        new_df[f\"D{window}\"] = df[\"Close\"] - df[f\"Past_{window}_Days_Close\"] #Variação da Close\n",
        "        if window == 15:\n",
        "            std = df.iloc[:, 5:(5 + window)].std(axis=1)\n",
        "            new_df[\"BB_upper_15\"] = new_df[ma_col] + (2 * std)\n",
        "            new_df[\"BB_lower_15\"] = new_df[ma_col] - (2 * std)\n",
        "            new_df[\"bb_center_15\"] = (new_df[\"Close\"] - new_df[\"BB_lower_15\"]) / (new_df[\"BB_upper_15\"] - new_df[\"BB_lower_15\"])\n",
        "            new_df.replace([np.inf, -np.inf], np.nan, inplace=True)  # Substitui Inf por NaN\n",
        "            new_df[\"bb_center_15\"].fillna(0, inplace=True)  # Preenche NaNs com 0\n",
        "\n",
        "    #MACD\n",
        "    ema12 = df['Close'].ewm(span=12, adjust=False).mean()\n",
        "    ema26 = df['Close'].ewm(span=26, adjust=False).mean()\n",
        "    macd_line = ema12 - ema26\n",
        "    signal_line = macd_line.ewm(span=9, adjust=False).mean()\n",
        "    macd_histogram = macd_line - signal_line\n",
        "\n",
        "    new_df[\"MACD_line\"] = macd_line\n",
        "    new_df[\"MACD_SignalL\"] = signal_line\n",
        "    new_df[\"MACD_Hist\"] = macd_histogram\n",
        "\n",
        "    return new_df\n",
        "    pass"
      ]
    },
    {
      "cell_type": "code",
      "execution_count": null,
      "metadata": {
        "id": "UaarsANX2Kx1"
      },
      "outputs": [],
      "source": [
        "def make_timesteps_sequences(df, time_steps):\n",
        "    \"\"\"\n",
        "    Transforma um DataFrame em sequências de passos temporais para uso em modelos de aprendizado de máquina, especialmente para problemas de séries temporais.\n",
        "\n",
        "    Parâmetros:\n",
        "    - df (DataFrame): DataFrame contendo os dados de série temporal.\n",
        "    - time_steps (int): Número de passos temporais a serem incluídos em cada sequência.\n",
        "\n",
        "    Retorna:\n",
        "    - X (ndarray): Array de sequências de características com a forma [n_amostras, time_steps, n_características].\n",
        "    - y (ndarray): Array de rótulos com a forma [n_amostras,], correspondendo a cada sequência em X.\n",
        "\n",
        "    Nota: A normalização é aplicada apenas às características, não aos rótulos. 'Label' é assumido como a coluna alvo para previsão.\n",
        "    \"\"\"\n",
        "    selected_features = df.drop([\"Label\", \"BB_upper_15\", \"BB_lower_15\"], axis=1)\n",
        "    scaler = MinMaxScaler()\n",
        "    scaler.fit(selected_features)\n",
        "    scaled_data = scaler.transform(selected_features)\n",
        "\n",
        "\n",
        "    X, y = [], []\n",
        "    for i in range(len(scaled_data) - time_steps):\n",
        "        sequence = scaled_data[i:i + time_steps]  # Select sequence of time steps\n",
        "        label = df['Label'].iloc[i + time_steps]  # Assuming 'Label' is what you're predicting\n",
        "        X.append(sequence)\n",
        "        y.append(label)\n",
        "\n",
        "    X = np.array(X)  # Shape: [samples, time_steps, features]\n",
        "    y = np.array(y)  # Shape: [samples,]\n",
        "    print(f\"X.shape:{X.shape}, y.shape:{y.shape}\")\n",
        "    return X, y"
      ]
    },
    {
      "cell_type": "code",
      "execution_count": null,
      "metadata": {
        "id": "g2wi1WWyBeaP"
      },
      "outputs": [],
      "source": [
        "def linear_split(X, y, split_percent):\n",
        "    \"\"\"\n",
        "    Divide os arrays X e y em conjuntos de treinamento e teste com base em uma porcentagem especificada.\n",
        "\n",
        "    A função calcula o índice de divisão com base na porcentagem fornecida e divide os dados de entrada e rótulos correspondentes\n",
        "    em conjuntos de treinamento e teste. A divisão é feita de forma linear, mantendo a ordem original dos dados.\n",
        "\n",
        "    Parâmetros:\n",
        "    - X (ndarray): Array de dados de entrada com a forma [n_amostras, n_características].\n",
        "    - y (ndarray): Array de rótulos com a forma [n_amostras,].\n",
        "    - split_percent (float): A porcentagem dos dados a serem usados para o conjunto de treinamento. Deve ser um valor entre 0 e 1.\n",
        "\n",
        "    Retorna:\n",
        "    - X_train (ndarray): Array de dados de treinamento.\n",
        "    - y_train (ndarray): Array de rótulos de treinamento.\n",
        "    - X_test (ndarray): Array de dados de teste.\n",
        "    - y_test (ndarray): Array de rótulos de teste.\n",
        "\n",
        "    Nota: A divisão é realizada com base na ordem original dos dados, sem embaralhamento.\n",
        "    \"\"\"\n",
        "    split_index = int(len(X) * split_percent)\n",
        "    X_train = X[:split_index]\n",
        "    X_test =  X[split_index:]\n",
        "\n",
        "    y_train = y[:split_index]\n",
        "    y_test =  y[split_index:]\n",
        "\n",
        "    return X_train, y_train, X_test, y_test"
      ]
    },
    {
      "cell_type": "code",
      "execution_count": null,
      "metadata": {
        "id": "-wQOquk-yi4_"
      },
      "outputs": [],
      "source": [
        "def create_model(layers_config):\n",
        "    \"\"\"\n",
        "    Constrói um modelo de rede neural baseado em uma configuração de camadas fornecida.\n",
        "\n",
        "    Esta função inicializa um modelo Sequencial e adiciona dinamicamente camadas a ele com base nas\n",
        "    especificações contidas na lista `layers_config`. Cada item nesta lista é um dicionário\n",
        "    especificando o tipo de camada e seus parâmetros, como número de unidades, função de ativação,\n",
        "    tamanho do kernel, etc. Os tipos de camadas suportados incluem densa, bidirecional (com LSTM como a\n",
        "    camada interna), LSTM, convolucional (Conv1D), dropout, achatamento (Flatten), normalização em lote (BatchNormalization)\n",
        "    e pooling máximo (MaxPooling1D).\n",
        "\n",
        "    Parâmetros:\n",
        "    - layers_config (lista de dict): Uma lista onde cada elemento é um dicionário detalhando a configuração\n",
        "      de uma camada para adicionar ao modelo. As chaves no dicionário podem incluir 'type' (obrigatório) para especificar o\n",
        "      tipo de camada, e também podem incluir 'units', 'activation', 'kernel_size', 'return_sequences', 'rate',\n",
        "      e 'pool_size', dependendo do tipo de camada.\n",
        "\n",
        "    Retorna:\n",
        "    - Sequential: Um modelo Sequencial do Keras compilado com o otimizador Adam, usando o erro quadrático médio como a\n",
        "      função de perda e rastreando o erro quadrático médio como métrica.\n",
        "\n",
        "    Exemplo:\n",
        "    ```\n",
        "    layers_config = [\n",
        "        {'type': 'dense', 'units': 64, 'activation': 'relu'},\n",
        "        {'type': 'lstm', 'units': 128, 'activation': 'tanh', 'return_sequences': True},\n",
        "        {'type': 'dropout', 'rate': 0.2},\n",
        "        {'type': 'flatten'},\n",
        "        {'type': 'dense', 'units': 1, 'activation': 'sigmoid'}\n",
        "    ]\n",
        "    model = create_model(layers_config)\n",
        "    ```\n",
        "\n",
        "    Nota:\n",
        "    - A forma de entrada para a primeira camada deve ser pré-definida como (time_steps, FEATURES) fora desta função.\n",
        "    - A camada final é uma camada densa com uma única unidade e função de ativação sigmoid, tornando esta\n",
        "      função particularmente adequada para tarefas de classificação binária.\n",
        "    \"\"\"\n",
        "    _model = Sequential()\n",
        "    # Camada de Entrada\n",
        "    _model.add(InputLayer(input_shape=(time_steps, FEATURES)))\n",
        "    #Normalização\n",
        "    _model.add(BatchNormalization())\n",
        "\n",
        "    #Outras camadas\n",
        "    for i, layer in enumerate(layers_config):\n",
        "        layer_type = layer.get(\"type\", \"dense\")\n",
        "        units = layer.get(\"units\", 64)\n",
        "        activation = layer.get(\"activation\", \"relu\")\n",
        "        kernel_size = layer.get(\"kernel_size\", 5)\n",
        "        return_sequences = layer.get(\"return_sequences\", False)\n",
        "        rate = layer.get(\"rate\", 0.2)\n",
        "        pool_size = layer.get(\"pool_size\", 2)\n",
        "\n",
        "        if layer_type == \"dense\":\n",
        "            _model.add(Dense(units, activation=activation))\n",
        "\n",
        "        elif layer_type == \"bidirectional\":\n",
        "            layer = layer.get(\"layer\", None)\n",
        "            layer_type = layer.get(\"type\", \"dense\")\n",
        "            units = layer.get(\"units\", 64)\n",
        "            activation = layer.get(\"activation\", \"relu\")\n",
        "            kernel_size = layer.get(\"kernel_size\", 5)\n",
        "            return_sequences = layer.get(\"return_sequences\", False)\n",
        "            rate = layer.get(\"rate\", 0.2)\n",
        "            pool_size = layer.get(\"pool_size\", 2)\n",
        "\n",
        "            if layer_type == \"lstm\":\n",
        "                if i == 0:\n",
        "                    internal = LSTM(units, activation=activation, return_sequences=return_sequences, input_shape=(time_steps, FEATURES))\n",
        "                else:\n",
        "                    internal = LSTM(units, activation=activation, return_sequences=return_sequences)\n",
        "\n",
        "            _model.add(Bidirectional(internal))\n",
        "\n",
        "        elif layer_type == \"lstm\":\n",
        "            if i == 0:\n",
        "                _model.add(LSTM(units, activation=activation, return_sequences=return_sequences, input_shape=(time_steps, FEATURES)))\n",
        "            else:\n",
        "                _model.add(LSTM(units, activation=activation, return_sequences=return_sequences))\n",
        "\n",
        "        elif layer_type == \"conv1d\":\n",
        "            _model.add(Conv1D(units, kernel_size=kernel_size, activation=activation))\n",
        "\n",
        "        elif layer_type == \"dropout\":\n",
        "            _model.add(Dropout(rate))\n",
        "\n",
        "        elif layer_type == \"flatten\":\n",
        "            _model.add(Flatten())\n",
        "\n",
        "        elif layer_type == \"batch_normalization\":\n",
        "            _model.add(BatchNormalization())\n",
        "\n",
        "        elif layer_type == \"max_pooling1d\":\n",
        "            _model.add(MaxPooling1D(pool_size=pool_size))\n",
        "\n",
        "\n",
        "\n",
        "    #Camada de saida\n",
        "    _model.add(Dense(1, activation=\"sigmoid\"))\n",
        "\n",
        "\n",
        "    _model.compile(optimizer=\"adam\", loss=\"mean_squared_error\", metrics=[\"mse\"])\n",
        "    return _model"
      ]
    },
    {
      "cell_type": "code",
      "execution_count": null,
      "metadata": {
        "id": "FuZFrzr_8dHe"
      },
      "outputs": [],
      "source": [
        "def create_and_train(dataset, time_steps=15, model={}, epochs=16, batch_size=16):\n",
        "    \"\"\"\n",
        "    Cria e treina um modelo de rede neural com base na configuração fornecida e no conjunto de dados.\n",
        "\n",
        "    Esta função inicializa um modelo de rede neural usando a função `create_model`, compila o modelo com\n",
        "    o otimizador Adam e a função de perda de erro quadrático médio (MSE), e então treina o modelo\n",
        "    usando os dados fornecidos. Após o treinamento, a função avalia o modelo no conjunto de teste\n",
        "    e imprime as métricas de acurácia, precisão, recall e F1.\n",
        "\n",
        "    Parâmetros:\n",
        "    - dataset (array): O conjunto de dados a ser usado para treinamento e teste do modelo.\n",
        "    - time_steps (int, opcional): O número de etapas de tempo a serem consideradas para cada amostra de entrada.\n",
        "    - model (dict, opcional): Um dicionário contendo a configuração das camadas do modelo a ser criado.\n",
        "    - epochs (int, opcional): O número de épocas para o treinamento do modelo.\n",
        "    - batch_size (int, opcional): O tamanho do lote a ser usado durante o treinamento do modelo.\n",
        "\n",
        "    Retorna:\n",
        "    - Sequential: O modelo treinado.\n",
        "\n",
        "    Exemplo de uso:\n",
        "    ```python\n",
        "    dataset = np.random.rand(1000, 10)  # Exemplo de dataset\n",
        "    model_config = [\n",
        "        {'type': 'lstm', 'units': 64, 'return_sequences': True},\n",
        "        {'type': 'dropout', 'rate': 0.2},\n",
        "        {'type': 'lstm', 'units': 32},\n",
        "        {'type': 'dense', 'units': 1, 'activation': 'sigmoid'}\n",
        "    ]\n",
        "    trained_model = create_and_train(dataset, time_steps=15, model=model_config, epochs=10, batch_size=16)\n",
        "    ```\n",
        "\n",
        "    Nota:\n",
        "    - A função assume que o `dataset` é uma matriz NumPy onde a última coluna é o alvo e as demais são características.\n",
        "    - A função `make_timesteps_sequences` é usada para transformar o conjunto de dados em sequências de acordo com `time_steps`.\n",
        "    - A função `linear_split` é usada para dividir o conjunto de dados transformado em conjuntos de treinamento e teste.\n",
        "    - As métricas de acurácia, precisão, recall e F1 são calculadas no conjunto de teste e impressas ao final do treinamento.\n",
        "    \"\"\"\n",
        "\n",
        "    _model = create_model(model)\n",
        "\n",
        "    _model.compile(optimizer='adam',\n",
        "               loss='mean_squared_error',  # MSE for regression\n",
        "               metrics=['mse'])  # MSE metric for regression\n",
        "\n",
        "    X, y = make_timesteps_sequences(dataset, time_steps)\n",
        "    X_train, y_train, X_test, y_test = linear_split(X, y, 0.8)\n",
        "    history = _model.fit(\n",
        "        X_train, y_train,\n",
        "        epochs=epochs,  # Number of epochs\n",
        "        batch_size=batch_size,  # Size of the batch\n",
        "        validation_split=0.2  # Split for validation data\n",
        "    )\n",
        "\n",
        "    predictions = _model.predict(X_test)\n",
        "    predictions = (predictions > 0.5).astype(int)\n",
        "    cm = confusion_matrix(y_test, predictions)\n",
        "    sns.heatmap(cm, annot=True, fmt='d', cmap='Blues', xticklabels=['Predicted 0', 'Predicted 1'], yticklabels=['Actual 0', 'Actual 1'])\n",
        "    plt.ylabel('Actual')\n",
        "    plt.xlabel('Predicted')\n",
        "    plt.show()\n",
        "\n",
        "    accuracy = accuracy_score(y_test, predictions)\n",
        "    precision = precision_score(y_test, predictions)\n",
        "    recall = recall_score(y_test, predictions)\n",
        "    f1 = f1_score(y_test, predictions)\n",
        "\n",
        "    print(f'Acurácia: {accuracy}, Precisão: {precision}, Recall: {recall}, F1: {f1}')\n",
        "    return _model"
      ]
    },
    {
      "cell_type": "code",
      "source": [
        "def plot_best_scores(best_scores):\n",
        "    \"\"\"\n",
        "    Exibe um gráfico de barras dos melhores escores para uma série de redes.\n",
        "\n",
        "    Esta função cria um gráfico de barras que mostra os melhores escores alcançados por diferentes configurações de rede.\n",
        "    Assume-se que a lista `best_scores` contenha os escores máximos obtidos por cada configuração de rede, e que\n",
        "    existam 10 configurações de rede numeradas de 0 a 9.\n",
        "\n",
        "    Parâmetros:\n",
        "    - best_scores (list): Uma lista contendo os melhores escores obtidos por cada configuração de rede.\n",
        "\n",
        "    Exemplo de uso:\n",
        "    ```python\n",
        "    best_scores = [0.8, 0.85, 0.78, 0.9, 0.95, 0.88, 0.82, 0.87, 0.92, 0.89]\n",
        "    plot_best_scores(best_scores)\n",
        "    ```\n",
        "\n",
        "    Nota:\n",
        "    - A função utiliza a biblioteca matplotlib para criar e exibir o gráfico de barras.\n",
        "    - As redes são numeradas de 0 a 9, e cada barra no gráfico corresponde a um desses números, representando\n",
        "      diferentes configurações de rede.\n",
        "    - O eixo Y do gráfico mostra os melhores escores, enquanto o eixo X representa as diferentes redes.\n",
        "    \"\"\"\n",
        "    networks = range(10)\n",
        "    # Plot\n",
        "    plt.figure(figsize=(10, 6))\n",
        "    plt.bar(networks, best_scores, color='skyblue')\n",
        "    plt.title('Best Scores')\n",
        "    plt.xlabel('Network')\n",
        "    plt.ylabel('Best Score')\n",
        "    plt.xticks(networks)\n",
        "    plt.grid(axis='y', linestyle='--', alpha=0.7)\n",
        "\n",
        "    # Show plot\n",
        "    plt.show()\n"
      ],
      "metadata": {
        "id": "6etvXb-LYbOD"
      },
      "execution_count": null,
      "outputs": []
    },
    {
      "cell_type": "code",
      "execution_count": null,
      "metadata": {
        "id": "k6sXkKicOYJx"
      },
      "outputs": [],
      "source": [
        "def multi_network_grid_search(dataset, networks):\n",
        "    \"\"\"\n",
        "    Realiza uma busca em grade (Grid Search) para várias configurações de redes neurais em uma série temporal.\n",
        "\n",
        "    Esta função itera sobre várias configurações de redes neurais fornecidas e realiza uma busca em grade para encontrar\n",
        "    os melhores parâmetros de treinamento (como número de épocas e tamanho do lote) com base na pontuação F1.\n",
        "    Utiliza validação cruzada específica para séries temporais para garantir a validade dos resultados de treinamento.\n",
        "\n",
        "    Parâmetros:\n",
        "    - dataset (DataFrame): Um pandas DataFrame contendo os dados da série temporal para treinamento.\n",
        "    - networks (list): Uma lista de dicionários, onde cada dicionário contém a configuração de uma rede neural a ser testada.\n",
        "\n",
        "    Retornos:\n",
        "    - Esta função não retorna um valor específico. Ela imprime os melhores parâmetros e a melhor pontuação F1 para cada\n",
        "      configuração de rede testada e plota os melhores escores usando a função `plot_best_scores`.\n",
        "\n",
        "    Notas:\n",
        "    - A função assume que cada configuração de rede na lista `networks` é válida e compatível com a função `create_model`.\n",
        "    - `FEATURES` e `time_steps` são fixados dentro da função, mas podem ser ajustados conforme necessário.\n",
        "    - A busca em grade é realizada usando `GridSearchCV` do scikit-learn com validação cruzada para séries temporais (`TimeSeriesSplit`).\n",
        "    - A função utiliza o `KerasClassifier` para integrar modelos do Keras com a interface de busca em grade do scikit-learn.\n",
        "\n",
        "    Exemplo de uso:\n",
        "    ```python\n",
        "    dataset = pd.read_csv('meu_dataset.csv')\n",
        "    networks = [\n",
        "        {\"layers\": [{\"type\": \"lstm\", \"units\": 64}, {\"type\": \"dense\", \"units\": 1, \"activation\": \"sigmoid\"}]},\n",
        "        {\"layers\": [{\"type\": \"lstm\", \"units\": 128}, {\"type\": \"dense\", \"units\": 1, \"activation\": \"sigmoid\"}]}\n",
        "    ]\n",
        "    multi_network_grid_search(dataset, networks)\n",
        "    ```\n",
        "    \"\"\"\n",
        "    FEATURES = 11\n",
        "    time_steps=15\n",
        "    X, y = make_timesteps_sequences(dataset, time_steps)\n",
        "\n",
        "    best_score = []\n",
        "    best_parameters = []\n",
        "    for i, network in enumerate(networks):\n",
        "        print(f\"〉〉〉Starting Grid Search Network {i}\")\n",
        "        kmodel = KerasClassifier(model=lambda: create_model(network), shuffle=False, verbose=0)\n",
        "        param_grid = {\"epochs\":[64, 128], \"batch_size\":[16, 32]}\n",
        "        tscv = TimeSeriesSplit(n_splits=2)\n",
        "        scorer = make_scorer(f1_score)\n",
        "\n",
        "        grid = GridSearchCV(estimator=kmodel, param_grid=param_grid, cv=tscv, scoring=scorer, error_score=-1, verbose=3)\n",
        "        grid_res = grid.fit(X, y)\n",
        "        print(\"Best Parameters:\", grid_res.best_params_)\n",
        "        print(\"Best Score:\", grid_res.best_score_)\n",
        "        best_score.append(grid_res.best_score_)\n",
        "        best_parameters.append(grid_res.best_params_)\n",
        "        print(f\"〉〉〉Ending Grid Search Newtok {i}\")\n",
        "\n",
        "    for i in range(10):\n",
        "        print(f\"Network: {i}, \\t best score:{best_score[i]}, \\t best parameters:{best_parameters[i]}\")\n",
        "    plot_best_scores(best_score)\n",
        "    gc.collect()"
      ]
    },
    {
      "cell_type": "code",
      "execution_count": null,
      "metadata": {
        "id": "wLUa86yV8vln"
      },
      "outputs": [],
      "source": [
        "network_0_config = [\n",
        "    {\"type\": \"dense\", \"units\": 64, \"activation\": \"relu\"},\n",
        "    {\"type\": \"dropout\", \"rate\": 0.2},\n",
        "    {\"type\": \"dense\", \"units\": 64, \"activation\": \"relu\"},\n",
        "    {\"type\": \"dropout\", \"rate\": 0.2},\n",
        "    {\"type\": \"flatten\"}\n",
        "]\n",
        "network_1_config = [\n",
        "    {\"type\": \"conv1d\", \"units\": 64, \"kernel_size\": 5, \"activation\": \"relu\"},\n",
        "    {\"type\": \"dropout\", \"rate\": 0.5},\n",
        "    {\"type\": \"conv1d\", \"units\": 32, \"kernel_size\": 3, \"activation\": \"relu\"},\n",
        "    {\"type\": \"dropout\", \"rate\": 0.5},\n",
        "    {\"type\": \"flatten\"}\n",
        "]\n",
        "network_2_config = [\n",
        "    {\"type\": \"lstm\", \"units\": 64, \"activation\": \"relu\"}\n",
        "]\n",
        "network_3_config = [\n",
        "    {\"type\": \"lstm\", \"units\": 64, \"activation\": \"tanh\", \"return_sequences\": True},\n",
        "    {\"type\": \"batch_normalization\"},\n",
        "    {\"type\": \"lstm\", \"units\": 32, \"activation\": \"tanh\"},\n",
        "    {\"type\": \"batch_normalization\"},\n",
        "    {\"type\": \"dropout\", \"rate\": 0.2},\n",
        "    {\"type\": \"dense\", \"units\": 64, \"activation\": \"relu\"},\n",
        "    {\"type\": \"batch_normalization\"},\n",
        "    {\"type\": \"dropout\", \"rate\": 0.2},\n",
        "    {\"type\": \"dense\", \"units\": 32, \"activation\": \"relu\"},\n",
        "    {\"type\": \"batch_normalization\"}\n",
        "]\n",
        "network_4_config = [\n",
        "    {\"type\": \"lstm\", \"units\": 32, \"activation\": \"tanh\", \"return_sequences\": True},\n",
        "    {\"type\": \"dropout\", \"rate\": 0.3},\n",
        "    {\"type\": \"lstm\", \"units\": 16, \"activation\": \"tanh\"},\n",
        "    {\"type\": \"dropout\", \"rate\": 0.3},\n",
        "    {\"type\": \"dense\", \"units\": 16, \"activation\": \"relu\"},\n",
        "    {\"type\": \"batch_normalization\"}\n",
        "]\n",
        "network_5_config = [\n",
        "    {\"type\": \"conv1d\", \"units\": 32, \"kernel_size\": 3, \"activation\": \"relu\"},\n",
        "    {\"type\": \"max_pooling1d\", \"pool_size\": 2},\n",
        "    {\"type\": \"conv1d\", \"units\": 64, \"kernel_size\": 3, \"activation\": \"relu\"},\n",
        "    {\"type\": \"max_pooling1d\", \"pool_size\": 2},\n",
        "    {\"type\": \"flatten\"},\n",
        "    {\"type\": \"dense\", \"units\": 32, \"activation\": \"relu\"},\n",
        "    {\"type\": \"dropout\", \"rate\": 0.4}\n",
        "]\n",
        "network_6_config = [\n",
        "    {\"type\": \"lstm\", \"units\": 50, \"activation\": \"relu\", \"return_sequences\": True},\n",
        "    {\"type\": \"lstm\", \"units\": 25, \"activation\": \"relu\"},\n",
        "    {\"type\": \"dense\", \"units\": 25, \"activation\": \"relu\"},\n",
        "    {\"type\": \"dropout\", \"rate\": 0.2}\n",
        "]\n",
        "network_7_config = [\n",
        "    {\"type\": \"bidirectional\", \"layer\": {\"type\": \"lstm\", \"units\": 64, \"activation\": \"tanh\"}},\n",
        "    {\"type\": \"dense\", \"units\": 32, \"activation\": \"relu\"},\n",
        "    {\"type\": \"dropout\", \"rate\": 0.25}\n",
        "]\n",
        "network_8_config = [\n",
        "    {\"type\": \"conv1d\", \"units\": 32, \"kernel_size\": 3, \"activation\": \"relu\"},\n",
        "    {\"type\": \"max_pooling1d\", \"pool_size\": 2},\n",
        "    {\"type\": \"lstm\", \"units\": 32, \"activation\": \"tanh\"},\n",
        "    {\"type\": \"dense\", \"units\": 32, \"activation\": \"relu\"},\n",
        "    {\"type\": \"dropout\", \"rate\": 0.3}\n",
        "]\n",
        "network_9_config = [\n",
        "    {\"type\": \"flatten\"},\n",
        "    {\"type\": \"dense\", \"units\": 128, \"activation\": \"relu\"},\n",
        "    {\"type\": \"batch_normalization\"},\n",
        "    {\"type\": \"dense\", \"units\": 64, \"activation\": \"relu\"},\n",
        "    {\"type\": \"batch_normalization\"},\n",
        "    {\"type\": \"dense\", \"units\": 32, \"activation\": \"relu\"},\n",
        "    {\"type\": \"dropout\", \"rate\": 0.3}\n",
        "]\n",
        "\n",
        "networks = [network_1_config, network_2_config, network_3_config, network_4_config, network_5_config, network_6_config, network_7_config, network_8_config, network_9_config, network_10_config]"
      ]
    },
    {
      "cell_type": "markdown",
      "metadata": {
        "id": "9hyemmlticPZ"
      },
      "source": [
        "# BBAS"
      ]
    },
    {
      "cell_type": "code",
      "execution_count": null,
      "metadata": {
        "id": "odgPK2h0knbu"
      },
      "outputs": [],
      "source": [
        "bbas_df = pd.read_csv(\"/content/drive/MyDrive/03_Studies/_FIAP/FIAP2024/DeepLearning/FIAP_PI/BBAS3.SA/treino.csv\")\n",
        "bbas_p = prepare_network_analysis_dataframe(bbas_df)"
      ]
    },
    {
      "cell_type": "code",
      "source": [
        "multi_network_grid_search(bbas_p[1000:1100], networks)"
      ],
      "metadata": {
        "colab": {
          "base_uri": "https://localhost:8080/",
          "height": 1000
        },
        "id": "xIhY9OPMNUlK",
        "outputId": "2233105d-bdd7-432c-d6f2-9c00e34c42c3"
      },
      "execution_count": null,
      "outputs": [
        {
          "output_type": "stream",
          "name": "stdout",
          "text": [
            "X.shape:(85, 15, 11), y.shape:(85,)\n",
            "〉〉〉Starting Grid Search Network 0\n",
            "Fitting 2 folds for each of 4 candidates, totalling 8 fits\n",
            "Creating model: densedropoutdensedropoutflatten[CV 1/2] END ..........batch_size=16, epochs=64;, score=0.000 total time=   1.8s\n",
            "Creating model: densedropoutdensedropoutflatten"
          ]
        },
        {
          "output_type": "stream",
          "name": "stderr",
          "text": [
            "WARNING:tensorflow:5 out of the last 45 calls to <function Model.make_predict_function.<locals>.predict_function at 0x7f87c03b63b0> triggered tf.function retracing. Tracing is expensive and the excessive number of tracings could be due to (1) creating @tf.function repeatedly in a loop, (2) passing tensors with different shapes, (3) passing Python objects instead of tensors. For (1), please define your @tf.function outside of the loop. For (2), @tf.function has reduce_retracing=True option that can avoid unnecessary retracing. For (3), please refer to https://www.tensorflow.org/guide/function#controlling_retracing and https://www.tensorflow.org/api_docs/python/tf/function for  more details.\n"
          ]
        },
        {
          "output_type": "stream",
          "name": "stdout",
          "text": [
            "[CV 2/2] END ..........batch_size=16, epochs=64;, score=0.345 total time=   2.6s\n",
            "Creating model: densedropoutdensedropoutflatten"
          ]
        },
        {
          "output_type": "stream",
          "name": "stderr",
          "text": [
            "WARNING:tensorflow:6 out of the last 47 calls to <function Model.make_predict_function.<locals>.predict_function at 0x7f87aa194700> triggered tf.function retracing. Tracing is expensive and the excessive number of tracings could be due to (1) creating @tf.function repeatedly in a loop, (2) passing tensors with different shapes, (3) passing Python objects instead of tensors. For (1), please define your @tf.function outside of the loop. For (2), @tf.function has reduce_retracing=True option that can avoid unnecessary retracing. For (3), please refer to https://www.tensorflow.org/guide/function#controlling_retracing and https://www.tensorflow.org/api_docs/python/tf/function for  more details.\n"
          ]
        },
        {
          "output_type": "stream",
          "name": "stdout",
          "text": [
            "[CV 1/2] END .........batch_size=16, epochs=128;, score=0.000 total time=   2.6s\n",
            "Creating model: densedropoutdensedropoutflatten[CV 2/2] END .........batch_size=16, epochs=128;, score=0.286 total time=   3.0s\n",
            "Creating model: densedropoutdensedropoutflatten[CV 1/2] END ..........batch_size=32, epochs=64;, score=0.182 total time=   2.6s\n",
            "Creating model: densedropoutdensedropoutflatten[CV 2/2] END ..........batch_size=32, epochs=64;, score=0.923 total time=   1.9s\n",
            "Creating model: densedropoutdensedropoutflatten[CV 1/2] END .........batch_size=32, epochs=128;, score=0.462 total time=   2.6s\n",
            "Creating model: densedropoutdensedropoutflatten[CV 2/2] END .........batch_size=32, epochs=128;, score=0.923 total time=  48.6s\n",
            "Creating model: densedropoutdensedropoutflattenBest Parameters: {'batch_size': 32, 'epochs': 128}\n",
            "Best Score: 0.6923076923076923\n",
            "〉〉〉Ending Grid Search Newtok 0\n",
            "〉〉〉Starting Grid Search Network 1\n",
            "Fitting 2 folds for each of 4 candidates, totalling 8 fits\n",
            "Creating model: conv1ddropoutconv1ddropoutflatten[CV 1/2] END ..........batch_size=16, epochs=64;, score=0.000 total time=   1.8s\n",
            "Creating model: conv1ddropoutconv1ddropoutflatten[CV 2/2] END ..........batch_size=16, epochs=64;, score=0.000 total time=   2.6s\n",
            "Creating model: conv1ddropoutconv1ddropoutflatten[CV 1/2] END .........batch_size=16, epochs=128;, score=0.000 total time=   2.7s\n",
            "Creating model: conv1ddropoutconv1ddropoutflatten[CV 2/2] END .........batch_size=16, epochs=128;, score=0.222 total time=   3.8s\n",
            "Creating model: conv1ddropoutconv1ddropoutflatten[CV 1/2] END ..........batch_size=32, epochs=64;, score=0.000 total time=   1.9s\n",
            "Creating model: conv1ddropoutconv1ddropoutflatten[CV 2/2] END ..........batch_size=32, epochs=64;, score=0.923 total time=   1.9s\n",
            "Creating model: conv1ddropoutconv1ddropoutflatten[CV 1/2] END .........batch_size=32, epochs=128;, score=0.462 total time=   2.6s\n",
            "Creating model: conv1ddropoutconv1ddropoutflatten[CV 2/2] END .........batch_size=32, epochs=128;, score=0.923 total time=   3.0s\n",
            "Creating model: conv1ddropoutconv1ddropoutflattenBest Parameters: {'batch_size': 32, 'epochs': 128}\n",
            "Best Score: 0.6923076923076923\n",
            "〉〉〉Ending Grid Search Newtok 1\n",
            "〉〉〉Starting Grid Search Network 2\n",
            "Fitting 2 folds for each of 4 candidates, totalling 8 fits\n",
            "Creating model: lstm[CV 1/2] END ..........batch_size=16, epochs=64;, score=0.667 total time=   3.1s\n",
            "Creating model: lstm[CV 2/2] END ..........batch_size=16, epochs=64;, score=0.000 total time=   5.4s\n",
            "Creating model: lstm[CV 1/2] END .........batch_size=16, epochs=128;, score=0.643 total time=   4.7s\n",
            "Creating model: lstm[CV 2/2] END .........batch_size=16, epochs=128;, score=0.000 total time=   7.3s\n",
            "Creating model: lstm[CV 1/2] END ..........batch_size=32, epochs=64;, score=0.250 total time=   3.9s\n",
            "Creating model: lstm[CV 2/2] END ..........batch_size=32, epochs=64;, score=0.857 total time=   3.3s\n",
            "Creating model: lstm[CV 1/2] END .........batch_size=32, epochs=128;, score=0.480 total time=   3.3s\n",
            "Creating model: lstm[CV 2/2] END .........batch_size=32, epochs=128;, score=0.833 total time=   5.5s\n",
            "Creating model: lstmBest Parameters: {'batch_size': 32, 'epochs': 128}\n",
            "Best Score: 0.6566666666666667\n",
            "〉〉〉Ending Grid Search Newtok 2\n",
            "〉〉〉Starting Grid Search Network 3\n",
            "Fitting 2 folds for each of 4 candidates, totalling 8 fits\n",
            "Creating model: lstmbatch_normalizationlstmbatch_normalizationdropoutdensebatch_normalizationdropoutdensebatch_normalization[CV 1/2] END ..........batch_size=16, epochs=64;, score=0.545 total time=  10.9s\n",
            "Creating model: lstmbatch_normalizationlstmbatch_normalizationdropoutdensebatch_normalizationdropoutdensebatch_normalization[CV 2/2] END ..........batch_size=16, epochs=64;, score=0.000 total time=  11.9s\n",
            "Creating model: lstmbatch_normalizationlstmbatch_normalizationdropoutdensebatch_normalizationdropoutdensebatch_normalization[CV 1/2] END .........batch_size=16, epochs=128;, score=0.692 total time=  16.9s\n",
            "Creating model: lstmbatch_normalizationlstmbatch_normalizationdropoutdensebatch_normalizationdropoutdensebatch_normalization[CV 2/2] END .........batch_size=16, epochs=128;, score=0.000 total time=  19.5s\n",
            "Creating model: lstmbatch_normalizationlstmbatch_normalizationdropoutdensebatch_normalizationdropoutdensebatch_normalization[CV 1/2] END ..........batch_size=32, epochs=64;, score=0.000 total time=   9.5s\n",
            "Creating model: lstmbatch_normalizationlstmbatch_normalizationdropoutdensebatch_normalizationdropoutdensebatch_normalization[CV 2/2] END ..........batch_size=32, epochs=64;, score=0.000 total time=  12.7s\n",
            "Creating model: lstmbatch_normalizationlstmbatch_normalizationdropoutdensebatch_normalizationdropoutdensebatch_normalization[CV 1/2] END .........batch_size=32, epochs=128;, score=0.552 total time=  10.2s\n",
            "Creating model: lstmbatch_normalizationlstmbatch_normalizationdropoutdensebatch_normalizationdropoutdensebatch_normalization[CV 2/2] END .........batch_size=32, epochs=128;, score=0.923 total time=  14.0s\n",
            "Creating model: lstmbatch_normalizationlstmbatch_normalizationdropoutdensebatch_normalizationdropoutdensebatch_normalizationBest Parameters: {'batch_size': 32, 'epochs': 128}\n",
            "Best Score: 0.7374005305039788\n",
            "〉〉〉Ending Grid Search Newtok 3\n",
            "〉〉〉Starting Grid Search Network 4\n",
            "Fitting 2 folds for each of 4 candidates, totalling 8 fits\n",
            "Creating model: lstmdropoutlstmdropoutdensebatch_normalization[CV 1/2] END ..........batch_size=16, epochs=64;, score=0.000 total time=  10.5s\n",
            "Creating model: lstmdropoutlstmdropoutdensebatch_normalization[CV 2/2] END ..........batch_size=16, epochs=64;, score=0.000 total time=  10.6s\n",
            "Creating model: lstmdropoutlstmdropoutdensebatch_normalization[CV 1/2] END .........batch_size=16, epochs=128;, score=0.462 total time=   8.9s\n",
            "Creating model: lstmdropoutlstmdropoutdensebatch_normalization[CV 2/2] END .........batch_size=16, epochs=128;, score=0.000 total time=  12.4s\n",
            "Creating model: lstmdropoutlstmdropoutdensebatch_normalization[CV 1/2] END ..........batch_size=32, epochs=64;, score=0.100 total time=   9.0s\n",
            "Creating model: lstmdropoutlstmdropoutdensebatch_normalization[CV 2/2] END ..........batch_size=32, epochs=64;, score=0.833 total time=   8.1s\n",
            "Creating model: lstmdropoutlstmdropoutdensebatch_normalization[CV 1/2] END .........batch_size=32, epochs=128;, score=0.690 total time=   8.2s\n",
            "Creating model: lstmdropoutlstmdropoutdensebatch_normalization[CV 2/2] END .........batch_size=32, epochs=128;, score=0.902 total time=  11.3s\n",
            "Creating model: lstmdropoutlstmdropoutdensebatch_normalizationBest Parameters: {'batch_size': 32, 'epochs': 128}\n",
            "Best Score: 0.7958079783637594\n",
            "〉〉〉Ending Grid Search Newtok 4\n",
            "〉〉〉Starting Grid Search Network 5\n",
            "Fitting 2 folds for each of 4 candidates, totalling 8 fits\n",
            "Creating model: conv1dmax_pooling1dconv1dmax_pooling1dflattendensedropout[CV 1/2] END ..........batch_size=16, epochs=64;, score=0.000 total time=   1.9s\n",
            "Creating model: conv1dmax_pooling1dconv1dmax_pooling1dflattendensedropout[CV 2/2] END ..........batch_size=16, epochs=64;, score=0.000 total time=   2.8s\n",
            "Creating model: conv1dmax_pooling1dconv1dmax_pooling1dflattendensedropout[CV 1/2] END .........batch_size=16, epochs=128;, score=0.000 total time=   3.3s\n",
            "Creating model: conv1dmax_pooling1dconv1dmax_pooling1dflattendensedropout[CV 2/2] END .........batch_size=16, epochs=128;, score=0.000 total time=   4.0s\n",
            "Creating model: conv1dmax_pooling1dconv1dmax_pooling1dflattendensedropout[CV 1/2] END ..........batch_size=32, epochs=64;, score=0.000 total time=   2.1s\n",
            "Creating model: conv1dmax_pooling1dconv1dmax_pooling1dflattendensedropout[CV 2/2] END ..........batch_size=32, epochs=64;, score=0.923 total time=   3.7s\n",
            "Creating model: conv1dmax_pooling1dconv1dmax_pooling1dflattendensedropout[CV 1/2] END .........batch_size=32, epochs=128;, score=0.000 total time=   3.4s\n",
            "Creating model: conv1dmax_pooling1dconv1dmax_pooling1dflattendensedropout[CV 2/2] END .........batch_size=32, epochs=128;, score=0.698 total time=   2.8s\n",
            "Creating model: conv1dmax_pooling1dconv1dmax_pooling1dflattendensedropoutBest Parameters: {'batch_size': 32, 'epochs': 64}\n",
            "Best Score: 0.4615384615384615\n",
            "〉〉〉Ending Grid Search Newtok 5\n",
            "〉〉〉Starting Grid Search Network 6\n",
            "Fitting 2 folds for each of 4 candidates, totalling 8 fits\n",
            "Creating model: lstmlstmdensedropout[CV 1/2] END ..........batch_size=16, epochs=64;, score=0.483 total time=   5.5s\n",
            "Creating model: lstmlstmdensedropout[CV 2/2] END ..........batch_size=16, epochs=64;, score=0.000 total time=   9.3s\n",
            "Creating model: lstmlstmdensedropout[CV 1/2] END .........batch_size=16, epochs=128;, score=0.500 total time=   8.0s\n",
            "Creating model: lstmlstmdensedropout[CV 2/2] END .........batch_size=16, epochs=128;, score=0.000 total time=  13.6s\n",
            "Creating model: lstmlstmdensedropout[CV 1/2] END ..........batch_size=32, epochs=64;, score=0.000 total time=   4.6s\n",
            "Creating model: lstmlstmdensedropout[CV 2/2] END ..........batch_size=32, epochs=64;, score=0.857 total time=   6.5s\n",
            "Creating model: lstmlstmdensedropout[CV 1/2] END .........batch_size=32, epochs=128;, score=0.000 total time=   6.0s\n",
            "Creating model: lstmlstmdensedropout[CV 2/2] END .........batch_size=32, epochs=128;, score=0.923 total time=   8.2s\n",
            "Creating model: lstmlstmdensedropoutBest Parameters: {'batch_size': 32, 'epochs': 128}\n",
            "Best Score: 0.4615384615384615\n",
            "〉〉〉Ending Grid Search Newtok 6\n",
            "〉〉〉Starting Grid Search Network 7\n",
            "Fitting 2 folds for each of 4 candidates, totalling 8 fits\n",
            "Creating model: bidirectionaldensedropout[CV 1/2] END ..........batch_size=16, epochs=64;, score=0.486 total time=   8.7s\n",
            "Creating model: bidirectionaldensedropout[CV 2/2] END ..........batch_size=16, epochs=64;, score=0.000 total time=  12.1s\n",
            "Creating model: bidirectionaldensedropout[CV 1/2] END .........batch_size=16, epochs=128;, score=0.526 total time=   9.5s\n",
            "Creating model: bidirectionaldensedropout[CV 2/2] END .........batch_size=16, epochs=128;, score=0.000 total time=  15.8s\n",
            "Creating model: bidirectionaldensedropout[CV 1/2] END ..........batch_size=32, epochs=64;, score=0.385 total time=   6.3s\n",
            "Creating model: bidirectionaldensedropout[CV 2/2] END ..........batch_size=32, epochs=64;, score=0.667 total time=   8.3s\n",
            "Creating model: bidirectionaldensedropout[CV 1/2] END .........batch_size=32, epochs=128;, score=0.500 total time=   7.9s\n",
            "Creating model: bidirectionaldensedropout[CV 2/2] END .........batch_size=32, epochs=128;, score=0.923 total time=  11.0s\n",
            "Creating model: bidirectionaldensedropoutBest Parameters: {'batch_size': 32, 'epochs': 128}\n",
            "Best Score: 0.7115384615384615\n",
            "〉〉〉Ending Grid Search Newtok 7\n",
            "〉〉〉Starting Grid Search Network 8\n",
            "Fitting 2 folds for each of 4 candidates, totalling 8 fits\n",
            "Creating model: conv1dmax_pooling1dlstmdensedropout[CV 1/2] END ..........batch_size=16, epochs=64;, score=0.400 total time=   4.9s\n",
            "Creating model: conv1dmax_pooling1dlstmdensedropout[CV 2/2] END ..........batch_size=16, epochs=64;, score=0.000 total time=   8.7s\n",
            "Creating model: conv1dmax_pooling1dlstmdensedropout[CV 1/2] END .........batch_size=16, epochs=128;, score=0.643 total time=   6.0s\n",
            "Creating model: conv1dmax_pooling1dlstmdensedropout[CV 2/2] END .........batch_size=16, epochs=128;, score=0.400 total time=   6.4s\n",
            "Creating model: conv1dmax_pooling1dlstmdensedropout[CV 1/2] END ..........batch_size=32, epochs=64;, score=0.286 total time=   4.6s\n",
            "Creating model: conv1dmax_pooling1dlstmdensedropout[CV 2/2] END ..........batch_size=32, epochs=64;, score=0.923 total time=   5.6s\n",
            "Creating model: conv1dmax_pooling1dlstmdensedropout[CV 1/2] END .........batch_size=32, epochs=128;, score=0.538 total time=   4.5s\n",
            "Creating model: conv1dmax_pooling1dlstmdensedropout[CV 2/2] END .........batch_size=32, epochs=128;, score=0.923 total time=   6.1s\n",
            "Creating model: conv1dmax_pooling1dlstmdensedropoutBest Parameters: {'batch_size': 32, 'epochs': 128}\n",
            "Best Score: 0.7307692307692307\n",
            "〉〉〉Ending Grid Search Newtok 8\n",
            "〉〉〉Starting Grid Search Network 9\n",
            "Fitting 2 folds for each of 4 candidates, totalling 8 fits\n",
            "Creating model: flattendensebatch_normalizationdensebatch_normalizationdensedropout[CV 1/2] END ..........batch_size=16, epochs=64;, score=0.182 total time=   2.5s\n",
            "Creating model: flattendensebatch_normalizationdensebatch_normalizationdensedropout[CV 2/2] END ..........batch_size=16, epochs=64;, score=0.452 total time=   3.3s\n",
            "Creating model: flattendensebatch_normalizationdensebatch_normalizationdensedropout[CV 1/2] END .........batch_size=16, epochs=128;, score=0.514 total time=   4.1s\n",
            "Creating model: flattendensebatch_normalizationdensebatch_normalizationdensedropout[CV 2/2] END .........batch_size=16, epochs=128;, score=0.727 total time=   3.4s\n",
            "Creating model: flattendensebatch_normalizationdensebatch_normalizationdensedropout[CV 1/2] END ..........batch_size=32, epochs=64;, score=0.400 total time=   2.6s\n",
            "Creating model: flattendensebatch_normalizationdensebatch_normalizationdensedropout[CV 2/2] END ..........batch_size=32, epochs=64;, score=0.923 total time=   2.6s\n",
            "Creating model: flattendensebatch_normalizationdensebatch_normalizationdensedropout[CV 1/2] END .........batch_size=32, epochs=128;, score=0.667 total time=   4.0s\n",
            "Creating model: flattendensebatch_normalizationdensebatch_normalizationdensedropout[CV 2/2] END .........batch_size=32, epochs=128;, score=0.880 total time=   3.2s\n",
            "Creating model: flattendensebatch_normalizationdensebatch_normalizationdensedropoutBest Parameters: {'batch_size': 32, 'epochs': 128}\n",
            "Best Score: 0.7733333333333333\n",
            "〉〉〉Ending Grid Search Newtok 9\n",
            "Network: 0, \t best score:0.6923076923076923, \t best parameters:{'batch_size': 32, 'epochs': 128}\n",
            "Network: 1, \t best score:0.6923076923076923, \t best parameters:{'batch_size': 32, 'epochs': 128}\n",
            "Network: 2, \t best score:0.6566666666666667, \t best parameters:{'batch_size': 32, 'epochs': 128}\n",
            "Network: 3, \t best score:0.7374005305039788, \t best parameters:{'batch_size': 32, 'epochs': 128}\n",
            "Network: 4, \t best score:0.7958079783637594, \t best parameters:{'batch_size': 32, 'epochs': 128}\n",
            "Network: 5, \t best score:0.4615384615384615, \t best parameters:{'batch_size': 32, 'epochs': 64}\n",
            "Network: 6, \t best score:0.4615384615384615, \t best parameters:{'batch_size': 32, 'epochs': 128}\n",
            "Network: 7, \t best score:0.7115384615384615, \t best parameters:{'batch_size': 32, 'epochs': 128}\n",
            "Network: 8, \t best score:0.7307692307692307, \t best parameters:{'batch_size': 32, 'epochs': 128}\n",
            "Network: 9, \t best score:0.7733333333333333, \t best parameters:{'batch_size': 32, 'epochs': 128}\n"
          ]
        },
        {
          "output_type": "display_data",
          "data": {
            "text/plain": [
              "<Figure size 1000x600 with 1 Axes>"
            ],
            "image/png": "[encoded data removed]"
          },
          "metadata": {}
        }
      ]
    },
    {
      "cell_type": "code",
      "source": [
        "modelo_bbas = create_and_train(bbas_p, model=networks[4], batch_size=32, epochs=128)"
      ],
      "metadata": {
        "colab": {
          "base_uri": "https://localhost:8080/",
          "height": 1000
        },
        "id": "mD0PP4E-QlmQ",
        "outputId": "43b6943c-9dd7-4dbd-e153-69333ff3db4e"
      },
      "execution_count": null,
      "outputs": [
        {
          "output_type": "stream",
          "name": "stdout",
          "text": [
            "X.shape:(4720, 15, 11), y.shape:(4720,)\n",
            "Epoch 1/128\n",
            "95/95 [==============================] - 7s 27ms/step - loss: 0.1837 - mse: 0.1837 - val_loss: 0.2399 - val_mse: 0.2399\n",
            "Epoch 2/128\n",
            "95/95 [==============================] - 2s 22ms/step - loss: 0.1380 - mse: 0.1380 - val_loss: 0.2056 - val_mse: 0.2056\n",
            "Epoch 3/128\n",
            "95/95 [==============================] - 2s 19ms/step - loss: 0.1195 - mse: 0.1195 - val_loss: 0.1445 - val_mse: 0.1445\n",
            "Epoch 4/128\n",
            "95/95 [==============================] - 1s 15ms/step - loss: 0.1070 - mse: 0.1070 - val_loss: 0.0966 - val_mse: 0.0966\n",
            "Epoch 5/128\n",
            "95/95 [==============================] - 1s 15ms/step - loss: 0.0955 - mse: 0.0955 - val_loss: 0.0707 - val_mse: 0.0707\n",
            "Epoch 6/128\n",
            "95/95 [==============================] - 1s 15ms/step - loss: 0.0942 - mse: 0.0942 - val_loss: 0.0586 - val_mse: 0.0586\n",
            "Epoch 7/128\n",
            "95/95 [==============================] - 1s 15ms/step - loss: 0.0848 - mse: 0.0848 - val_loss: 0.0538 - val_mse: 0.0538\n",
            "Epoch 8/128\n",
            "95/95 [==============================] - 1s 15ms/step - loss: 0.0836 - mse: 0.0836 - val_loss: 0.0518 - val_mse: 0.0518\n",
            "Epoch 9/128\n",
            "95/95 [==============================] - 1s 15ms/step - loss: 0.0768 - mse: 0.0768 - val_loss: 0.0484 - val_mse: 0.0484\n",
            "Epoch 10/128\n",
            "95/95 [==============================] - 2s 19ms/step - loss: 0.0739 - mse: 0.0739 - val_loss: 0.0469 - val_mse: 0.0469\n",
            "Epoch 11/128\n",
            "95/95 [==============================] - 2s 23ms/step - loss: 0.0721 - mse: 0.0721 - val_loss: 0.0477 - val_mse: 0.0477\n",
            "Epoch 12/128\n",
            "95/95 [==============================] - 2s 17ms/step - loss: 0.0735 - mse: 0.0735 - val_loss: 0.0487 - val_mse: 0.0487\n",
            "Epoch 13/128\n",
            "95/95 [==============================] - 1s 15ms/step - loss: 0.0718 - mse: 0.0718 - val_loss: 0.0477 - val_mse: 0.0477\n",
            "Epoch 14/128\n",
            "95/95 [==============================] - 1s 15ms/step - loss: 0.0679 - mse: 0.0679 - val_loss: 0.0460 - val_mse: 0.0460\n",
            "Epoch 15/128\n",
            "95/95 [==============================] - 1s 15ms/step - loss: 0.0679 - mse: 0.0679 - val_loss: 0.0526 - val_mse: 0.0526\n",
            "Epoch 16/128\n",
            "95/95 [==============================] - 1s 15ms/step - loss: 0.0684 - mse: 0.0684 - val_loss: 0.0449 - val_mse: 0.0449\n",
            "Epoch 17/128\n",
            "95/95 [==============================] - 1s 15ms/step - loss: 0.0693 - mse: 0.0693 - val_loss: 0.0445 - val_mse: 0.0445\n",
            "Epoch 18/128\n",
            "95/95 [==============================] - 1s 15ms/step - loss: 0.0693 - mse: 0.0693 - val_loss: 0.0453 - val_mse: 0.0453\n",
            "Epoch 19/128\n",
            "95/95 [==============================] - 2s 22ms/step - loss: 0.0700 - mse: 0.0700 - val_loss: 0.0465 - val_mse: 0.0465\n",
            "Epoch 20/128\n",
            "95/95 [==============================] - 2s 23ms/step - loss: 0.0696 - mse: 0.0696 - val_loss: 0.0485 - val_mse: 0.0485\n",
            "Epoch 21/128\n",
            "95/95 [==============================] - 1s 16ms/step - loss: 0.0665 - mse: 0.0665 - val_loss: 0.0470 - val_mse: 0.0470\n",
            "Epoch 22/128\n",
            "95/95 [==============================] - 1s 15ms/step - loss: 0.0677 - mse: 0.0677 - val_loss: 0.0470 - val_mse: 0.0470\n",
            "Epoch 23/128\n",
            "95/95 [==============================] - 1s 15ms/step - loss: 0.0671 - mse: 0.0671 - val_loss: 0.0475 - val_mse: 0.0475\n",
            "Epoch 24/128\n",
            "95/95 [==============================] - 1s 15ms/step - loss: 0.0640 - mse: 0.0640 - val_loss: 0.0465 - val_mse: 0.0465\n",
            "Epoch 25/128\n",
            "95/95 [==============================] - 1s 15ms/step - loss: 0.0664 - mse: 0.0664 - val_loss: 0.0480 - val_mse: 0.0480\n",
            "Epoch 26/128\n",
            "95/95 [==============================] - 1s 15ms/step - loss: 0.0620 - mse: 0.0620 - val_loss: 0.0466 - val_mse: 0.0466\n",
            "Epoch 27/128\n",
            "95/95 [==============================] - 2s 17ms/step - loss: 0.0617 - mse: 0.0617 - val_loss: 0.0458 - val_mse: 0.0458\n",
            "Epoch 28/128\n",
            "95/95 [==============================] - 2s 21ms/step - loss: 0.0649 - mse: 0.0649 - val_loss: 0.0466 - val_mse: 0.0466\n",
            "Epoch 29/128\n",
            "95/95 [==============================] - 2s 19ms/step - loss: 0.0631 - mse: 0.0631 - val_loss: 0.0444 - val_mse: 0.0444\n",
            "Epoch 30/128\n",
            "95/95 [==============================] - 1s 15ms/step - loss: 0.0638 - mse: 0.0638 - val_loss: 0.0474 - val_mse: 0.0474\n",
            "Epoch 31/128\n",
            "95/95 [==============================] - 1s 15ms/step - loss: 0.0619 - mse: 0.0619 - val_loss: 0.0493 - val_mse: 0.0493\n",
            "Epoch 32/128\n",
            "95/95 [==============================] - 2s 16ms/step - loss: 0.0674 - mse: 0.0674 - val_loss: 0.0476 - val_mse: 0.0476\n",
            "Epoch 33/128\n",
            "95/95 [==============================] - 1s 15ms/step - loss: 0.0599 - mse: 0.0599 - val_loss: 0.0500 - val_mse: 0.0500\n",
            "Epoch 34/128\n",
            "95/95 [==============================] - 1s 15ms/step - loss: 0.0607 - mse: 0.0607 - val_loss: 0.0490 - val_mse: 0.0490\n",
            "Epoch 35/128\n",
            "95/95 [==============================] - 1s 15ms/step - loss: 0.0586 - mse: 0.0586 - val_loss: 0.0491 - val_mse: 0.0491\n",
            "Epoch 36/128\n",
            "95/95 [==============================] - 2s 19ms/step - loss: 0.0581 - mse: 0.0581 - val_loss: 0.0467 - val_mse: 0.0467\n",
            "Epoch 37/128\n",
            "95/95 [==============================] - 2s 22ms/step - loss: 0.0591 - mse: 0.0591 - val_loss: 0.0456 - val_mse: 0.0456\n",
            "Epoch 38/128\n",
            "95/95 [==============================] - 2s 17ms/step - loss: 0.0605 - mse: 0.0605 - val_loss: 0.0500 - val_mse: 0.0500\n",
            "Epoch 39/128\n",
            "95/95 [==============================] - 1s 15ms/step - loss: 0.0602 - mse: 0.0602 - val_loss: 0.0448 - val_mse: 0.0448\n",
            "Epoch 40/128\n",
            "95/95 [==============================] - 1s 15ms/step - loss: 0.0612 - mse: 0.0612 - val_loss: 0.0463 - val_mse: 0.0463\n",
            "Epoch 41/128\n",
            "95/95 [==============================] - 1s 15ms/step - loss: 0.0595 - mse: 0.0595 - val_loss: 0.0465 - val_mse: 0.0465\n",
            "Epoch 42/128\n",
            "95/95 [==============================] - 1s 15ms/step - loss: 0.0614 - mse: 0.0614 - val_loss: 0.0449 - val_mse: 0.0449\n",
            "Epoch 43/128\n",
            "95/95 [==============================] - 1s 15ms/step - loss: 0.0569 - mse: 0.0569 - val_loss: 0.0441 - val_mse: 0.0441\n",
            "Epoch 44/128\n",
            "95/95 [==============================] - 1s 15ms/step - loss: 0.0596 - mse: 0.0596 - val_loss: 0.0446 - val_mse: 0.0446\n",
            "Epoch 45/128\n",
            "95/95 [==============================] - 2s 21ms/step - loss: 0.0556 - mse: 0.0556 - val_loss: 0.0461 - val_mse: 0.0461\n",
            "Epoch 46/128\n",
            "95/95 [==============================] - 2s 23ms/step - loss: 0.0587 - mse: 0.0587 - val_loss: 0.0489 - val_mse: 0.0489\n",
            "Epoch 47/128\n",
            "95/95 [==============================] - 1s 15ms/step - loss: 0.0553 - mse: 0.0553 - val_loss: 0.0484 - val_mse: 0.0484\n",
            "Epoch 48/128\n",
            "95/95 [==============================] - 1s 15ms/step - loss: 0.0578 - mse: 0.0578 - val_loss: 0.0444 - val_mse: 0.0444\n",
            "Epoch 49/128\n",
            "95/95 [==============================] - 1s 15ms/step - loss: 0.0575 - mse: 0.0575 - val_loss: 0.0458 - val_mse: 0.0458\n",
            "Epoch 50/128\n",
            "95/95 [==============================] - 1s 15ms/step - loss: 0.0566 - mse: 0.0566 - val_loss: 0.0459 - val_mse: 0.0459\n",
            "Epoch 51/128\n",
            "95/95 [==============================] - 1s 15ms/step - loss: 0.0580 - mse: 0.0580 - val_loss: 0.0486 - val_mse: 0.0486\n",
            "Epoch 52/128\n",
            "95/95 [==============================] - 1s 16ms/step - loss: 0.0563 - mse: 0.0563 - val_loss: 0.0463 - val_mse: 0.0463\n",
            "Epoch 53/128\n",
            "95/95 [==============================] - 1s 16ms/step - loss: 0.0573 - mse: 0.0573 - val_loss: 0.0453 - val_mse: 0.0453\n",
            "Epoch 54/128\n",
            "95/95 [==============================] - 2s 22ms/step - loss: 0.0586 - mse: 0.0586 - val_loss: 0.0446 - val_mse: 0.0446\n",
            "Epoch 55/128\n",
            "95/95 [==============================] - 2s 20ms/step - loss: 0.0545 - mse: 0.0545 - val_loss: 0.0449 - val_mse: 0.0449\n",
            "Epoch 56/128\n",
            "95/95 [==============================] - 1s 15ms/step - loss: 0.0564 - mse: 0.0564 - val_loss: 0.0450 - val_mse: 0.0450\n",
            "Epoch 57/128\n",
            "95/95 [==============================] - 1s 15ms/step - loss: 0.0566 - mse: 0.0566 - val_loss: 0.0472 - val_mse: 0.0472\n",
            "Epoch 58/128\n",
            "95/95 [==============================] - 1s 15ms/step - loss: 0.0564 - mse: 0.0564 - val_loss: 0.0473 - val_mse: 0.0473\n",
            "Epoch 59/128\n",
            "95/95 [==============================] - 1s 15ms/step - loss: 0.0560 - mse: 0.0560 - val_loss: 0.0450 - val_mse: 0.0450\n",
            "Epoch 60/128\n",
            "95/95 [==============================] - 1s 15ms/step - loss: 0.0511 - mse: 0.0511 - val_loss: 0.0486 - val_mse: 0.0486\n",
            "Epoch 61/128\n",
            "95/95 [==============================] - 1s 15ms/step - loss: 0.0534 - mse: 0.0534 - val_loss: 0.0468 - val_mse: 0.0468\n",
            "Epoch 62/128\n",
            "95/95 [==============================] - 2s 18ms/step - loss: 0.0512 - mse: 0.0512 - val_loss: 0.0464 - val_mse: 0.0464\n",
            "Epoch 63/128\n",
            "95/95 [==============================] - 2s 22ms/step - loss: 0.0553 - mse: 0.0553 - val_loss: 0.0422 - val_mse: 0.0422\n",
            "Epoch 64/128\n",
            "95/95 [==============================] - 2s 19ms/step - loss: 0.0535 - mse: 0.0535 - val_loss: 0.0440 - val_mse: 0.0440\n",
            "Epoch 65/128\n",
            "95/95 [==============================] - 1s 15ms/step - loss: 0.0516 - mse: 0.0516 - val_loss: 0.0459 - val_mse: 0.0459\n",
            "Epoch 66/128\n",
            "95/95 [==============================] - 1s 15ms/step - loss: 0.0507 - mse: 0.0507 - val_loss: 0.0479 - val_mse: 0.0479\n",
            "Epoch 67/128\n",
            "95/95 [==============================] - 1s 15ms/step - loss: 0.0528 - mse: 0.0528 - val_loss: 0.0456 - val_mse: 0.0456\n",
            "Epoch 68/128\n",
            "95/95 [==============================] - 1s 15ms/step - loss: 0.0540 - mse: 0.0540 - val_loss: 0.0440 - val_mse: 0.0440\n",
            "Epoch 69/128\n",
            "95/95 [==============================] - 1s 15ms/step - loss: 0.0537 - mse: 0.0537 - val_loss: 0.0442 - val_mse: 0.0442\n",
            "Epoch 70/128\n",
            "95/95 [==============================] - 1s 15ms/step - loss: 0.0508 - mse: 0.0508 - val_loss: 0.0459 - val_mse: 0.0459\n",
            "Epoch 71/128\n",
            "95/95 [==============================] - 2s 20ms/step - loss: 0.0474 - mse: 0.0474 - val_loss: 0.0435 - val_mse: 0.0435\n",
            "Epoch 72/128\n",
            "95/95 [==============================] - 2s 23ms/step - loss: 0.0506 - mse: 0.0506 - val_loss: 0.0447 - val_mse: 0.0447\n",
            "Epoch 73/128\n",
            "95/95 [==============================] - 2s 16ms/step - loss: 0.0495 - mse: 0.0495 - val_loss: 0.0462 - val_mse: 0.0462\n",
            "Epoch 74/128\n",
            "95/95 [==============================] - 1s 15ms/step - loss: 0.0477 - mse: 0.0477 - val_loss: 0.0459 - val_mse: 0.0459\n",
            "Epoch 75/128\n",
            "95/95 [==============================] - 1s 15ms/step - loss: 0.0567 - mse: 0.0567 - val_loss: 0.0466 - val_mse: 0.0466\n",
            "Epoch 76/128\n",
            "95/95 [==============================] - 1s 15ms/step - loss: 0.0469 - mse: 0.0469 - val_loss: 0.0455 - val_mse: 0.0455\n",
            "Epoch 77/128\n",
            "95/95 [==============================] - 1s 15ms/step - loss: 0.0523 - mse: 0.0523 - val_loss: 0.0449 - val_mse: 0.0449\n",
            "Epoch 78/128\n",
            "95/95 [==============================] - 1s 15ms/step - loss: 0.0479 - mse: 0.0479 - val_loss: 0.0450 - val_mse: 0.0450\n",
            "Epoch 79/128\n",
            "95/95 [==============================] - 1s 16ms/step - loss: 0.0523 - mse: 0.0523 - val_loss: 0.0464 - val_mse: 0.0464\n",
            "Epoch 80/128\n",
            "95/95 [==============================] - 2s 22ms/step - loss: 0.0489 - mse: 0.0489 - val_loss: 0.0485 - val_mse: 0.0485\n",
            "Epoch 81/128\n",
            "95/95 [==============================] - 2s 21ms/step - loss: 0.0479 - mse: 0.0479 - val_loss: 0.0497 - val_mse: 0.0497\n",
            "Epoch 82/128\n",
            "95/95 [==============================] - 1s 15ms/step - loss: 0.0471 - mse: 0.0471 - val_loss: 0.0474 - val_mse: 0.0474\n",
            "Epoch 83/128\n",
            "95/95 [==============================] - 1s 15ms/step - loss: 0.0488 - mse: 0.0488 - val_loss: 0.0490 - val_mse: 0.0490\n",
            "Epoch 84/128\n",
            "95/95 [==============================] - 1s 15ms/step - loss: 0.0477 - mse: 0.0477 - val_loss: 0.0505 - val_mse: 0.0505\n",
            "Epoch 85/128\n",
            "95/95 [==============================] - 1s 15ms/step - loss: 0.0522 - mse: 0.0522 - val_loss: 0.0523 - val_mse: 0.0523\n",
            "Epoch 86/128\n",
            "95/95 [==============================] - 1s 15ms/step - loss: 0.0456 - mse: 0.0456 - val_loss: 0.0481 - val_mse: 0.0481\n",
            "Epoch 87/128\n",
            "95/95 [==============================] - 1s 15ms/step - loss: 0.0489 - mse: 0.0489 - val_loss: 0.0481 - val_mse: 0.0481\n",
            "Epoch 88/128\n",
            "95/95 [==============================] - 2s 18ms/step - loss: 0.0482 - mse: 0.0482 - val_loss: 0.0550 - val_mse: 0.0550\n",
            "Epoch 89/128\n",
            "95/95 [==============================] - 2s 23ms/step - loss: 0.0493 - mse: 0.0493 - val_loss: 0.0488 - val_mse: 0.0488\n",
            "Epoch 90/128\n",
            "95/95 [==============================] - 2s 19ms/step - loss: 0.0451 - mse: 0.0451 - val_loss: 0.0559 - val_mse: 0.0559\n",
            "Epoch 91/128\n",
            "95/95 [==============================] - 1s 15ms/step - loss: 0.0465 - mse: 0.0465 - val_loss: 0.0566 - val_mse: 0.0566\n",
            "Epoch 92/128\n",
            "95/95 [==============================] - 2s 16ms/step - loss: 0.0459 - mse: 0.0459 - val_loss: 0.0555 - val_mse: 0.0555\n",
            "Epoch 93/128\n",
            "95/95 [==============================] - 2s 16ms/step - loss: 0.0417 - mse: 0.0417 - val_loss: 0.0524 - val_mse: 0.0524\n",
            "Epoch 94/128\n",
            "95/95 [==============================] - 1s 15ms/step - loss: 0.0466 - mse: 0.0466 - val_loss: 0.0528 - val_mse: 0.0528\n",
            "Epoch 95/128\n",
            "95/95 [==============================] - 1s 15ms/step - loss: 0.0496 - mse: 0.0496 - val_loss: 0.0505 - val_mse: 0.0505\n",
            "Epoch 96/128\n",
            "95/95 [==============================] - 1s 15ms/step - loss: 0.0459 - mse: 0.0459 - val_loss: 0.0519 - val_mse: 0.0519\n",
            "Epoch 97/128\n",
            "95/95 [==============================] - 2s 21ms/step - loss: 0.0436 - mse: 0.0436 - val_loss: 0.0539 - val_mse: 0.0539\n",
            "Epoch 98/128\n",
            "95/95 [==============================] - 2s 22ms/step - loss: 0.0458 - mse: 0.0458 - val_loss: 0.0553 - val_mse: 0.0553\n",
            "Epoch 99/128\n",
            "95/95 [==============================] - 1s 15ms/step - loss: 0.0437 - mse: 0.0437 - val_loss: 0.0553 - val_mse: 0.0553\n",
            "Epoch 100/128\n",
            "95/95 [==============================] - 1s 15ms/step - loss: 0.0443 - mse: 0.0443 - val_loss: 0.0522 - val_mse: 0.0522\n",
            "Epoch 101/128\n",
            "95/95 [==============================] - 2s 16ms/step - loss: 0.0458 - mse: 0.0458 - val_loss: 0.0522 - val_mse: 0.0522\n",
            "Epoch 102/128\n",
            "95/95 [==============================] - 1s 15ms/step - loss: 0.0455 - mse: 0.0455 - val_loss: 0.0545 - val_mse: 0.0545\n",
            "Epoch 103/128\n",
            "95/95 [==============================] - 1s 16ms/step - loss: 0.0413 - mse: 0.0413 - val_loss: 0.0538 - val_mse: 0.0538\n",
            "Epoch 104/128\n",
            "95/95 [==============================] - 1s 15ms/step - loss: 0.0400 - mse: 0.0400 - val_loss: 0.0548 - val_mse: 0.0548\n",
            "Epoch 105/128\n",
            "95/95 [==============================] - 2s 17ms/step - loss: 0.0467 - mse: 0.0467 - val_loss: 0.0503 - val_mse: 0.0503\n",
            "Epoch 106/128\n",
            "95/95 [==============================] - 2s 22ms/step - loss: 0.0423 - mse: 0.0423 - val_loss: 0.0529 - val_mse: 0.0529\n",
            "Epoch 107/128\n",
            "95/95 [==============================] - 2s 20ms/step - loss: 0.0442 - mse: 0.0442 - val_loss: 0.0514 - val_mse: 0.0514\n",
            "Epoch 108/128\n",
            "95/95 [==============================] - 1s 16ms/step - loss: 0.0448 - mse: 0.0448 - val_loss: 0.0522 - val_mse: 0.0522\n",
            "Epoch 109/128\n",
            "95/95 [==============================] - 1s 15ms/step - loss: 0.0431 - mse: 0.0431 - val_loss: 0.0585 - val_mse: 0.0585\n",
            "Epoch 110/128\n",
            "95/95 [==============================] - 1s 15ms/step - loss: 0.0437 - mse: 0.0437 - val_loss: 0.0672 - val_mse: 0.0672\n",
            "Epoch 111/128\n",
            "95/95 [==============================] - 1s 15ms/step - loss: 0.0420 - mse: 0.0420 - val_loss: 0.0548 - val_mse: 0.0548\n",
            "Epoch 112/128\n",
            "95/95 [==============================] - 1s 15ms/step - loss: 0.0443 - mse: 0.0443 - val_loss: 0.0572 - val_mse: 0.0572\n",
            "Epoch 113/128\n",
            "95/95 [==============================] - 1s 15ms/step - loss: 0.0421 - mse: 0.0421 - val_loss: 0.0577 - val_mse: 0.0577\n",
            "Epoch 114/128\n",
            "95/95 [==============================] - 2s 20ms/step - loss: 0.0451 - mse: 0.0451 - val_loss: 0.0541 - val_mse: 0.0541\n",
            "Epoch 115/128\n",
            "95/95 [==============================] - 2s 23ms/step - loss: 0.0405 - mse: 0.0405 - val_loss: 0.0595 - val_mse: 0.0595\n",
            "Epoch 116/128\n",
            "95/95 [==============================] - 2s 17ms/step - loss: 0.0409 - mse: 0.0409 - val_loss: 0.0584 - val_mse: 0.0584\n",
            "Epoch 117/128\n",
            "95/95 [==============================] - 1s 16ms/step - loss: 0.0421 - mse: 0.0421 - val_loss: 0.0597 - val_mse: 0.0597\n",
            "Epoch 118/128\n",
            "95/95 [==============================] - 1s 15ms/step - loss: 0.0388 - mse: 0.0388 - val_loss: 0.0579 - val_mse: 0.0579\n",
            "Epoch 119/128\n",
            "95/95 [==============================] - 1s 15ms/step - loss: 0.0417 - mse: 0.0417 - val_loss: 0.0592 - val_mse: 0.0592\n",
            "Epoch 120/128\n",
            "95/95 [==============================] - 1s 15ms/step - loss: 0.0400 - mse: 0.0400 - val_loss: 0.0617 - val_mse: 0.0617\n",
            "Epoch 121/128\n",
            "95/95 [==============================] - 1s 15ms/step - loss: 0.0395 - mse: 0.0395 - val_loss: 0.0584 - val_mse: 0.0584\n",
            "Epoch 122/128\n",
            "95/95 [==============================] - 1s 15ms/step - loss: 0.0404 - mse: 0.0404 - val_loss: 0.0620 - val_mse: 0.0620\n",
            "Epoch 123/128\n",
            "95/95 [==============================] - 2s 23ms/step - loss: 0.0360 - mse: 0.0360 - val_loss: 0.0613 - val_mse: 0.0613\n",
            "Epoch 124/128\n",
            "95/95 [==============================] - 2s 21ms/step - loss: 0.0370 - mse: 0.0370 - val_loss: 0.0637 - val_mse: 0.0637\n",
            "Epoch 125/128\n",
            "95/95 [==============================] - 1s 15ms/step - loss: 0.0389 - mse: 0.0389 - val_loss: 0.0630 - val_mse: 0.0630\n",
            "Epoch 126/128\n",
            "95/95 [==============================] - 1s 15ms/step - loss: 0.0367 - mse: 0.0367 - val_loss: 0.0646 - val_mse: 0.0646\n",
            "Epoch 127/128\n",
            "95/95 [==============================] - 1s 15ms/step - loss: 0.0362 - mse: 0.0362 - val_loss: 0.0638 - val_mse: 0.0638\n",
            "Epoch 128/128\n",
            "95/95 [==============================] - 1s 15ms/step - loss: 0.0356 - mse: 0.0356 - val_loss: 0.0655 - val_mse: 0.0655\n",
            "30/30 [==============================] - 1s 5ms/step\n"
          ]
        },
        {
          "output_type": "display_data",
          "data": {
            "text/plain": [
              "<Figure size 640x480 with 2 Axes>"
            ],
            "image/png": "[encoded data removed]"
          },
          "metadata": {}
        },
        {
          "output_type": "stream",
          "name": "stdout",
          "text": [
            "Acurácia: 0.9163135593220338, Precisão: 0.9379310344827586, Recall: 0.8869565217391304, F1: 0.911731843575419\n"
          ]
        }
      ]
    },
    {
      "cell_type": "code",
      "source": [
        "bbas_df_t = pd.read_csv(\"/content/drive/MyDrive/03_Studies/_FIAP/FIAP2024/DeepLearning/FIAP_PI/BBAS3.SA/teste.csv\")\n",
        "validate_model(bbas_df_t, modelo_bba, 15)"
      ],
      "metadata": {
        "colab": {
          "base_uri": "https://localhost:8080/",
          "height": 501
        },
        "id": "cB_IbyaDT8Tw",
        "outputId": "a2ddc8d0-52ed-47a0-fdf3-b840662bd45b"
      },
      "execution_count": null,
      "outputs": [
        {
          "output_type": "stream",
          "name": "stdout",
          "text": [
            "X.shape:(1170, 15, 11), y.shape:(1170,)\n",
            "37/37 [==============================] - 0s 8ms/step\n"
          ]
        },
        {
          "output_type": "display_data",
          "data": {
            "text/plain": [
              "<Figure size 640x480 with 2 Axes>"
            ],
            "image/png": "[encoded data removed]"
          },
          "metadata": {}
        },
        {
          "output_type": "stream",
          "name": "stdout",
          "text": [
            "Acurácia: 0.43675213675213675, Precisão: 0.42943722943722945, Recall: 1.0, F1: 0.600847970926711\n"
          ]
        }
      ]
    },
    {
      "cell_type": "markdown",
      "source": [
        "# VALE"
      ],
      "metadata": {
        "id": "99g5h0MUUKKv"
      }
    },
    {
      "cell_type": "code",
      "execution_count": null,
      "metadata": {
        "id": "Wf2LDio7k1C0"
      },
      "outputs": [],
      "source": [
        "vale_df = pd.read_csv(\"/content/drive/MyDrive/03_Studies/_FIAP/FIAP2024/DeepLearning/FIAP_PI/VALE3.SA/treino.csv\")\n",
        "vale_p = prepare_network_analysis_dataframe(vale_df)"
      ]
    },
    {
      "cell_type": "code",
      "source": [
        "multi_network_grid_search(vale_p[1000:1100], networks)"
      ],
      "metadata": {
        "colab": {
          "base_uri": "https://localhost:8080/",
          "height": 1000
        },
        "id": "ulNnuxPgUgID",
        "outputId": "ddce3fbc-baca-4edd-f298-f44e58282710"
      },
      "execution_count": null,
      "outputs": [
        {
          "output_type": "stream",
          "name": "stdout",
          "text": [
            "X.shape:(85, 15, 11), y.shape:(85,)\n",
            "〉〉〉Starting Grid Search Network 0\n",
            "Fitting 2 folds for each of 4 candidates, totalling 8 fits\n",
            "[CV 1/2] END ..........batch_size=16, epochs=64;, score=0.333 total time=   5.0s\n",
            "[CV 2/2] END ..........batch_size=16, epochs=64;, score=0.667 total time=   4.8s\n",
            "[CV 1/2] END .........batch_size=16, epochs=128;, score=0.667 total time=   3.6s\n",
            "[CV 2/2] END .........batch_size=16, epochs=128;, score=0.667 total time=   4.3s\n",
            "[CV 1/2] END ..........batch_size=32, epochs=64;, score=0.400 total time=   2.0s\n",
            "[CV 2/2] END ..........batch_size=32, epochs=64;, score=0.000 total time=   2.1s\n",
            "[CV 1/2] END .........batch_size=32, epochs=128;, score=0.400 total time=   2.6s\n",
            "[CV 2/2] END .........batch_size=32, epochs=128;, score=0.667 total time=   4.3s\n",
            "Best Parameters: {'batch_size': 16, 'epochs': 128}\n",
            "Best Score: 0.6666666666666665\n",
            "〉〉〉Ending Grid Search Newtok 0\n",
            "〉〉〉Starting Grid Search Network 1\n",
            "Fitting 2 folds for each of 4 candidates, totalling 8 fits\n",
            "[CV 1/2] END ..........batch_size=16, epochs=64;, score=0.000 total time=   2.0s\n",
            "[CV 2/2] END ..........batch_size=16, epochs=64;, score=0.667 total time=   2.6s\n",
            "[CV 1/2] END .........batch_size=16, epochs=128;, score=0.750 total time=   2.7s\n",
            "[CV 2/2] END .........batch_size=16, epochs=128;, score=0.667 total time=   3.5s\n",
            "[CV 1/2] END ..........batch_size=32, epochs=64;, score=0.400 total time=   1.7s\n",
            "[CV 2/2] END ..........batch_size=32, epochs=64;, score=0.000 total time=   1.8s\n",
            "[CV 1/2] END .........batch_size=32, epochs=128;, score=0.000 total time=   2.5s\n",
            "[CV 2/2] END .........batch_size=32, epochs=128;, score=0.000 total time=   2.4s\n",
            "Best Parameters: {'batch_size': 16, 'epochs': 128}\n",
            "Best Score: 0.7083333333333333\n",
            "〉〉〉Ending Grid Search Newtok 1\n",
            "〉〉〉Starting Grid Search Network 2\n",
            "Fitting 2 folds for each of 4 candidates, totalling 8 fits\n",
            "[CV 1/2] END ..........batch_size=16, epochs=64;, score=0.571 total time=   3.1s\n",
            "[CV 2/2] END ..........batch_size=16, epochs=64;, score=0.000 total time=   4.6s\n",
            "[CV 1/2] END .........batch_size=16, epochs=128;, score=0.857 total time=   7.2s\n",
            "[CV 2/2] END .........batch_size=16, epochs=128;, score=0.800 total time=   6.1s\n",
            "[CV 1/2] END ..........batch_size=32, epochs=64;, score=0.400 total time=   3.4s\n",
            "[CV 2/2] END ..........batch_size=32, epochs=64;, score=0.000 total time=   6.7s\n",
            "[CV 1/2] END .........batch_size=32, epochs=128;, score=0.400 total time=   3.4s\n",
            "[CV 2/2] END .........batch_size=32, epochs=128;, score=0.941 total time=   5.6s\n",
            "Best Parameters: {'batch_size': 16, 'epochs': 128}\n",
            "Best Score: 0.8285714285714285\n",
            "〉〉〉Ending Grid Search Newtok 2\n",
            "〉〉〉Starting Grid Search Network 3\n",
            "Fitting 2 folds for each of 4 candidates, totalling 8 fits\n",
            "[CV 1/2] END ..........batch_size=16, epochs=64;, score=0.462 total time=   9.3s\n",
            "[CV 2/2] END ..........batch_size=16, epochs=64;, score=0.769 total time=  16.1s\n",
            "[CV 1/2] END .........batch_size=16, epochs=128;, score=0.000 total time=  12.5s\n",
            "[CV 2/2] END .........batch_size=16, epochs=128;, score=0.400 total time=  16.2s\n",
            "[CV 1/2] END ..........batch_size=32, epochs=64;, score=0.400 total time=  11.1s\n",
            "[CV 2/2] END ..........batch_size=32, epochs=64;, score=0.933 total time=   9.6s\n",
            "[CV 1/2] END .........batch_size=32, epochs=128;, score=0.375 total time=  10.2s\n",
            "[CV 2/2] END .........batch_size=32, epochs=128;, score=0.857 total time=  12.4s\n",
            "Best Parameters: {'batch_size': 32, 'epochs': 64}\n",
            "Best Score: 0.6666666666666667\n",
            "〉〉〉Ending Grid Search Newtok 3\n",
            "〉〉〉Starting Grid Search Network 4\n",
            "Fitting 2 folds for each of 4 candidates, totalling 8 fits\n",
            "[CV 1/2] END ..........batch_size=16, epochs=64;, score=0.438 total time=   8.0s\n",
            "[CV 2/2] END ..........batch_size=16, epochs=64;, score=0.667 total time=   9.9s\n",
            "[CV 1/2] END .........batch_size=16, epochs=128;, score=0.000 total time=  10.8s\n",
            "[CV 2/2] END .........batch_size=16, epochs=128;, score=0.545 total time=  20.3s\n",
            "[CV 1/2] END ..........batch_size=32, epochs=64;, score=0.400 total time=   9.2s\n",
            "[CV 2/2] END ..........batch_size=32, epochs=64;, score=0.000 total time=  10.7s\n",
            "[CV 1/2] END .........batch_size=32, epochs=128;, score=0.308 total time=   8.2s\n",
            "[CV 2/2] END .........batch_size=32, epochs=128;, score=0.000 total time=  11.4s\n",
            "Best Parameters: {'batch_size': 16, 'epochs': 64}\n",
            "Best Score: 0.5520833333333334\n",
            "〉〉〉Ending Grid Search Newtok 4\n",
            "〉〉〉Starting Grid Search Network 5\n",
            "Fitting 2 folds for each of 4 candidates, totalling 8 fits\n",
            "[CV 1/2] END ..........batch_size=16, epochs=64;, score=0.143 total time=   2.1s\n",
            "[CV 2/2] END ..........batch_size=16, epochs=64;, score=0.769 total time=   2.8s\n",
            "[CV 1/2] END .........batch_size=16, epochs=128;, score=0.000 total time=   3.3s\n",
            "[CV 2/2] END .........batch_size=16, epochs=128;, score=0.588 total time=   2.8s\n",
            "[CV 1/2] END ..........batch_size=32, epochs=64;, score=0.400 total time=   2.1s\n",
            "[CV 2/2] END ..........batch_size=32, epochs=64;, score=0.182 total time=   2.1s\n",
            "[CV 1/2] END .........batch_size=32, epochs=128;, score=0.348 total time=   2.3s\n",
            "[CV 2/2] END .........batch_size=32, epochs=128;, score=0.667 total time=   3.4s\n",
            "Best Parameters: {'batch_size': 32, 'epochs': 128}\n",
            "Best Score: 0.5072463768115942\n",
            "〉〉〉Ending Grid Search Newtok 5\n",
            "〉〉〉Starting Grid Search Network 6\n",
            "Fitting 2 folds for each of 4 candidates, totalling 8 fits\n",
            "[CV 1/2] END ..........batch_size=16, epochs=64;, score=0.387 total time=   5.0s\n",
            "[CV 2/2] END ..........batch_size=16, epochs=64;, score=0.545 total time=   9.1s\n",
            "[CV 1/2] END .........batch_size=16, epochs=128;, score=0.545 total time=   8.7s\n",
            "[CV 2/2] END .........batch_size=16, epochs=128;, score=0.842 total time=   9.4s\n",
            "[CV 1/2] END ..........batch_size=32, epochs=64;, score=0.400 total time=   5.8s\n",
            "[CV 2/2] END ..........batch_size=32, epochs=64;, score=0.000 total time=   5.3s\n",
            "[CV 1/2] END .........batch_size=32, epochs=128;, score=0.348 total time=   6.8s\n",
            "[CV 2/2] END .........batch_size=32, epochs=128;, score=0.471 total time=   6.9s\n",
            "Best Parameters: {'batch_size': 16, 'epochs': 128}\n",
            "Best Score: 0.69377990430622\n",
            "〉〉〉Ending Grid Search Newtok 6\n",
            "〉〉〉Starting Grid Search Network 7\n",
            "Fitting 2 folds for each of 4 candidates, totalling 8 fits\n",
            "[CV 1/2] END ..........batch_size=16, epochs=64;, score=0.000 total time=  11.0s\n",
            "[CV 2/2] END ..........batch_size=16, epochs=64;, score=0.000 total time=  10.3s\n",
            "[CV 1/2] END .........batch_size=16, epochs=128;, score=0.000 total time=  20.2s\n",
            "[CV 2/2] END .........batch_size=16, epochs=128;, score=0.857 total time=  14.0s\n",
            "[CV 1/2] END ..........batch_size=32, epochs=64;, score=0.400 total time=   8.8s\n",
            "[CV 2/2] END ..........batch_size=32, epochs=64;, score=0.000 total time=   8.1s\n",
            "[CV 1/2] END .........batch_size=32, epochs=128;, score=0.000 total time=   8.2s\n",
            "[CV 2/2] END .........batch_size=32, epochs=128;, score=0.857 total time=  10.3s\n",
            "Best Parameters: {'batch_size': 16, 'epochs': 128}\n",
            "Best Score: 0.42857142857142855\n",
            "〉〉〉Ending Grid Search Newtok 7\n",
            "〉〉〉Starting Grid Search Network 8\n",
            "Fitting 2 folds for each of 4 candidates, totalling 8 fits\n",
            "[CV 1/2] END ..........batch_size=16, epochs=64;, score=0.000 total time=   4.6s\n",
            "[CV 2/2] END ..........batch_size=16, epochs=64;, score=0.545 total time=   6.2s\n",
            "[CV 1/2] END .........batch_size=16, epochs=128;, score=0.000 total time=   4.9s\n",
            "[CV 2/2] END .........batch_size=16, epochs=128;, score=0.941 total time=   6.4s\n",
            "[CV 1/2] END ..........batch_size=32, epochs=64;, score=0.400 total time=   4.6s\n",
            "[CV 2/2] END ..........batch_size=32, epochs=64;, score=0.000 total time=   4.2s\n",
            "[CV 1/2] END .........batch_size=32, epochs=128;, score=0.190 total time=   4.7s\n",
            "[CV 2/2] END .........batch_size=32, epochs=128;, score=0.933 total time=   5.5s\n",
            "Best Parameters: {'batch_size': 32, 'epochs': 128}\n",
            "Best Score: 0.5619047619047619\n",
            "〉〉〉Ending Grid Search Newtok 8\n",
            "〉〉〉Starting Grid Search Network 9\n",
            "Fitting 2 folds for each of 4 candidates, totalling 8 fits\n",
            "[CV 1/2] END ..........batch_size=16, epochs=64;, score=0.000 total time=   2.9s\n",
            "[CV 2/2] END ..........batch_size=16, epochs=64;, score=0.545 total time=   3.8s\n",
            "[CV 1/2] END .........batch_size=16, epochs=128;, score=0.600 total time=   2.8s\n",
            "[CV 2/2] END .........batch_size=16, epochs=128;, score=0.875 total time=   4.6s\n",
            "[CV 1/2] END ..........batch_size=32, epochs=64;, score=0.522 total time=   3.2s\n",
            "[CV 2/2] END ..........batch_size=32, epochs=64;, score=0.667 total time=   2.9s\n",
            "[CV 1/2] END .........batch_size=32, epochs=128;, score=0.444 total time=   2.5s\n",
            "[CV 2/2] END .........batch_size=32, epochs=128;, score=0.727 total time=   3.2s\n",
            "Best Parameters: {'batch_size': 16, 'epochs': 128}\n",
            "Best Score: 0.7375\n",
            "〉〉〉Ending Grid Search Newtok 9\n",
            "Network: 0, \t best score:0.6666666666666665, \t best parameters:{'batch_size': 16, 'epochs': 128}\n",
            "Network: 1, \t best score:0.7083333333333333, \t best parameters:{'batch_size': 16, 'epochs': 128}\n",
            "Network: 2, \t best score:0.8285714285714285, \t best parameters:{'batch_size': 16, 'epochs': 128}\n",
            "Network: 3, \t best score:0.6666666666666667, \t best parameters:{'batch_size': 32, 'epochs': 64}\n",
            "Network: 4, \t best score:0.5520833333333334, \t best parameters:{'batch_size': 16, 'epochs': 64}\n",
            "Network: 5, \t best score:0.5072463768115942, \t best parameters:{'batch_size': 32, 'epochs': 128}\n",
            "Network: 6, \t best score:0.69377990430622, \t best parameters:{'batch_size': 16, 'epochs': 128}\n",
            "Network: 7, \t best score:0.42857142857142855, \t best parameters:{'batch_size': 16, 'epochs': 128}\n",
            "Network: 8, \t best score:0.5619047619047619, \t best parameters:{'batch_size': 32, 'epochs': 128}\n",
            "Network: 9, \t best score:0.7375, \t best parameters:{'batch_size': 16, 'epochs': 128}\n"
          ]
        },
        {
          "output_type": "display_data",
          "data": {
            "text/plain": [
              "<Figure size 1000x600 with 1 Axes>"
            ],
            "image/png": "[encoded data removed]"
          },
          "metadata": {}
        }
      ]
    },
    {
      "cell_type": "code",
      "source": [
        "modelo_vale = create_and_train(vale_p, model=networks[2], batch_size=16, epochs=128)"
      ],
      "metadata": {
        "colab": {
          "base_uri": "https://localhost:8080/",
          "height": 1000
        },
        "id": "tbfbPFWtXH-1",
        "outputId": "9704682c-1481-495d-93f7-b71562679b76"
      },
      "execution_count": null,
      "outputs": [
        {
          "output_type": "stream",
          "name": "stdout",
          "text": [
            "X.shape:(4793, 15, 11), y.shape:(4793,)\n",
            "Epoch 1/128\n",
            "192/192 [==============================] - 4s 12ms/step - loss: 0.1361 - mse: 0.1361 - val_loss: 0.2274 - val_mse: 0.2274\n",
            "Epoch 2/128\n",
            "192/192 [==============================] - 3s 15ms/step - loss: 0.0969 - mse: 0.0969 - val_loss: 0.1060 - val_mse: 0.1060\n",
            "Epoch 3/128\n",
            "192/192 [==============================] - 3s 13ms/step - loss: 0.0852 - mse: 0.0852 - val_loss: 0.0797 - val_mse: 0.0797\n",
            "Epoch 4/128\n",
            "192/192 [==============================] - 2s 11ms/step - loss: 0.0835 - mse: 0.0835 - val_loss: 0.0644 - val_mse: 0.0644\n",
            "Epoch 5/128\n",
            "192/192 [==============================] - 2s 11ms/step - loss: 0.0784 - mse: 0.0784 - val_loss: 0.0666 - val_mse: 0.0666\n",
            "Epoch 6/128\n",
            "192/192 [==============================] - 2s 11ms/step - loss: 0.0774 - mse: 0.0774 - val_loss: 0.0633 - val_mse: 0.0633\n",
            "Epoch 7/128\n",
            "192/192 [==============================] - 2s 11ms/step - loss: 0.0785 - mse: 0.0785 - val_loss: 0.0649 - val_mse: 0.0649\n",
            "Epoch 8/128\n",
            "192/192 [==============================] - 3s 16ms/step - loss: 0.0732 - mse: 0.0732 - val_loss: 0.0676 - val_mse: 0.0676\n",
            "Epoch 9/128\n",
            "192/192 [==============================] - 2s 13ms/step - loss: 0.0723 - mse: 0.0723 - val_loss: 0.0639 - val_mse: 0.0639\n",
            "Epoch 10/128\n",
            "192/192 [==============================] - 2s 11ms/step - loss: 0.0721 - mse: 0.0721 - val_loss: 0.0623 - val_mse: 0.0623\n",
            "Epoch 11/128\n",
            "192/192 [==============================] - 2s 11ms/step - loss: 0.0693 - mse: 0.0693 - val_loss: 0.0655 - val_mse: 0.0655\n",
            "Epoch 12/128\n",
            "192/192 [==============================] - 2s 11ms/step - loss: 0.0701 - mse: 0.0701 - val_loss: 0.0638 - val_mse: 0.0638\n",
            "Epoch 13/128\n",
            "192/192 [==============================] - 2s 12ms/step - loss: 0.0674 - mse: 0.0674 - val_loss: 0.0645 - val_mse: 0.0645\n",
            "Epoch 14/128\n",
            "192/192 [==============================] - 3s 16ms/step - loss: 0.0703 - mse: 0.0703 - val_loss: 0.0598 - val_mse: 0.0598\n",
            "Epoch 15/128\n",
            "192/192 [==============================] - 2s 11ms/step - loss: 0.0681 - mse: 0.0681 - val_loss: 0.0633 - val_mse: 0.0633\n",
            "Epoch 16/128\n",
            "192/192 [==============================] - 2s 11ms/step - loss: 0.0657 - mse: 0.0657 - val_loss: 0.0623 - val_mse: 0.0623\n",
            "Epoch 17/128\n",
            "192/192 [==============================] - 2s 11ms/step - loss: 0.0638 - mse: 0.0638 - val_loss: 0.0609 - val_mse: 0.0609\n",
            "Epoch 18/128\n",
            "192/192 [==============================] - 2s 11ms/step - loss: 0.0630 - mse: 0.0630 - val_loss: 0.0654 - val_mse: 0.0654\n",
            "Epoch 19/128\n",
            "192/192 [==============================] - 2s 11ms/step - loss: 0.0623 - mse: 0.0623 - val_loss: 0.0641 - val_mse: 0.0641\n",
            "Epoch 20/128\n",
            "192/192 [==============================] - 3s 15ms/step - loss: 0.0649 - mse: 0.0649 - val_loss: 0.0644 - val_mse: 0.0644\n",
            "Epoch 21/128\n",
            "192/192 [==============================] - 2s 12ms/step - loss: 0.0618 - mse: 0.0618 - val_loss: 0.0627 - val_mse: 0.0627\n",
            "Epoch 22/128\n",
            "192/192 [==============================] - 2s 12ms/step - loss: 0.0621 - mse: 0.0621 - val_loss: 0.0616 - val_mse: 0.0616\n",
            "Epoch 23/128\n",
            "192/192 [==============================] - 2s 11ms/step - loss: 0.0586 - mse: 0.0586 - val_loss: 0.0617 - val_mse: 0.0617\n",
            "Epoch 24/128\n",
            "192/192 [==============================] - 2s 11ms/step - loss: 0.0582 - mse: 0.0582 - val_loss: 0.0645 - val_mse: 0.0645\n",
            "Epoch 25/128\n",
            "192/192 [==============================] - 2s 12ms/step - loss: 0.0596 - mse: 0.0596 - val_loss: 0.0777 - val_mse: 0.0777\n",
            "Epoch 26/128\n",
            "192/192 [==============================] - 3s 17ms/step - loss: 0.0601 - mse: 0.0601 - val_loss: 0.0720 - val_mse: 0.0720\n",
            "Epoch 27/128\n",
            "192/192 [==============================] - 2s 11ms/step - loss: 0.0569 - mse: 0.0569 - val_loss: 0.0636 - val_mse: 0.0636\n",
            "Epoch 28/128\n",
            "192/192 [==============================] - 2s 11ms/step - loss: 0.0525 - mse: 0.0525 - val_loss: 0.0679 - val_mse: 0.0679\n",
            "Epoch 29/128\n",
            "192/192 [==============================] - 2s 11ms/step - loss: 0.0547 - mse: 0.0547 - val_loss: 0.0677 - val_mse: 0.0677\n",
            "Epoch 30/128\n",
            "192/192 [==============================] - 2s 11ms/step - loss: 0.0558 - mse: 0.0558 - val_loss: 0.0735 - val_mse: 0.0735\n",
            "Epoch 31/128\n",
            "192/192 [==============================] - 3s 13ms/step - loss: 0.0546 - mse: 0.0546 - val_loss: 0.0673 - val_mse: 0.0673\n",
            "Epoch 32/128\n",
            "192/192 [==============================] - 3s 15ms/step - loss: 0.0515 - mse: 0.0515 - val_loss: 0.0634 - val_mse: 0.0634\n",
            "Epoch 33/128\n",
            "192/192 [==============================] - 2s 11ms/step - loss: 0.0524 - mse: 0.0524 - val_loss: 0.0668 - val_mse: 0.0668\n",
            "Epoch 34/128\n",
            "192/192 [==============================] - 2s 11ms/step - loss: 0.0524 - mse: 0.0524 - val_loss: 0.0704 - val_mse: 0.0704\n",
            "Epoch 35/128\n",
            "192/192 [==============================] - 2s 11ms/step - loss: 0.0450 - mse: 0.0450 - val_loss: 0.0707 - val_mse: 0.0707\n",
            "Epoch 36/128\n",
            "192/192 [==============================] - 2s 11ms/step - loss: 0.0497 - mse: 0.0497 - val_loss: 0.0760 - val_mse: 0.0760\n",
            "Epoch 37/128\n",
            "192/192 [==============================] - 3s 14ms/step - loss: 0.0463 - mse: 0.0463 - val_loss: 0.0744 - val_mse: 0.0744\n",
            "Epoch 38/128\n",
            "192/192 [==============================] - 3s 14ms/step - loss: 0.0492 - mse: 0.0492 - val_loss: 0.0725 - val_mse: 0.0725\n",
            "Epoch 39/128\n",
            "192/192 [==============================] - 2s 11ms/step - loss: 0.0529 - mse: 0.0529 - val_loss: 0.0735 - val_mse: 0.0735\n",
            "Epoch 40/128\n",
            "192/192 [==============================] - 2s 11ms/step - loss: 0.0456 - mse: 0.0456 - val_loss: 0.0767 - val_mse: 0.0767\n",
            "Epoch 41/128\n",
            "192/192 [==============================] - 2s 11ms/step - loss: 0.0416 - mse: 0.0416 - val_loss: 0.0700 - val_mse: 0.0700\n",
            "Epoch 42/128\n",
            "192/192 [==============================] - 2s 11ms/step - loss: 0.0481 - mse: 0.0481 - val_loss: 0.0881 - val_mse: 0.0881\n",
            "Epoch 43/128\n",
            "192/192 [==============================] - 3s 15ms/step - loss: 0.0448 - mse: 0.0448 - val_loss: 0.0821 - val_mse: 0.0821\n",
            "Epoch 44/128\n",
            "192/192 [==============================] - 3s 14ms/step - loss: 0.0440 - mse: 0.0440 - val_loss: 0.0860 - val_mse: 0.0860\n",
            "Epoch 45/128\n",
            "192/192 [==============================] - 2s 12ms/step - loss: 0.0427 - mse: 0.0427 - val_loss: 0.0724 - val_mse: 0.0724\n",
            "Epoch 46/128\n",
            "192/192 [==============================] - 2s 11ms/step - loss: 0.0404 - mse: 0.0404 - val_loss: 0.0748 - val_mse: 0.0748\n",
            "Epoch 47/128\n",
            "192/192 [==============================] - 2s 11ms/step - loss: 0.0400 - mse: 0.0400 - val_loss: 0.0774 - val_mse: 0.0774\n",
            "Epoch 48/128\n",
            "192/192 [==============================] - 2s 11ms/step - loss: 0.0459 - mse: 0.0459 - val_loss: 0.0765 - val_mse: 0.0765\n",
            "Epoch 49/128\n",
            "192/192 [==============================] - 3s 15ms/step - loss: 0.0394 - mse: 0.0394 - val_loss: 0.0763 - val_mse: 0.0763\n",
            "Epoch 50/128\n",
            "192/192 [==============================] - 2s 13ms/step - loss: 0.0431 - mse: 0.0431 - val_loss: 0.0715 - val_mse: 0.0715\n",
            "Epoch 51/128\n",
            "192/192 [==============================] - 2s 11ms/step - loss: 0.0416 - mse: 0.0416 - val_loss: 0.0772 - val_mse: 0.0772\n",
            "Epoch 52/128\n",
            "192/192 [==============================] - 2s 11ms/step - loss: 0.0367 - mse: 0.0367 - val_loss: 0.0728 - val_mse: 0.0728\n",
            "Epoch 53/128\n",
            "192/192 [==============================] - 2s 12ms/step - loss: 0.0424 - mse: 0.0424 - val_loss: 0.0745 - val_mse: 0.0745\n",
            "Epoch 54/128\n",
            "192/192 [==============================] - 2s 12ms/step - loss: 0.0370 - mse: 0.0370 - val_loss: 0.0781 - val_mse: 0.0781\n",
            "Epoch 55/128\n",
            "192/192 [==============================] - 3s 16ms/step - loss: 0.0374 - mse: 0.0374 - val_loss: 0.0839 - val_mse: 0.0839\n",
            "Epoch 56/128\n",
            "192/192 [==============================] - 2s 11ms/step - loss: 0.0380 - mse: 0.0380 - val_loss: 0.0699 - val_mse: 0.0699\n",
            "Epoch 57/128\n",
            "192/192 [==============================] - 2s 11ms/step - loss: 0.0390 - mse: 0.0390 - val_loss: 0.0711 - val_mse: 0.0711\n",
            "Epoch 58/128\n",
            "192/192 [==============================] - 2s 11ms/step - loss: 0.0364 - mse: 0.0364 - val_loss: 0.0732 - val_mse: 0.0732\n",
            "Epoch 59/128\n",
            "192/192 [==============================] - 2s 11ms/step - loss: 0.0382 - mse: 0.0382 - val_loss: 0.0801 - val_mse: 0.0801\n",
            "Epoch 60/128\n",
            "192/192 [==============================] - 2s 13ms/step - loss: 0.0360 - mse: 0.0360 - val_loss: 0.0764 - val_mse: 0.0764\n",
            "Epoch 61/128\n",
            "192/192 [==============================] - 3s 16ms/step - loss: 0.0341 - mse: 0.0341 - val_loss: 0.0787 - val_mse: 0.0787\n",
            "Epoch 62/128\n",
            "192/192 [==============================] - 2s 11ms/step - loss: 0.0359 - mse: 0.0359 - val_loss: 0.0825 - val_mse: 0.0825\n",
            "Epoch 63/128\n",
            "192/192 [==============================] - 2s 11ms/step - loss: 0.0378 - mse: 0.0378 - val_loss: 0.0830 - val_mse: 0.0830\n",
            "Epoch 64/128\n",
            "192/192 [==============================] - 2s 11ms/step - loss: 0.0345 - mse: 0.0345 - val_loss: 0.0787 - val_mse: 0.0787\n",
            "Epoch 65/128\n",
            "192/192 [==============================] - 2s 12ms/step - loss: 0.0334 - mse: 0.0334 - val_loss: 0.0784 - val_mse: 0.0784\n",
            "Epoch 66/128\n",
            "192/192 [==============================] - 3s 13ms/step - loss: 0.0315 - mse: 0.0315 - val_loss: 0.0843 - val_mse: 0.0843\n",
            "Epoch 67/128\n",
            "192/192 [==============================] - 3s 16ms/step - loss: 0.0325 - mse: 0.0325 - val_loss: 0.0835 - val_mse: 0.0835\n",
            "Epoch 68/128\n",
            "192/192 [==============================] - 2s 11ms/step - loss: 0.0326 - mse: 0.0326 - val_loss: 0.0806 - val_mse: 0.0806\n",
            "Epoch 69/128\n",
            "192/192 [==============================] - 2s 11ms/step - loss: 0.0311 - mse: 0.0311 - val_loss: 0.0832 - val_mse: 0.0832\n",
            "Epoch 70/128\n",
            "192/192 [==============================] - 2s 11ms/step - loss: 0.0296 - mse: 0.0296 - val_loss: 0.0872 - val_mse: 0.0872\n",
            "Epoch 71/128\n",
            "192/192 [==============================] - 2s 11ms/step - loss: 0.0294 - mse: 0.0294 - val_loss: 0.0941 - val_mse: 0.0941\n",
            "Epoch 72/128\n",
            "192/192 [==============================] - 3s 14ms/step - loss: 0.0335 - mse: 0.0335 - val_loss: 0.0815 - val_mse: 0.0815\n",
            "Epoch 73/128\n",
            "192/192 [==============================] - 3s 14ms/step - loss: 0.0298 - mse: 0.0298 - val_loss: 0.0804 - val_mse: 0.0804\n",
            "Epoch 74/128\n",
            "192/192 [==============================] - 2s 11ms/step - loss: 0.0298 - mse: 0.0298 - val_loss: 0.0833 - val_mse: 0.0833\n",
            "Epoch 75/128\n",
            "192/192 [==============================] - 2s 11ms/step - loss: 0.0330 - mse: 0.0330 - val_loss: 0.0740 - val_mse: 0.0740\n",
            "Epoch 76/128\n",
            "192/192 [==============================] - 2s 11ms/step - loss: 0.0318 - mse: 0.0318 - val_loss: 0.0750 - val_mse: 0.0750\n",
            "Epoch 77/128\n",
            "192/192 [==============================] - 2s 11ms/step - loss: 0.0290 - mse: 0.0290 - val_loss: 0.0805 - val_mse: 0.0805\n",
            "Epoch 78/128\n",
            "192/192 [==============================] - 3s 15ms/step - loss: 0.0265 - mse: 0.0265 - val_loss: 0.0825 - val_mse: 0.0825\n",
            "Epoch 79/128\n",
            "192/192 [==============================] - 3s 14ms/step - loss: 0.0281 - mse: 0.0281 - val_loss: 0.0831 - val_mse: 0.0831\n",
            "Epoch 80/128\n",
            "192/192 [==============================] - 2s 11ms/step - loss: 0.0316 - mse: 0.0316 - val_loss: 0.0776 - val_mse: 0.0776\n",
            "Epoch 81/128\n",
            "192/192 [==============================] - 2s 11ms/step - loss: 0.0279 - mse: 0.0279 - val_loss: 0.0814 - val_mse: 0.0814\n",
            "Epoch 82/128\n",
            "192/192 [==============================] - 2s 11ms/step - loss: 0.0287 - mse: 0.0287 - val_loss: 0.0871 - val_mse: 0.0871\n",
            "Epoch 83/128\n",
            "192/192 [==============================] - 2s 11ms/step - loss: 0.0267 - mse: 0.0267 - val_loss: 0.0837 - val_mse: 0.0837\n",
            "Epoch 84/128\n",
            "192/192 [==============================] - 3s 16ms/step - loss: 0.0276 - mse: 0.0276 - val_loss: 0.0902 - val_mse: 0.0902\n",
            "Epoch 85/128\n",
            "192/192 [==============================] - 2s 12ms/step - loss: 0.0257 - mse: 0.0257 - val_loss: 0.0871 - val_mse: 0.0871\n",
            "Epoch 86/128\n",
            "192/192 [==============================] - 2s 11ms/step - loss: 0.0289 - mse: 0.0289 - val_loss: 0.0936 - val_mse: 0.0936\n",
            "Epoch 87/128\n",
            "192/192 [==============================] - 2s 11ms/step - loss: 0.0228 - mse: 0.0228 - val_loss: 0.0872 - val_mse: 0.0872\n",
            "Epoch 88/128\n",
            "192/192 [==============================] - 2s 11ms/step - loss: 0.0295 - mse: 0.0295 - val_loss: 0.1018 - val_mse: 0.1018\n",
            "Epoch 89/128\n",
            "192/192 [==============================] - 2s 12ms/step - loss: 0.0270 - mse: 0.0270 - val_loss: 0.0810 - val_mse: 0.0810\n",
            "Epoch 90/128\n",
            "192/192 [==============================] - 3s 17ms/step - loss: 0.0261 - mse: 0.0261 - val_loss: 0.0892 - val_mse: 0.0892\n",
            "Epoch 91/128\n",
            "192/192 [==============================] - 2s 11ms/step - loss: 0.0278 - mse: 0.0278 - val_loss: 0.0854 - val_mse: 0.0854\n",
            "Epoch 92/128\n",
            "192/192 [==============================] - 2s 11ms/step - loss: 0.0270 - mse: 0.0270 - val_loss: 0.0840 - val_mse: 0.0840\n",
            "Epoch 93/128\n",
            "192/192 [==============================] - 2s 11ms/step - loss: 0.0263 - mse: 0.0263 - val_loss: 0.0822 - val_mse: 0.0822\n",
            "Epoch 94/128\n",
            "192/192 [==============================] - 2s 11ms/step - loss: 0.0238 - mse: 0.0238 - val_loss: 0.0922 - val_mse: 0.0922\n",
            "Epoch 95/128\n",
            "192/192 [==============================] - 3s 14ms/step - loss: 0.0242 - mse: 0.0242 - val_loss: 0.0908 - val_mse: 0.0908\n",
            "Epoch 96/128\n",
            "192/192 [==============================] - 3s 15ms/step - loss: 0.0238 - mse: 0.0238 - val_loss: 0.0904 - val_mse: 0.0904\n",
            "Epoch 97/128\n",
            "192/192 [==============================] - 2s 11ms/step - loss: 0.0220 - mse: 0.0220 - val_loss: 0.0811 - val_mse: 0.0811\n",
            "Epoch 98/128\n",
            "192/192 [==============================] - 2s 11ms/step - loss: 0.0204 - mse: 0.0204 - val_loss: 0.0793 - val_mse: 0.0793\n",
            "Epoch 99/128\n",
            "192/192 [==============================] - 2s 11ms/step - loss: 0.0222 - mse: 0.0222 - val_loss: 0.0909 - val_mse: 0.0909\n",
            "Epoch 100/128\n",
            "192/192 [==============================] - 2s 12ms/step - loss: 0.0232 - mse: 0.0232 - val_loss: 0.0854 - val_mse: 0.0854\n",
            "Epoch 101/128\n",
            "192/192 [==============================] - 3s 15ms/step - loss: 0.0222 - mse: 0.0222 - val_loss: 0.0845 - val_mse: 0.0845\n",
            "Epoch 102/128\n",
            "192/192 [==============================] - 3s 14ms/step - loss: 0.0216 - mse: 0.0216 - val_loss: 0.0882 - val_mse: 0.0882\n",
            "Epoch 103/128\n",
            "192/192 [==============================] - 2s 11ms/step - loss: 0.0223 - mse: 0.0223 - val_loss: 0.0899 - val_mse: 0.0899\n",
            "Epoch 104/128\n",
            "192/192 [==============================] - 2s 11ms/step - loss: 0.0218 - mse: 0.0218 - val_loss: 0.0942 - val_mse: 0.0942\n",
            "Epoch 105/128\n",
            "192/192 [==============================] - 2s 11ms/step - loss: 0.0275 - mse: 0.0275 - val_loss: 0.0834 - val_mse: 0.0834\n",
            "Epoch 106/128\n",
            "192/192 [==============================] - 2s 11ms/step - loss: 0.0226 - mse: 0.0226 - val_loss: 0.0839 - val_mse: 0.0839\n",
            "Epoch 107/128\n",
            "192/192 [==============================] - 3s 16ms/step - loss: 0.0201 - mse: 0.0201 - val_loss: 0.0840 - val_mse: 0.0840\n",
            "Epoch 108/128\n",
            "192/192 [==============================] - 3s 13ms/step - loss: 0.0189 - mse: 0.0189 - val_loss: 0.0881 - val_mse: 0.0881\n",
            "Epoch 109/128\n",
            "192/192 [==============================] - 2s 11ms/step - loss: 0.0227 - mse: 0.0227 - val_loss: 0.0898 - val_mse: 0.0898\n",
            "Epoch 110/128\n",
            "192/192 [==============================] - 2s 12ms/step - loss: 0.0228 - mse: 0.0228 - val_loss: 0.0908 - val_mse: 0.0908\n",
            "Epoch 111/128\n",
            "192/192 [==============================] - 2s 11ms/step - loss: 0.0223 - mse: 0.0223 - val_loss: 0.0876 - val_mse: 0.0876\n",
            "Epoch 112/128\n",
            "192/192 [==============================] - 2s 12ms/step - loss: 0.0187 - mse: 0.0187 - val_loss: 0.0920 - val_mse: 0.0920\n",
            "Epoch 113/128\n",
            "192/192 [==============================] - 3s 16ms/step - loss: 0.0212 - mse: 0.0212 - val_loss: 0.0946 - val_mse: 0.0946\n",
            "Epoch 114/128\n",
            "192/192 [==============================] - 2s 12ms/step - loss: 0.0203 - mse: 0.0203 - val_loss: 0.0824 - val_mse: 0.0824\n",
            "Epoch 115/128\n",
            "192/192 [==============================] - 2s 11ms/step - loss: 0.0223 - mse: 0.0223 - val_loss: 0.0842 - val_mse: 0.0842\n",
            "Epoch 116/128\n",
            "192/192 [==============================] - 2s 12ms/step - loss: 0.0192 - mse: 0.0192 - val_loss: 0.0931 - val_mse: 0.0931\n",
            "Epoch 117/128\n",
            "192/192 [==============================] - 2s 12ms/step - loss: 0.0250 - mse: 0.0250 - val_loss: 0.0921 - val_mse: 0.0921\n",
            "Epoch 118/128\n",
            "192/192 [==============================] - 3s 13ms/step - loss: 0.0172 - mse: 0.0172 - val_loss: 0.0941 - val_mse: 0.0941\n",
            "Epoch 119/128\n",
            "192/192 [==============================] - 3s 16ms/step - loss: 0.0179 - mse: 0.0179 - val_loss: 0.0897 - val_mse: 0.0897\n",
            "Epoch 120/128\n",
            "192/192 [==============================] - 2s 11ms/step - loss: 0.0271 - mse: 0.0271 - val_loss: 0.1098 - val_mse: 0.1098\n",
            "Epoch 121/128\n",
            "192/192 [==============================] - 2s 11ms/step - loss: 0.0281 - mse: 0.0281 - val_loss: 0.0866 - val_mse: 0.0866\n",
            "Epoch 122/128\n",
            "192/192 [==============================] - 2s 11ms/step - loss: 0.0305 - mse: 0.0305 - val_loss: 0.0859 - val_mse: 0.0859\n",
            "Epoch 123/128\n",
            "192/192 [==============================] - 2s 11ms/step - loss: 0.0274 - mse: 0.0274 - val_loss: 0.0847 - val_mse: 0.0847\n",
            "Epoch 124/128\n",
            "192/192 [==============================] - 3s 14ms/step - loss: 0.0235 - mse: 0.0235 - val_loss: 0.0848 - val_mse: 0.0848\n",
            "Epoch 125/128\n",
            "192/192 [==============================] - 3s 15ms/step - loss: 0.0273 - mse: 0.0273 - val_loss: 0.0826 - val_mse: 0.0826\n",
            "Epoch 126/128\n",
            "192/192 [==============================] - 2s 11ms/step - loss: 0.0191 - mse: 0.0191 - val_loss: 0.0872 - val_mse: 0.0872\n",
            "Epoch 127/128\n",
            "192/192 [==============================] - 2s 11ms/step - loss: 0.0202 - mse: 0.0202 - val_loss: 0.0899 - val_mse: 0.0899\n",
            "Epoch 128/128\n",
            "192/192 [==============================] - 2s 11ms/step - loss: 0.0199 - mse: 0.0199 - val_loss: 0.0888 - val_mse: 0.0888\n",
            "30/30 [==============================] - 0s 4ms/step\n"
          ]
        },
        {
          "output_type": "display_data",
          "data": {
            "text/plain": [
              "<Figure size 640x480 with 2 Axes>"
            ],
            "image/png": "[encoded data removed]"
          },
          "metadata": {}
        },
        {
          "output_type": "stream",
          "name": "stdout",
          "text": [
            "Acurácia: 0.9030239833159541, Precisão: 0.8862559241706162, Recall: 0.8926014319809069, F1: 0.8894173602853745\n"
          ]
        }
      ]
    },
    {
      "cell_type": "code",
      "execution_count": null,
      "metadata": {
        "id": "lyb1885xrxd0",
        "colab": {
          "base_uri": "https://localhost:8080/",
          "height": 501
        },
        "outputId": "e6412bfe-9415-4d5d-ef91-6d7169cc5c2b"
      },
      "outputs": [
        {
          "output_type": "stream",
          "name": "stdout",
          "text": [
            "X.shape:(1188, 15, 11), y.shape:(1188,)\n",
            "38/38 [==============================] - 0s 4ms/step\n"
          ]
        },
        {
          "output_type": "display_data",
          "data": {
            "text/plain": [
              "<Figure size 640x480 with 2 Axes>"
            ],
            "image/png": "[encoded data removed]"
          },
          "metadata": {}
        },
        {
          "output_type": "stream",
          "name": "stdout",
          "text": [
            "Acurácia: 0.8156565656565656, Precisão: 0.8172413793103448, Recall: 0.807495741056218, F1: 0.8123393316195373\n"
          ]
        }
      ],
      "source": [
        "vale_df_t = pd.read_csv(\"/content/drive/MyDrive/03_Studies/_FIAP/FIAP2024/DeepLearning/FIAP_PI/VALE3.SA/teste.csv\")\n",
        "validate_model(vale_df_t, modelo_vale, 15)"
      ]
    },
    {
      "cell_type": "markdown",
      "source": [
        "# CSNA"
      ],
      "metadata": {
        "id": "AZ2OoADHY8wC"
      }
    },
    {
      "cell_type": "code",
      "execution_count": null,
      "metadata": {
        "id": "TZ78G37flUns"
      },
      "outputs": [],
      "source": [
        "csna_df = pd.read_csv(\"/content/drive/MyDrive/03_Studies/_FIAP/FIAP2024/DeepLearning/FIAP_PI/CSNA3.SA/treino.csv\")\n",
        "csna_p = prepare_network_analysis_dataframe(csna_df)"
      ]
    },
    {
      "cell_type": "code",
      "source": [
        "multi_network_grid_search(csna_p[1000:1100], networks)"
      ],
      "metadata": {
        "colab": {
          "base_uri": "https://localhost:8080/",
          "height": 1000
        },
        "id": "nUm_SUWmZF4C",
        "outputId": "aad032c1-85f3-43af-cb51-c4e6ba57a6ef"
      },
      "execution_count": null,
      "outputs": [
        {
          "output_type": "stream",
          "name": "stdout",
          "text": [
            "X.shape:(85, 15, 11), y.shape:(85,)\n",
            "〉〉〉Starting Grid Search Network 0\n",
            "Fitting 2 folds for each of 4 candidates, totalling 8 fits\n",
            "[CV 1/2] END ..........batch_size=16, epochs=64;, score=0.286 total time=   3.9s\n",
            "[CV 2/2] END ..........batch_size=16, epochs=64;, score=0.000 total time=   2.9s\n",
            "[CV 1/2] END .........batch_size=16, epochs=128;, score=0.231 total time=   4.4s\n",
            "[CV 2/2] END .........batch_size=16, epochs=128;, score=0.000 total time=   3.1s\n",
            "[CV 1/2] END ..........batch_size=32, epochs=64;, score=0.211 total time=   1.8s\n",
            "[CV 2/2] END ..........batch_size=32, epochs=64;, score=0.000 total time=   2.1s\n",
            "[CV 1/2] END .........batch_size=32, epochs=128;, score=0.211 total time=   2.2s\n",
            "[CV 2/2] END .........batch_size=32, epochs=128;, score=0.000 total time=   4.5s\n",
            "Best Parameters: {'batch_size': 16, 'epochs': 64}\n",
            "Best Score: 0.14285714285714285\n",
            "〉〉〉Ending Grid Search Newtok 0\n",
            "〉〉〉Starting Grid Search Network 1\n",
            "Fitting 2 folds for each of 4 candidates, totalling 8 fits\n",
            "[CV 1/2] END ..........batch_size=16, epochs=64;, score=0.261 total time=   1.8s\n",
            "[CV 2/2] END ..........batch_size=16, epochs=64;, score=0.000 total time=   2.2s\n",
            "[CV 1/2] END .........batch_size=16, epochs=128;, score=0.222 total time=   2.6s\n",
            "[CV 2/2] END .........batch_size=16, epochs=128;, score=0.000 total time=   4.4s\n",
            "[CV 1/2] END ..........batch_size=32, epochs=64;, score=0.167 total time=   1.9s\n",
            "[CV 2/2] END ..........batch_size=32, epochs=64;, score=0.545 total time=   1.9s\n",
            "[CV 1/2] END .........batch_size=32, epochs=128;, score=0.261 total time=   2.0s\n",
            "[CV 2/2] END .........batch_size=32, epochs=128;, score=0.000 total time=   2.5s\n",
            "Best Parameters: {'batch_size': 32, 'epochs': 64}\n",
            "Best Score: 0.356060606060606\n",
            "〉〉〉Ending Grid Search Newtok 1\n",
            "〉〉〉Starting Grid Search Network 2\n",
            "Fitting 2 folds for each of 4 candidates, totalling 8 fits\n",
            "[CV 1/2] END ..........batch_size=16, epochs=64;, score=0.273 total time=   3.8s\n",
            "[CV 2/2] END ..........batch_size=16, epochs=64;, score=0.000 total time=   4.6s\n",
            "[CV 1/2] END .........batch_size=16, epochs=128;, score=0.250 total time=   4.6s\n",
            "[CV 2/2] END .........batch_size=16, epochs=128;, score=0.500 total time=   6.8s\n",
            "[CV 1/2] END ..........batch_size=32, epochs=64;, score=0.400 total time=   2.7s\n",
            "[CV 2/2] END ..........batch_size=32, epochs=64;, score=0.857 total time=   4.7s\n",
            "[CV 1/2] END .........batch_size=32, epochs=128;, score=0.286 total time=   3.6s\n",
            "[CV 2/2] END .........batch_size=32, epochs=128;, score=0.545 total time=   4.4s\n",
            "Best Parameters: {'batch_size': 32, 'epochs': 64}\n",
            "Best Score: 0.6285714285714286\n",
            "〉〉〉Ending Grid Search Newtok 2\n",
            "〉〉〉Starting Grid Search Network 3\n",
            "Fitting 2 folds for each of 4 candidates, totalling 8 fits\n",
            "[CV 1/2] END ..........batch_size=16, epochs=64;, score=0.300 total time=   9.8s\n",
            "[CV 2/2] END ..........batch_size=16, epochs=64;, score=0.636 total time=  11.4s\n",
            "[CV 1/2] END .........batch_size=16, epochs=128;, score=0.222 total time=  12.5s\n",
            "[CV 2/2] END .........batch_size=16, epochs=128;, score=0.842 total time=  15.3s\n",
            "[CV 1/2] END ..........batch_size=32, epochs=64;, score=0.000 total time=  10.1s\n",
            "[CV 2/2] END ..........batch_size=32, epochs=64;, score=0.640 total time=  10.1s\n",
            "[CV 1/2] END .........batch_size=32, epochs=128;, score=0.273 total time=   9.1s\n",
            "[CV 2/2] END .........batch_size=32, epochs=128;, score=0.485 total time=  11.9s\n",
            "Best Parameters: {'batch_size': 16, 'epochs': 128}\n",
            "Best Score: 0.5321637426900585\n",
            "〉〉〉Ending Grid Search Newtok 3\n",
            "〉〉〉Starting Grid Search Network 4\n",
            "Fitting 2 folds for each of 4 candidates, totalling 8 fits\n",
            "[CV 1/2] END ..........batch_size=16, epochs=64;, score=0.286 total time=   7.8s\n",
            "[CV 2/2] END ..........batch_size=16, epochs=64;, score=0.444 total time=  10.0s\n",
            "[CV 1/2] END .........batch_size=16, epochs=128;, score=0.222 total time=  17.2s\n",
            "[CV 2/2] END .........batch_size=16, epochs=128;, score=0.000 total time=  16.5s\n",
            "[CV 1/2] END ..........batch_size=32, epochs=64;, score=0.000 total time=   9.1s\n",
            "[CV 2/2] END ..........batch_size=32, epochs=64;, score=0.000 total time=  10.6s\n",
            "[CV 1/2] END .........batch_size=32, epochs=128;, score=0.261 total time=   8.2s\n",
            "[CV 2/2] END .........batch_size=32, epochs=128;, score=0.444 total time=  10.1s\n",
            "Best Parameters: {'batch_size': 16, 'epochs': 64}\n",
            "Best Score: 0.3650793650793651\n",
            "〉〉〉Ending Grid Search Newtok 4\n",
            "〉〉〉Starting Grid Search Network 5\n",
            "Fitting 2 folds for each of 4 candidates, totalling 8 fits\n",
            "[CV 1/2] END ..........batch_size=16, epochs=64;, score=0.261 total time=   1.9s\n",
            "[CV 2/2] END ..........batch_size=16, epochs=64;, score=0.714 total time=   2.7s\n",
            "[CV 1/2] END .........batch_size=16, epochs=128;, score=0.214 total time=   2.9s\n",
            "[CV 2/2] END .........batch_size=16, epochs=128;, score=0.000 total time=   3.4s\n",
            "[CV 1/2] END ..........batch_size=32, epochs=64;, score=0.167 total time=   1.8s\n",
            "[CV 2/2] END ..........batch_size=32, epochs=64;, score=0.667 total time=   1.9s\n",
            "[CV 1/2] END .........batch_size=32, epochs=128;, score=0.095 total time=   2.1s\n",
            "[CV 2/2] END .........batch_size=32, epochs=128;, score=0.000 total time=   2.8s\n",
            "Best Parameters: {'batch_size': 16, 'epochs': 64}\n",
            "Best Score: 0.48757763975155277\n",
            "〉〉〉Ending Grid Search Newtok 5\n",
            "〉〉〉Starting Grid Search Network 6\n",
            "Fitting 2 folds for each of 4 candidates, totalling 8 fits\n",
            "[CV 1/2] END ..........batch_size=16, epochs=64;, score=0.250 total time=   6.0s\n",
            "[CV 2/2] END ..........batch_size=16, epochs=64;, score=0.667 total time=   8.8s\n",
            "[CV 1/2] END .........batch_size=16, epochs=128;, score=0.222 total time=   8.7s\n",
            "[CV 2/2] END .........batch_size=16, epochs=128;, score=0.593 total time=   9.8s\n",
            "[CV 1/2] END ..........batch_size=32, epochs=64;, score=0.000 total time=   6.6s\n",
            "[CV 2/2] END ..........batch_size=32, epochs=64;, score=0.933 total time=   5.2s\n",
            "[CV 1/2] END .........batch_size=32, epochs=128;, score=0.250 total time=   6.4s\n",
            "[CV 2/2] END .........batch_size=32, epochs=128;, score=0.000 total time=   8.8s\n",
            "Best Parameters: {'batch_size': 32, 'epochs': 64}\n",
            "Best Score: 0.4666666666666667\n",
            "〉〉〉Ending Grid Search Newtok 6\n",
            "〉〉〉Starting Grid Search Network 7\n",
            "Fitting 2 folds for each of 4 candidates, totalling 8 fits\n",
            "[CV 1/2] END ..........batch_size=16, epochs=64;, score=0.250 total time=   7.7s\n",
            "[CV 2/2] END ..........batch_size=16, epochs=64;, score=0.000 total time=   9.2s\n",
            "[CV 1/2] END .........batch_size=16, epochs=128;, score=0.231 total time=  10.0s\n",
            "[CV 2/2] END .........batch_size=16, epochs=128;, score=0.000 total time=  15.4s\n",
            "[CV 1/2] END ..........batch_size=32, epochs=64;, score=0.250 total time=   6.3s\n",
            "[CV 2/2] END ..........batch_size=32, epochs=64;, score=0.857 total time=   8.0s\n",
            "[CV 1/2] END .........batch_size=32, epochs=128;, score=0.261 total time=   8.3s\n",
            "[CV 2/2] END .........batch_size=32, epochs=128;, score=0.714 total time=   9.1s\n",
            "Best Parameters: {'batch_size': 32, 'epochs': 64}\n",
            "Best Score: 0.5535714285714286\n",
            "〉〉〉Ending Grid Search Newtok 7\n",
            "〉〉〉Starting Grid Search Network 8\n",
            "Fitting 2 folds for each of 4 candidates, totalling 8 fits\n",
            "[CV 1/2] END ..........batch_size=16, epochs=64;, score=0.261 total time=   4.1s\n",
            "[CV 2/2] END ..........batch_size=16, epochs=64;, score=0.571 total time=  12.1s\n",
            "[CV 1/2] END .........batch_size=16, epochs=128;, score=0.222 total time=   6.5s\n",
            "[CV 2/2] END .........batch_size=16, epochs=128;, score=0.000 total time=   6.6s\n",
            "[CV 1/2] END ..........batch_size=32, epochs=64;, score=0.167 total time=   4.9s\n",
            "[CV 2/2] END ..........batch_size=32, epochs=64;, score=0.000 total time=   4.7s\n",
            "[CV 1/2] END .........batch_size=32, epochs=128;, score=0.261 total time=   4.6s\n",
            "[CV 2/2] END .........batch_size=32, epochs=128;, score=0.222 total time=   6.5s\n",
            "Best Parameters: {'batch_size': 16, 'epochs': 64}\n",
            "Best Score: 0.4161490683229814\n",
            "〉〉〉Ending Grid Search Newtok 8\n",
            "〉〉〉Starting Grid Search Network 9\n",
            "Fitting 2 folds for each of 4 candidates, totalling 8 fits\n",
            "[CV 1/2] END ..........batch_size=16, epochs=64;, score=0.250 total time=   2.5s\n",
            "[CV 2/2] END ..........batch_size=16, epochs=64;, score=0.417 total time=   3.8s\n",
            "[CV 1/2] END .........batch_size=16, epochs=128;, score=0.222 total time=   3.1s\n",
            "[CV 2/2] END .........batch_size=16, epochs=128;, score=0.000 total time=   3.5s\n",
            "[CV 1/2] END ..........batch_size=32, epochs=64;, score=0.240 total time=   2.3s\n",
            "[CV 2/2] END ..........batch_size=32, epochs=64;, score=0.471 total time=   3.5s\n",
            "[CV 1/2] END .........batch_size=32, epochs=128;, score=0.240 total time=   3.0s\n",
            "[CV 2/2] END .........batch_size=32, epochs=128;, score=0.842 total time=   3.2s\n",
            "Best Parameters: {'batch_size': 32, 'epochs': 128}\n",
            "Best Score: 0.5410526315789475\n",
            "〉〉〉Ending Grid Search Newtok 9\n",
            "Network: 0, \t best score:0.14285714285714285, \t best parameters:{'batch_size': 16, 'epochs': 64}\n",
            "Network: 1, \t best score:0.356060606060606, \t best parameters:{'batch_size': 32, 'epochs': 64}\n",
            "Network: 2, \t best score:0.6285714285714286, \t best parameters:{'batch_size': 32, 'epochs': 64}\n",
            "Network: 3, \t best score:0.5321637426900585, \t best parameters:{'batch_size': 16, 'epochs': 128}\n",
            "Network: 4, \t best score:0.3650793650793651, \t best parameters:{'batch_size': 16, 'epochs': 64}\n",
            "Network: 5, \t best score:0.48757763975155277, \t best parameters:{'batch_size': 16, 'epochs': 64}\n",
            "Network: 6, \t best score:0.4666666666666667, \t best parameters:{'batch_size': 32, 'epochs': 64}\n",
            "Network: 7, \t best score:0.5535714285714286, \t best parameters:{'batch_size': 32, 'epochs': 64}\n",
            "Network: 8, \t best score:0.4161490683229814, \t best parameters:{'batch_size': 16, 'epochs': 64}\n",
            "Network: 9, \t best score:0.5410526315789475, \t best parameters:{'batch_size': 32, 'epochs': 128}\n"
          ]
        },
        {
          "output_type": "display_data",
          "data": {
            "text/plain": [
              "<Figure size 1000x600 with 1 Axes>"
            ],
            "image/png": "[encoded data removed]"
          },
          "metadata": {}
        }
      ]
    },
    {
      "cell_type": "code",
      "source": [
        "modelo_csna = create_and_train(csna_p, model=networks[2], batch_size=32, epochs=64)"
      ],
      "metadata": {
        "colab": {
          "base_uri": "https://localhost:8080/",
          "height": 1000
        },
        "id": "-sp7gh58bgdZ",
        "outputId": "41133ed4-7c7e-48fa-c4e1-3e00710ac01f"
      },
      "execution_count": null,
      "outputs": [
        {
          "output_type": "stream",
          "name": "stdout",
          "text": [
            "X.shape:(4728, 15, 11), y.shape:(4728,)\n",
            "Epoch 1/64\n",
            "95/95 [==============================] - 4s 16ms/step - loss: 0.1431 - mse: 0.1431 - val_loss: 0.3200 - val_mse: 0.3200\n",
            "Epoch 2/64\n",
            "95/95 [==============================] - 1s 12ms/step - loss: 0.0859 - mse: 0.0859 - val_loss: 0.1946 - val_mse: 0.1946\n",
            "Epoch 3/64\n",
            "95/95 [==============================] - 1s 12ms/step - loss: 0.0779 - mse: 0.0779 - val_loss: 0.1054 - val_mse: 0.1054\n",
            "Epoch 4/64\n",
            "95/95 [==============================] - 1s 12ms/step - loss: 0.0737 - mse: 0.0737 - val_loss: 0.0593 - val_mse: 0.0593\n",
            "Epoch 5/64\n",
            "95/95 [==============================] - 1s 12ms/step - loss: 0.0725 - mse: 0.0725 - val_loss: 0.0459 - val_mse: 0.0459\n",
            "Epoch 6/64\n",
            "95/95 [==============================] - 1s 12ms/step - loss: 0.0701 - mse: 0.0701 - val_loss: 0.0391 - val_mse: 0.0391\n",
            "Epoch 7/64\n",
            "95/95 [==============================] - 1s 12ms/step - loss: 0.0678 - mse: 0.0678 - val_loss: 0.0402 - val_mse: 0.0402\n",
            "Epoch 8/64\n",
            "95/95 [==============================] - 1s 12ms/step - loss: 0.0662 - mse: 0.0662 - val_loss: 0.0390 - val_mse: 0.0390\n",
            "Epoch 9/64\n",
            "95/95 [==============================] - 1s 15ms/step - loss: 0.0651 - mse: 0.0651 - val_loss: 0.0387 - val_mse: 0.0387\n",
            "Epoch 10/64\n",
            "95/95 [==============================] - 2s 17ms/step - loss: 0.0634 - mse: 0.0634 - val_loss: 0.0350 - val_mse: 0.0350\n",
            "Epoch 11/64\n",
            "95/95 [==============================] - 2s 16ms/step - loss: 0.0604 - mse: 0.0604 - val_loss: 0.0348 - val_mse: 0.0348\n",
            "Epoch 12/64\n",
            "95/95 [==============================] - 1s 12ms/step - loss: 0.0624 - mse: 0.0624 - val_loss: 0.0367 - val_mse: 0.0367\n",
            "Epoch 13/64\n",
            "95/95 [==============================] - 1s 12ms/step - loss: 0.0583 - mse: 0.0583 - val_loss: 0.0350 - val_mse: 0.0350\n",
            "Epoch 14/64\n",
            "95/95 [==============================] - 1s 12ms/step - loss: 0.0642 - mse: 0.0642 - val_loss: 0.0398 - val_mse: 0.0398\n",
            "Epoch 15/64\n",
            "95/95 [==============================] - 1s 12ms/step - loss: 0.0554 - mse: 0.0554 - val_loss: 0.0347 - val_mse: 0.0347\n",
            "Epoch 16/64\n",
            "95/95 [==============================] - 1s 12ms/step - loss: 0.0552 - mse: 0.0552 - val_loss: 0.0336 - val_mse: 0.0336\n",
            "Epoch 17/64\n",
            "95/95 [==============================] - 1s 12ms/step - loss: 0.0578 - mse: 0.0578 - val_loss: 0.0351 - val_mse: 0.0351\n",
            "Epoch 18/64\n",
            "95/95 [==============================] - 1s 12ms/step - loss: 0.0539 - mse: 0.0539 - val_loss: 0.0346 - val_mse: 0.0346\n",
            "Epoch 19/64\n",
            "95/95 [==============================] - 1s 12ms/step - loss: 0.0582 - mse: 0.0582 - val_loss: 0.0337 - val_mse: 0.0337\n",
            "Epoch 20/64\n",
            "95/95 [==============================] - 1s 14ms/step - loss: 0.0565 - mse: 0.0565 - val_loss: 0.0339 - val_mse: 0.0339\n",
            "Epoch 21/64\n",
            "95/95 [==============================] - 2s 17ms/step - loss: 0.0534 - mse: 0.0534 - val_loss: 0.0327 - val_mse: 0.0327\n",
            "Epoch 22/64\n",
            "95/95 [==============================] - 2s 16ms/step - loss: 0.0551 - mse: 0.0551 - val_loss: 0.0329 - val_mse: 0.0329\n",
            "Epoch 23/64\n",
            "95/95 [==============================] - 1s 12ms/step - loss: 0.0545 - mse: 0.0545 - val_loss: 0.0336 - val_mse: 0.0336\n",
            "Epoch 24/64\n",
            "95/95 [==============================] - 1s 12ms/step - loss: 0.0495 - mse: 0.0495 - val_loss: 0.0355 - val_mse: 0.0355\n",
            "Epoch 25/64\n",
            "95/95 [==============================] - 1s 12ms/step - loss: 0.0505 - mse: 0.0505 - val_loss: 0.0339 - val_mse: 0.0339\n",
            "Epoch 26/64\n",
            "95/95 [==============================] - 1s 12ms/step - loss: 0.0496 - mse: 0.0496 - val_loss: 0.0329 - val_mse: 0.0329\n",
            "Epoch 27/64\n",
            "95/95 [==============================] - 1s 12ms/step - loss: 0.0514 - mse: 0.0514 - val_loss: 0.0378 - val_mse: 0.0378\n",
            "Epoch 28/64\n",
            "95/95 [==============================] - 1s 12ms/step - loss: 0.0502 - mse: 0.0502 - val_loss: 0.0340 - val_mse: 0.0340\n",
            "Epoch 29/64\n",
            "95/95 [==============================] - 1s 12ms/step - loss: 0.0501 - mse: 0.0501 - val_loss: 0.0369 - val_mse: 0.0369\n",
            "Epoch 30/64\n",
            "95/95 [==============================] - 1s 12ms/step - loss: 0.0470 - mse: 0.0470 - val_loss: 0.0346 - val_mse: 0.0346\n",
            "Epoch 31/64\n",
            "95/95 [==============================] - 1s 14ms/step - loss: 0.0472 - mse: 0.0472 - val_loss: 0.0342 - val_mse: 0.0342\n",
            "Epoch 32/64\n",
            "95/95 [==============================] - 2s 17ms/step - loss: 0.0475 - mse: 0.0475 - val_loss: 0.0339 - val_mse: 0.0339\n",
            "Epoch 33/64\n",
            "95/95 [==============================] - 2s 17ms/step - loss: 0.0466 - mse: 0.0466 - val_loss: 0.0346 - val_mse: 0.0346\n",
            "Epoch 34/64\n",
            "95/95 [==============================] - 1s 11ms/step - loss: 0.0480 - mse: 0.0480 - val_loss: 0.0306 - val_mse: 0.0306\n",
            "Epoch 35/64\n",
            "95/95 [==============================] - 1s 12ms/step - loss: 0.0473 - mse: 0.0473 - val_loss: 0.0350 - val_mse: 0.0350\n",
            "Epoch 36/64\n",
            "95/95 [==============================] - 1s 12ms/step - loss: 0.0473 - mse: 0.0473 - val_loss: 0.0344 - val_mse: 0.0344\n",
            "Epoch 37/64\n",
            "95/95 [==============================] - 1s 12ms/step - loss: 0.0449 - mse: 0.0449 - val_loss: 0.0398 - val_mse: 0.0398\n",
            "Epoch 38/64\n",
            "95/95 [==============================] - 1s 11ms/step - loss: 0.0456 - mse: 0.0456 - val_loss: 0.0356 - val_mse: 0.0356\n",
            "Epoch 39/64\n",
            "95/95 [==============================] - 1s 12ms/step - loss: 0.0447 - mse: 0.0447 - val_loss: 0.0352 - val_mse: 0.0352\n",
            "Epoch 40/64\n",
            "95/95 [==============================] - 1s 12ms/step - loss: 0.0485 - mse: 0.0485 - val_loss: 0.0333 - val_mse: 0.0333\n",
            "Epoch 41/64\n",
            "95/95 [==============================] - 1s 12ms/step - loss: 0.0420 - mse: 0.0420 - val_loss: 0.0428 - val_mse: 0.0428\n",
            "Epoch 42/64\n",
            "95/95 [==============================] - 1s 12ms/step - loss: 0.0433 - mse: 0.0433 - val_loss: 0.0385 - val_mse: 0.0385\n",
            "Epoch 43/64\n",
            "95/95 [==============================] - 2s 17ms/step - loss: 0.0410 - mse: 0.0410 - val_loss: 0.0373 - val_mse: 0.0373\n",
            "Epoch 44/64\n",
            "95/95 [==============================] - 2s 17ms/step - loss: 0.0406 - mse: 0.0406 - val_loss: 0.0407 - val_mse: 0.0407\n",
            "Epoch 45/64\n",
            "95/95 [==============================] - 1s 12ms/step - loss: 0.0403 - mse: 0.0403 - val_loss: 0.0390 - val_mse: 0.0390\n",
            "Epoch 46/64\n",
            "95/95 [==============================] - 1s 12ms/step - loss: 0.0406 - mse: 0.0406 - val_loss: 0.0438 - val_mse: 0.0438\n",
            "Epoch 47/64\n",
            "95/95 [==============================] - 1s 12ms/step - loss: 0.0389 - mse: 0.0389 - val_loss: 0.0431 - val_mse: 0.0431\n",
            "Epoch 48/64\n",
            "95/95 [==============================] - 1s 12ms/step - loss: 0.0435 - mse: 0.0435 - val_loss: 0.0373 - val_mse: 0.0373\n",
            "Epoch 49/64\n",
            "95/95 [==============================] - 1s 12ms/step - loss: 0.0398 - mse: 0.0398 - val_loss: 0.0403 - val_mse: 0.0403\n",
            "Epoch 50/64\n",
            "95/95 [==============================] - 1s 12ms/step - loss: 0.0380 - mse: 0.0380 - val_loss: 0.0436 - val_mse: 0.0436\n",
            "Epoch 51/64\n",
            "95/95 [==============================] - 1s 12ms/step - loss: 0.0364 - mse: 0.0364 - val_loss: 0.0531 - val_mse: 0.0531\n",
            "Epoch 52/64\n",
            "95/95 [==============================] - 1s 12ms/step - loss: 0.0389 - mse: 0.0389 - val_loss: 0.0406 - val_mse: 0.0406\n",
            "Epoch 53/64\n",
            "95/95 [==============================] - 1s 12ms/step - loss: 0.0348 - mse: 0.0348 - val_loss: 0.0377 - val_mse: 0.0377\n",
            "Epoch 54/64\n",
            "95/95 [==============================] - 2s 18ms/step - loss: 0.0352 - mse: 0.0352 - val_loss: 0.0377 - val_mse: 0.0377\n",
            "Epoch 55/64\n",
            "95/95 [==============================] - 2s 18ms/step - loss: 0.0334 - mse: 0.0334 - val_loss: 0.0438 - val_mse: 0.0438\n",
            "Epoch 56/64\n",
            "95/95 [==============================] - 1s 13ms/step - loss: 0.0327 - mse: 0.0327 - val_loss: 0.0388 - val_mse: 0.0388\n",
            "Epoch 57/64\n",
            "95/95 [==============================] - 1s 12ms/step - loss: 0.0349 - mse: 0.0349 - val_loss: 0.0451 - val_mse: 0.0451\n",
            "Epoch 58/64\n",
            "95/95 [==============================] - 1s 12ms/step - loss: 0.0330 - mse: 0.0330 - val_loss: 0.0429 - val_mse: 0.0429\n",
            "Epoch 59/64\n",
            "95/95 [==============================] - 1s 12ms/step - loss: 0.0320 - mse: 0.0320 - val_loss: 0.0516 - val_mse: 0.0516\n",
            "Epoch 60/64\n",
            "95/95 [==============================] - 1s 12ms/step - loss: 0.0342 - mse: 0.0342 - val_loss: 0.0396 - val_mse: 0.0396\n",
            "Epoch 61/64\n",
            "95/95 [==============================] - 1s 12ms/step - loss: 0.0330 - mse: 0.0330 - val_loss: 0.0453 - val_mse: 0.0453\n",
            "Epoch 62/64\n",
            "95/95 [==============================] - 1s 12ms/step - loss: 0.0337 - mse: 0.0337 - val_loss: 0.0386 - val_mse: 0.0386\n",
            "Epoch 63/64\n",
            "95/95 [==============================] - 1s 12ms/step - loss: 0.0307 - mse: 0.0307 - val_loss: 0.0405 - val_mse: 0.0405\n",
            "Epoch 64/64\n",
            "95/95 [==============================] - 1s 12ms/step - loss: 0.0316 - mse: 0.0316 - val_loss: 0.0401 - val_mse: 0.0401\n",
            "30/30 [==============================] - 0s 4ms/step\n"
          ]
        },
        {
          "output_type": "display_data",
          "data": {
            "text/plain": [
              "<Figure size 640x480 with 2 Axes>"
            ],
            "image/png": "[encoded data removed]"
          },
          "metadata": {}
        },
        {
          "output_type": "stream",
          "name": "stdout",
          "text": [
            "Acurácia: 0.9186046511627907, Precisão: 0.8759124087591241, Recall: 0.9326424870466321, F1: 0.903387703889586\n"
          ]
        }
      ]
    },
    {
      "cell_type": "code",
      "source": [
        "csna_df_t = pd.read_csv(\"/content/drive/MyDrive/03_Studies/_FIAP/FIAP2024/DeepLearning/FIAP_PI/CSNA3.SA/teste.csv\")\n",
        "validate_model(csna_df_t, modelo_csna, 15)"
      ],
      "metadata": {
        "colab": {
          "base_uri": "https://localhost:8080/",
          "height": 501
        },
        "id": "wQFDqdQShzLq",
        "outputId": "bc39096c-5f80-4901-fbaa-5f678880208c"
      },
      "execution_count": null,
      "outputs": [
        {
          "output_type": "stream",
          "name": "stdout",
          "text": [
            "X.shape:(1171, 15, 11), y.shape:(1171,)\n",
            "37/37 [==============================] - 0s 7ms/step\n"
          ]
        },
        {
          "output_type": "display_data",
          "data": {
            "text/plain": [
              "<Figure size 640x480 with 2 Axes>"
            ],
            "image/png": "[encoded data removed]"
          },
          "metadata": {}
        },
        {
          "output_type": "stream",
          "name": "stdout",
          "text": [
            "Acurácia: 0.6780529461998293, Precisão: 1.0, Recall: 0.22268041237113403, F1: 0.3642495784148398\n"
          ]
        }
      ]
    },
    {
      "cell_type": "markdown",
      "source": [
        "# PETR"
      ],
      "metadata": {
        "id": "EmTZ4HLPdRhc"
      }
    },
    {
      "cell_type": "code",
      "execution_count": null,
      "metadata": {
        "id": "IUhqU46ql94X"
      },
      "outputs": [],
      "source": [
        "petr_df = pd.read_csv(\"/content/drive/MyDrive/03_Studies/_FIAP/FIAP2024/DeepLearning/FIAP_PI/PETR4.SA/treino.csv\")\n",
        "petr_p = prepare_network_analysis_dataframe(petr_df)"
      ]
    },
    {
      "cell_type": "code",
      "source": [
        "multi_network_grid_search(petr_p[1000:1100], networks)"
      ],
      "metadata": {
        "colab": {
          "base_uri": "https://localhost:8080/",
          "height": 1000
        },
        "id": "kq8HFVg_dZzf",
        "outputId": "f6a62f82-38a7-4183-e0ea-969e309b025b"
      },
      "execution_count": null,
      "outputs": [
        {
          "output_type": "stream",
          "name": "stdout",
          "text": [
            "X.shape:(85, 15, 11), y.shape:(85,)\n",
            "〉〉〉Starting Grid Search Network 0\n",
            "Fitting 2 folds for each of 4 candidates, totalling 8 fits\n",
            "[CV 1/2] END ..........batch_size=16, epochs=64;, score=0.486 total time=   4.3s\n",
            "[CV 2/2] END ..........batch_size=16, epochs=64;, score=0.286 total time=   5.6s\n",
            "[CV 1/2] END .........batch_size=16, epochs=128;, score=0.486 total time=   2.4s\n",
            "[CV 2/2] END .........batch_size=16, epochs=128;, score=0.700 total time=   2.9s\n",
            "[CV 1/2] END ..........batch_size=32, epochs=64;, score=0.486 total time=   1.8s\n",
            "[CV 2/2] END ..........batch_size=32, epochs=64;, score=0.375 total time=   2.0s\n",
            "[CV 1/2] END .........batch_size=32, epochs=128;, score=0.486 total time=   3.2s\n",
            "[CV 2/2] END .........batch_size=32, epochs=128;, score=0.818 total time=   2.7s\n",
            "Best Parameters: {'batch_size': 32, 'epochs': 128}\n",
            "Best Score: 0.6523341523341524\n",
            "〉〉〉Ending Grid Search Newtok 0\n",
            "〉〉〉Starting Grid Search Network 1\n",
            "Fitting 2 folds for each of 4 candidates, totalling 8 fits\n",
            "[CV 1/2] END ..........batch_size=16, epochs=64;, score=0.486 total time=   1.9s\n",
            "[CV 2/2] END ..........batch_size=16, epochs=64;, score=0.783 total time=   2.5s\n",
            "[CV 1/2] END .........batch_size=16, epochs=128;, score=0.486 total time=   4.2s\n",
            "[CV 2/2] END .........batch_size=16, epochs=128;, score=0.400 total time=   3.8s\n",
            "[CV 1/2] END ..........batch_size=32, epochs=64;, score=0.486 total time=   1.9s\n",
            "[CV 2/2] END ..........batch_size=32, epochs=64;, score=0.000 total time=   1.8s\n",
            "[CV 1/2] END .........batch_size=32, epochs=128;, score=0.486 total time=   2.2s\n",
            "[CV 2/2] END .........batch_size=32, epochs=128;, score=0.000 total time=   3.4s\n",
            "Best Parameters: {'batch_size': 16, 'epochs': 64}\n",
            "Best Score: 0.6345475910693301\n",
            "〉〉〉Ending Grid Search Newtok 1\n",
            "〉〉〉Starting Grid Search Network 2\n",
            "Fitting 2 folds for each of 4 candidates, totalling 8 fits\n",
            "[CV 1/2] END ..........batch_size=16, epochs=64;, score=0.486 total time=   3.1s\n",
            "[CV 2/2] END ..........batch_size=16, epochs=64;, score=0.286 total time=   4.7s\n",
            "[CV 1/2] END .........batch_size=16, epochs=128;, score=0.486 total time=   5.3s\n",
            "[CV 2/2] END .........batch_size=16, epochs=128;, score=0.000 total time=   6.0s\n",
            "[CV 1/2] END ..........batch_size=32, epochs=64;, score=0.486 total time=   3.5s\n",
            "[CV 2/2] END ..........batch_size=32, epochs=64;, score=0.600 total time=   3.6s\n",
            "[CV 1/2] END .........batch_size=32, epochs=128;, score=0.486 total time=   4.6s\n",
            "[CV 2/2] END .........batch_size=32, epochs=128;, score=0.471 total time=   7.1s\n",
            "Best Parameters: {'batch_size': 32, 'epochs': 64}\n",
            "Best Score: 0.5432432432432432\n",
            "〉〉〉Ending Grid Search Newtok 2\n",
            "〉〉〉Starting Grid Search Network 3\n",
            "Fitting 2 folds for each of 4 candidates, totalling 8 fits\n",
            "[CV 1/2] END ..........batch_size=16, epochs=64;, score=0.486 total time=  12.0s\n",
            "[CV 2/2] END ..........batch_size=16, epochs=64;, score=0.000 total time=  12.9s\n",
            "[CV 1/2] END .........batch_size=16, epochs=128;, score=0.486 total time=  17.0s\n",
            "[CV 2/2] END .........batch_size=16, epochs=128;, score=0.000 total time=  18.1s\n",
            "[CV 1/2] END ..........batch_size=32, epochs=64;, score=0.486 total time=   9.1s\n",
            "[CV 2/2] END ..........batch_size=32, epochs=64;, score=0.600 total time=  12.7s\n",
            "[CV 1/2] END .........batch_size=32, epochs=128;, score=0.486 total time=  12.6s\n",
            "[CV 2/2] END .........batch_size=32, epochs=128;, score=0.706 total time=  12.6s\n",
            "Best Parameters: {'batch_size': 32, 'epochs': 128}\n",
            "Best Score: 0.5961844197138315\n",
            "〉〉〉Ending Grid Search Newtok 3\n",
            "〉〉〉Starting Grid Search Network 4\n",
            "Fitting 2 folds for each of 4 candidates, totalling 8 fits\n",
            "[CV 1/2] END ..........batch_size=16, epochs=64;, score=0.486 total time=   8.4s\n",
            "[CV 2/2] END ..........batch_size=16, epochs=64;, score=0.600 total time=  11.2s\n",
            "[CV 1/2] END .........batch_size=16, epochs=128;, score=0.486 total time=  10.2s\n",
            "[CV 2/2] END .........batch_size=16, epochs=128;, score=0.600 total time=  13.2s\n",
            "[CV 1/2] END ..........batch_size=32, epochs=64;, score=0.486 total time=   8.4s\n",
            "[CV 2/2] END ..........batch_size=32, epochs=64;, score=0.600 total time=   8.1s\n",
            "[CV 1/2] END .........batch_size=32, epochs=128;, score=0.486 total time=   8.7s\n",
            "[CV 2/2] END .........batch_size=32, epochs=128;, score=0.000 total time=  10.4s\n",
            "Best Parameters: {'batch_size': 16, 'epochs': 64}\n",
            "Best Score: 0.5432432432432432\n",
            "〉〉〉Ending Grid Search Newtok 4\n",
            "〉〉〉Starting Grid Search Network 5\n",
            "Fitting 2 folds for each of 4 candidates, totalling 8 fits\n",
            "[CV 1/2] END ..........batch_size=16, epochs=64;, score=0.486 total time=   3.3s\n",
            "[CV 2/2] END ..........batch_size=16, epochs=64;, score=0.400 total time=   2.1s\n",
            "[CV 1/2] END .........batch_size=16, epochs=128;, score=0.486 total time=   2.3s\n",
            "[CV 2/2] END .........batch_size=16, epochs=128;, score=0.154 total time=   2.8s\n",
            "[CV 1/2] END ..........batch_size=32, epochs=64;, score=0.486 total time=   1.8s\n",
            "[CV 2/2] END ..........batch_size=32, epochs=64;, score=0.286 total time=   3.3s\n",
            "[CV 1/2] END .........batch_size=32, epochs=128;, score=0.486 total time=  10.9s\n",
            "[CV 2/2] END .........batch_size=32, epochs=128;, score=0.400 total time=   3.6s\n",
            "Best Parameters: {'batch_size': 16, 'epochs': 64}\n",
            "Best Score: 0.44324324324324327\n",
            "〉〉〉Ending Grid Search Newtok 5\n",
            "〉〉〉Starting Grid Search Network 6\n",
            "Fitting 2 folds for each of 4 candidates, totalling 8 fits\n",
            "[CV 1/2] END ..........batch_size=16, epochs=64;, score=0.486 total time=   6.5s\n",
            "[CV 2/2] END ..........batch_size=16, epochs=64;, score=0.000 total time=   9.6s\n",
            "[CV 1/2] END .........batch_size=16, epochs=128;, score=0.486 total time=  13.8s\n",
            "[CV 2/2] END .........batch_size=16, epochs=128;, score=0.000 total time=  12.8s\n",
            "[CV 1/2] END ..........batch_size=32, epochs=64;, score=0.486 total time=   6.3s\n",
            "[CV 2/2] END ..........batch_size=32, epochs=64;, score=0.000 total time=   5.7s\n",
            "[CV 1/2] END .........batch_size=32, epochs=128;, score=0.486 total time=   8.7s\n",
            "[CV 2/2] END .........batch_size=32, epochs=128;, score=0.667 total time=   8.8s\n",
            "Best Parameters: {'batch_size': 32, 'epochs': 128}\n",
            "Best Score: 0.5765765765765767\n",
            "〉〉〉Ending Grid Search Newtok 6\n",
            "〉〉〉Starting Grid Search Network 7\n",
            "Fitting 2 folds for each of 4 candidates, totalling 8 fits\n",
            "[CV 1/2] END ..........batch_size=16, epochs=64;, score=0.486 total time=   8.1s\n",
            "[CV 2/2] END ..........batch_size=16, epochs=64;, score=0.000 total time=  10.0s\n",
            "[CV 1/2] END .........batch_size=16, epochs=128;, score=0.486 total time=   9.9s\n",
            "[CV 2/2] END .........batch_size=16, epochs=128;, score=0.500 total time=  12.5s\n",
            "[CV 1/2] END ..........batch_size=32, epochs=64;, score=0.486 total time=   6.9s\n",
            "[CV 2/2] END ..........batch_size=32, epochs=64;, score=0.000 total time=   8.6s\n",
            "[CV 1/2] END .........batch_size=32, epochs=128;, score=0.486 total time=   7.6s\n",
            "[CV 2/2] END .........batch_size=32, epochs=128;, score=0.000 total time=  11.2s\n",
            "Best Parameters: {'batch_size': 16, 'epochs': 128}\n",
            "Best Score: 0.49324324324324326\n",
            "〉〉〉Ending Grid Search Newtok 7\n",
            "〉〉〉Starting Grid Search Network 8\n",
            "Fitting 2 folds for each of 4 candidates, totalling 8 fits\n",
            "[CV 1/2] END ..........batch_size=16, epochs=64;, score=0.486 total time=   4.8s\n",
            "[CV 2/2] END ..........batch_size=16, epochs=64;, score=0.696 total time=   5.2s\n",
            "[CV 1/2] END .........batch_size=16, epochs=128;, score=0.486 total time=   4.8s\n",
            "[CV 2/2] END .........batch_size=16, epochs=128;, score=0.600 total time=   7.0s\n",
            "[CV 1/2] END ..........batch_size=32, epochs=64;, score=0.486 total time=   4.5s\n",
            "[CV 2/2] END ..........batch_size=32, epochs=64;, score=0.000 total time=   4.4s\n",
            "[CV 1/2] END .........batch_size=32, epochs=128;, score=0.486 total time=   5.4s\n",
            "[CV 2/2] END .........batch_size=32, epochs=128;, score=0.000 total time=   4.9s\n",
            "Best Parameters: {'batch_size': 16, 'epochs': 64}\n",
            "Best Score: 0.5910693301997649\n",
            "〉〉〉Ending Grid Search Newtok 8\n",
            "〉〉〉Starting Grid Search Network 9\n",
            "Fitting 2 folds for each of 4 candidates, totalling 8 fits\n",
            "[CV 1/2] END ..........batch_size=16, epochs=64;, score=0.486 total time=   2.6s\n",
            "[CV 2/2] END ..........batch_size=16, epochs=64;, score=0.552 total time=   2.7s\n",
            "[CV 1/2] END .........batch_size=16, epochs=128;, score=0.486 total time=   3.3s\n",
            "[CV 2/2] END .........batch_size=16, epochs=128;, score=0.600 total time=   5.3s\n",
            "[CV 1/2] END ..........batch_size=32, epochs=64;, score=0.486 total time=   2.3s\n",
            "[CV 2/2] END ..........batch_size=32, epochs=64;, score=0.600 total time=   2.4s\n",
            "[CV 1/2] END .........batch_size=32, epochs=128;, score=0.486 total time=   2.5s\n",
            "[CV 2/2] END .........batch_size=32, epochs=128;, score=0.154 total time=   3.9s\n",
            "Best Parameters: {'batch_size': 16, 'epochs': 128}\n",
            "Best Score: 0.5432432432432432\n",
            "〉〉〉Ending Grid Search Newtok 9\n",
            "Network: 0, \t best score:0.6523341523341524, \t best parameters:{'batch_size': 32, 'epochs': 128}\n",
            "Network: 1, \t best score:0.6345475910693301, \t best parameters:{'batch_size': 16, 'epochs': 64}\n",
            "Network: 2, \t best score:0.5432432432432432, \t best parameters:{'batch_size': 32, 'epochs': 64}\n",
            "Network: 3, \t best score:0.5961844197138315, \t best parameters:{'batch_size': 32, 'epochs': 128}\n",
            "Network: 4, \t best score:0.5432432432432432, \t best parameters:{'batch_size': 16, 'epochs': 64}\n",
            "Network: 5, \t best score:0.44324324324324327, \t best parameters:{'batch_size': 16, 'epochs': 64}\n",
            "Network: 6, \t best score:0.5765765765765767, \t best parameters:{'batch_size': 32, 'epochs': 128}\n",
            "Network: 7, \t best score:0.49324324324324326, \t best parameters:{'batch_size': 16, 'epochs': 128}\n",
            "Network: 8, \t best score:0.5910693301997649, \t best parameters:{'batch_size': 16, 'epochs': 64}\n",
            "Network: 9, \t best score:0.5432432432432432, \t best parameters:{'batch_size': 16, 'epochs': 128}\n"
          ]
        },
        {
          "output_type": "display_data",
          "data": {
            "text/plain": [
              "<Figure size 1000x600 with 1 Axes>"
            ],
            "image/png": "[encoded data removed]"
          },
          "metadata": {}
        }
      ]
    },
    {
      "cell_type": "code",
      "source": [
        "modelo_petr = create_and_train(petr_p, model=networks[0], batch_size=32, epochs=128)"
      ],
      "metadata": {
        "colab": {
          "base_uri": "https://localhost:8080/",
          "height": 1000
        },
        "outputId": "dda10cb5-542a-4553-c236-bc669d6c39cf",
        "id": "ntzMQVglf1AN"
      },
      "execution_count": null,
      "outputs": [
        {
          "output_type": "stream",
          "name": "stdout",
          "text": [
            "X.shape:(4793, 15, 11), y.shape:(4793,)\n",
            "Epoch 1/128\n",
            "96/96 [==============================] - 4s 19ms/step - loss: 0.1464 - mse: 0.1464 - val_loss: 0.4242 - val_mse: 0.4242\n",
            "Epoch 2/128\n",
            "96/96 [==============================] - 1s 8ms/step - loss: 0.0820 - mse: 0.0820 - val_loss: 0.3418 - val_mse: 0.3418\n",
            "Epoch 3/128\n",
            "96/96 [==============================] - 1s 8ms/step - loss: 0.0737 - mse: 0.0737 - val_loss: 0.1870 - val_mse: 0.1870\n",
            "Epoch 4/128\n",
            "96/96 [==============================] - 1s 6ms/step - loss: 0.0674 - mse: 0.0674 - val_loss: 0.0914 - val_mse: 0.0914\n",
            "Epoch 5/128\n",
            "96/96 [==============================] - 1s 5ms/step - loss: 0.0679 - mse: 0.0679 - val_loss: 0.0668 - val_mse: 0.0668\n",
            "Epoch 6/128\n",
            "96/96 [==============================] - 1s 5ms/step - loss: 0.0673 - mse: 0.0673 - val_loss: 0.0548 - val_mse: 0.0548\n",
            "Epoch 7/128\n",
            "96/96 [==============================] - 1s 5ms/step - loss: 0.0630 - mse: 0.0630 - val_loss: 0.0526 - val_mse: 0.0526\n",
            "Epoch 8/128\n",
            "96/96 [==============================] - 1s 5ms/step - loss: 0.0601 - mse: 0.0601 - val_loss: 0.0538 - val_mse: 0.0538\n",
            "Epoch 9/128\n",
            "96/96 [==============================] - 1s 5ms/step - loss: 0.0657 - mse: 0.0657 - val_loss: 0.0526 - val_mse: 0.0526\n",
            "Epoch 10/128\n",
            "96/96 [==============================] - 1s 6ms/step - loss: 0.0615 - mse: 0.0615 - val_loss: 0.0525 - val_mse: 0.0525\n",
            "Epoch 11/128\n",
            "96/96 [==============================] - 1s 6ms/step - loss: 0.0624 - mse: 0.0624 - val_loss: 0.0503 - val_mse: 0.0503\n",
            "Epoch 12/128\n",
            "96/96 [==============================] - 1s 5ms/step - loss: 0.0633 - mse: 0.0633 - val_loss: 0.0522 - val_mse: 0.0522\n",
            "Epoch 13/128\n",
            "96/96 [==============================] - 0s 5ms/step - loss: 0.0616 - mse: 0.0616 - val_loss: 0.0490 - val_mse: 0.0490\n",
            "Epoch 14/128\n",
            "96/96 [==============================] - 1s 6ms/step - loss: 0.0589 - mse: 0.0589 - val_loss: 0.0508 - val_mse: 0.0508\n",
            "Epoch 15/128\n",
            "96/96 [==============================] - 1s 6ms/step - loss: 0.0607 - mse: 0.0607 - val_loss: 0.0497 - val_mse: 0.0497\n",
            "Epoch 16/128\n",
            "96/96 [==============================] - 1s 6ms/step - loss: 0.0596 - mse: 0.0596 - val_loss: 0.0500 - val_mse: 0.0500\n",
            "Epoch 17/128\n",
            "96/96 [==============================] - 1s 6ms/step - loss: 0.0609 - mse: 0.0609 - val_loss: 0.0480 - val_mse: 0.0480\n",
            "Epoch 18/128\n",
            "96/96 [==============================] - 1s 6ms/step - loss: 0.0571 - mse: 0.0571 - val_loss: 0.0483 - val_mse: 0.0483\n",
            "Epoch 19/128\n",
            "96/96 [==============================] - 0s 5ms/step - loss: 0.0576 - mse: 0.0576 - val_loss: 0.0510 - val_mse: 0.0510\n",
            "Epoch 20/128\n",
            "96/96 [==============================] - 1s 5ms/step - loss: 0.0584 - mse: 0.0584 - val_loss: 0.0497 - val_mse: 0.0497\n",
            "Epoch 21/128\n",
            "96/96 [==============================] - 1s 5ms/step - loss: 0.0559 - mse: 0.0559 - val_loss: 0.0473 - val_mse: 0.0473\n",
            "Epoch 22/128\n",
            "96/96 [==============================] - 1s 7ms/step - loss: 0.0601 - mse: 0.0601 - val_loss: 0.0498 - val_mse: 0.0498\n",
            "Epoch 23/128\n",
            "96/96 [==============================] - 1s 8ms/step - loss: 0.0597 - mse: 0.0597 - val_loss: 0.0494 - val_mse: 0.0494\n",
            "Epoch 24/128\n",
            "96/96 [==============================] - 1s 9ms/step - loss: 0.0613 - mse: 0.0613 - val_loss: 0.0527 - val_mse: 0.0527\n",
            "Epoch 25/128\n",
            "96/96 [==============================] - 1s 8ms/step - loss: 0.0563 - mse: 0.0563 - val_loss: 0.0501 - val_mse: 0.0501\n",
            "Epoch 26/128\n",
            "96/96 [==============================] - 1s 9ms/step - loss: 0.0572 - mse: 0.0572 - val_loss: 0.0499 - val_mse: 0.0499\n",
            "Epoch 27/128\n",
            "96/96 [==============================] - 1s 6ms/step - loss: 0.0573 - mse: 0.0573 - val_loss: 0.0496 - val_mse: 0.0496\n",
            "Epoch 28/128\n",
            "96/96 [==============================] - 1s 5ms/step - loss: 0.0565 - mse: 0.0565 - val_loss: 0.0504 - val_mse: 0.0504\n",
            "Epoch 29/128\n",
            "96/96 [==============================] - 1s 6ms/step - loss: 0.0588 - mse: 0.0588 - val_loss: 0.0487 - val_mse: 0.0487\n",
            "Epoch 30/128\n",
            "96/96 [==============================] - 1s 5ms/step - loss: 0.0543 - mse: 0.0543 - val_loss: 0.0498 - val_mse: 0.0498\n",
            "Epoch 31/128\n",
            "96/96 [==============================] - 1s 6ms/step - loss: 0.0530 - mse: 0.0530 - val_loss: 0.0496 - val_mse: 0.0496\n",
            "Epoch 32/128\n",
            "96/96 [==============================] - 1s 5ms/step - loss: 0.0568 - mse: 0.0568 - val_loss: 0.0480 - val_mse: 0.0480\n",
            "Epoch 33/128\n",
            "96/96 [==============================] - 1s 5ms/step - loss: 0.0531 - mse: 0.0531 - val_loss: 0.0516 - val_mse: 0.0516\n",
            "Epoch 34/128\n",
            "96/96 [==============================] - 1s 5ms/step - loss: 0.0531 - mse: 0.0531 - val_loss: 0.0516 - val_mse: 0.0516\n",
            "Epoch 35/128\n",
            "96/96 [==============================] - 1s 6ms/step - loss: 0.0545 - mse: 0.0545 - val_loss: 0.0511 - val_mse: 0.0511\n",
            "Epoch 36/128\n",
            "96/96 [==============================] - 1s 5ms/step - loss: 0.0579 - mse: 0.0579 - val_loss: 0.0489 - val_mse: 0.0489\n",
            "Epoch 37/128\n",
            "96/96 [==============================] - 1s 6ms/step - loss: 0.0546 - mse: 0.0546 - val_loss: 0.0484 - val_mse: 0.0484\n",
            "Epoch 38/128\n",
            "96/96 [==============================] - 1s 5ms/step - loss: 0.0561 - mse: 0.0561 - val_loss: 0.0505 - val_mse: 0.0505\n",
            "Epoch 39/128\n",
            "96/96 [==============================] - 1s 5ms/step - loss: 0.0548 - mse: 0.0548 - val_loss: 0.0484 - val_mse: 0.0484\n",
            "Epoch 40/128\n",
            "96/96 [==============================] - 1s 5ms/step - loss: 0.0546 - mse: 0.0546 - val_loss: 0.0532 - val_mse: 0.0532\n",
            "Epoch 41/128\n",
            "96/96 [==============================] - 1s 5ms/step - loss: 0.0541 - mse: 0.0541 - val_loss: 0.0502 - val_mse: 0.0502\n",
            "Epoch 42/128\n",
            "96/96 [==============================] - 1s 5ms/step - loss: 0.0554 - mse: 0.0554 - val_loss: 0.0518 - val_mse: 0.0518\n",
            "Epoch 43/128\n",
            "96/96 [==============================] - 1s 6ms/step - loss: 0.0539 - mse: 0.0539 - val_loss: 0.0499 - val_mse: 0.0499\n",
            "Epoch 44/128\n",
            "96/96 [==============================] - 1s 5ms/step - loss: 0.0543 - mse: 0.0543 - val_loss: 0.0525 - val_mse: 0.0525\n",
            "Epoch 45/128\n",
            "96/96 [==============================] - 1s 7ms/step - loss: 0.0530 - mse: 0.0530 - val_loss: 0.0521 - val_mse: 0.0521\n",
            "Epoch 46/128\n",
            "96/96 [==============================] - 1s 9ms/step - loss: 0.0541 - mse: 0.0541 - val_loss: 0.0504 - val_mse: 0.0504\n",
            "Epoch 47/128\n",
            "96/96 [==============================] - 1s 9ms/step - loss: 0.0542 - mse: 0.0542 - val_loss: 0.0524 - val_mse: 0.0524\n",
            "Epoch 48/128\n",
            "96/96 [==============================] - 1s 10ms/step - loss: 0.0517 - mse: 0.0517 - val_loss: 0.0501 - val_mse: 0.0501\n",
            "Epoch 49/128\n",
            "96/96 [==============================] - 1s 8ms/step - loss: 0.0513 - mse: 0.0513 - val_loss: 0.0505 - val_mse: 0.0505\n",
            "Epoch 50/128\n",
            "96/96 [==============================] - 1s 6ms/step - loss: 0.0554 - mse: 0.0554 - val_loss: 0.0511 - val_mse: 0.0511\n",
            "Epoch 51/128\n",
            "96/96 [==============================] - 1s 5ms/step - loss: 0.0495 - mse: 0.0495 - val_loss: 0.0531 - val_mse: 0.0531\n",
            "Epoch 52/128\n",
            "96/96 [==============================] - 1s 6ms/step - loss: 0.0513 - mse: 0.0513 - val_loss: 0.0515 - val_mse: 0.0515\n",
            "Epoch 53/128\n",
            "96/96 [==============================] - 1s 5ms/step - loss: 0.0528 - mse: 0.0528 - val_loss: 0.0563 - val_mse: 0.0563\n",
            "Epoch 54/128\n",
            "96/96 [==============================] - 1s 5ms/step - loss: 0.0522 - mse: 0.0522 - val_loss: 0.0531 - val_mse: 0.0531\n",
            "Epoch 55/128\n",
            "96/96 [==============================] - 1s 5ms/step - loss: 0.0512 - mse: 0.0512 - val_loss: 0.0523 - val_mse: 0.0523\n",
            "Epoch 56/128\n",
            "96/96 [==============================] - 1s 6ms/step - loss: 0.0523 - mse: 0.0523 - val_loss: 0.0514 - val_mse: 0.0514\n",
            "Epoch 57/128\n",
            "96/96 [==============================] - 1s 5ms/step - loss: 0.0529 - mse: 0.0529 - val_loss: 0.0520 - val_mse: 0.0520\n",
            "Epoch 58/128\n",
            "96/96 [==============================] - 1s 5ms/step - loss: 0.0512 - mse: 0.0512 - val_loss: 0.0533 - val_mse: 0.0533\n",
            "Epoch 59/128\n",
            "96/96 [==============================] - 1s 6ms/step - loss: 0.0538 - mse: 0.0538 - val_loss: 0.0524 - val_mse: 0.0524\n",
            "Epoch 60/128\n",
            "96/96 [==============================] - 1s 5ms/step - loss: 0.0493 - mse: 0.0493 - val_loss: 0.0499 - val_mse: 0.0499\n",
            "Epoch 61/128\n",
            "96/96 [==============================] - 1s 6ms/step - loss: 0.0492 - mse: 0.0492 - val_loss: 0.0516 - val_mse: 0.0516\n",
            "Epoch 62/128\n",
            "96/96 [==============================] - 1s 5ms/step - loss: 0.0530 - mse: 0.0530 - val_loss: 0.0518 - val_mse: 0.0518\n",
            "Epoch 63/128\n",
            "96/96 [==============================] - 0s 5ms/step - loss: 0.0508 - mse: 0.0508 - val_loss: 0.0508 - val_mse: 0.0508\n",
            "Epoch 64/128\n",
            "96/96 [==============================] - 0s 5ms/step - loss: 0.0505 - mse: 0.0505 - val_loss: 0.0521 - val_mse: 0.0521\n",
            "Epoch 65/128\n",
            "96/96 [==============================] - 1s 5ms/step - loss: 0.0471 - mse: 0.0471 - val_loss: 0.0528 - val_mse: 0.0528\n",
            "Epoch 66/128\n",
            "96/96 [==============================] - 1s 6ms/step - loss: 0.0479 - mse: 0.0479 - val_loss: 0.0506 - val_mse: 0.0506\n",
            "Epoch 67/128\n",
            "96/96 [==============================] - 1s 5ms/step - loss: 0.0490 - mse: 0.0490 - val_loss: 0.0525 - val_mse: 0.0525\n",
            "Epoch 68/128\n",
            "96/96 [==============================] - 1s 6ms/step - loss: 0.0472 - mse: 0.0472 - val_loss: 0.0513 - val_mse: 0.0513\n",
            "Epoch 69/128\n",
            "96/96 [==============================] - 1s 9ms/step - loss: 0.0481 - mse: 0.0481 - val_loss: 0.0502 - val_mse: 0.0502\n",
            "Epoch 70/128\n",
            "96/96 [==============================] - 1s 8ms/step - loss: 0.0506 - mse: 0.0506 - val_loss: 0.0557 - val_mse: 0.0557\n",
            "Epoch 71/128\n",
            "96/96 [==============================] - 1s 8ms/step - loss: 0.0484 - mse: 0.0484 - val_loss: 0.0514 - val_mse: 0.0514\n",
            "Epoch 72/128\n",
            "96/96 [==============================] - 1s 9ms/step - loss: 0.0482 - mse: 0.0482 - val_loss: 0.0536 - val_mse: 0.0536\n",
            "Epoch 73/128\n",
            "96/96 [==============================] - 1s 6ms/step - loss: 0.0484 - mse: 0.0484 - val_loss: 0.0527 - val_mse: 0.0527\n",
            "Epoch 74/128\n",
            "96/96 [==============================] - 1s 5ms/step - loss: 0.0485 - mse: 0.0485 - val_loss: 0.0540 - val_mse: 0.0540\n",
            "Epoch 75/128\n",
            "96/96 [==============================] - 1s 5ms/step - loss: 0.0459 - mse: 0.0459 - val_loss: 0.0516 - val_mse: 0.0516\n",
            "Epoch 76/128\n",
            "96/96 [==============================] - 1s 5ms/step - loss: 0.0487 - mse: 0.0487 - val_loss: 0.0542 - val_mse: 0.0542\n",
            "Epoch 77/128\n",
            "96/96 [==============================] - 1s 5ms/step - loss: 0.0477 - mse: 0.0477 - val_loss: 0.0527 - val_mse: 0.0527\n",
            "Epoch 78/128\n",
            "96/96 [==============================] - 1s 5ms/step - loss: 0.0498 - mse: 0.0498 - val_loss: 0.0562 - val_mse: 0.0562\n",
            "Epoch 79/128\n",
            "96/96 [==============================] - 1s 5ms/step - loss: 0.0485 - mse: 0.0485 - val_loss: 0.0544 - val_mse: 0.0544\n",
            "Epoch 80/128\n",
            "96/96 [==============================] - 1s 6ms/step - loss: 0.0492 - mse: 0.0492 - val_loss: 0.0550 - val_mse: 0.0550\n",
            "Epoch 81/128\n",
            "96/96 [==============================] - 1s 6ms/step - loss: 0.0465 - mse: 0.0465 - val_loss: 0.0557 - val_mse: 0.0557\n",
            "Epoch 82/128\n",
            "96/96 [==============================] - 1s 6ms/step - loss: 0.0458 - mse: 0.0458 - val_loss: 0.0539 - val_mse: 0.0539\n",
            "Epoch 83/128\n",
            "96/96 [==============================] - 1s 5ms/step - loss: 0.0458 - mse: 0.0458 - val_loss: 0.0546 - val_mse: 0.0546\n",
            "Epoch 84/128\n",
            "96/96 [==============================] - 1s 6ms/step - loss: 0.0479 - mse: 0.0479 - val_loss: 0.0564 - val_mse: 0.0564\n",
            "Epoch 85/128\n",
            "96/96 [==============================] - 1s 5ms/step - loss: 0.0493 - mse: 0.0493 - val_loss: 0.0562 - val_mse: 0.0562\n",
            "Epoch 86/128\n",
            "96/96 [==============================] - 1s 6ms/step - loss: 0.0498 - mse: 0.0498 - val_loss: 0.0565 - val_mse: 0.0565\n",
            "Epoch 87/128\n",
            "96/96 [==============================] - 1s 5ms/step - loss: 0.0482 - mse: 0.0482 - val_loss: 0.0563 - val_mse: 0.0563\n",
            "Epoch 88/128\n",
            "96/96 [==============================] - 1s 6ms/step - loss: 0.0481 - mse: 0.0481 - val_loss: 0.0541 - val_mse: 0.0541\n",
            "Epoch 89/128\n",
            "96/96 [==============================] - 1s 6ms/step - loss: 0.0493 - mse: 0.0493 - val_loss: 0.0551 - val_mse: 0.0551\n",
            "Epoch 90/128\n",
            "96/96 [==============================] - 1s 5ms/step - loss: 0.0458 - mse: 0.0458 - val_loss: 0.0555 - val_mse: 0.0555\n",
            "Epoch 91/128\n",
            "96/96 [==============================] - 1s 6ms/step - loss: 0.0442 - mse: 0.0442 - val_loss: 0.0558 - val_mse: 0.0558\n",
            "Epoch 92/128\n",
            "96/96 [==============================] - 1s 9ms/step - loss: 0.0464 - mse: 0.0464 - val_loss: 0.0507 - val_mse: 0.0507\n",
            "Epoch 93/128\n",
            "96/96 [==============================] - 1s 8ms/step - loss: 0.0474 - mse: 0.0474 - val_loss: 0.0540 - val_mse: 0.0540\n",
            "Epoch 94/128\n",
            "96/96 [==============================] - 1s 8ms/step - loss: 0.0446 - mse: 0.0446 - val_loss: 0.0515 - val_mse: 0.0515\n",
            "Epoch 95/128\n",
            "96/96 [==============================] - 1s 9ms/step - loss: 0.0455 - mse: 0.0455 - val_loss: 0.0530 - val_mse: 0.0530\n",
            "Epoch 96/128\n",
            "96/96 [==============================] - 1s 6ms/step - loss: 0.0486 - mse: 0.0486 - val_loss: 0.0547 - val_mse: 0.0547\n",
            "Epoch 97/128\n",
            "96/96 [==============================] - 1s 5ms/step - loss: 0.0474 - mse: 0.0474 - val_loss: 0.0527 - val_mse: 0.0527\n",
            "Epoch 98/128\n",
            "96/96 [==============================] - 1s 6ms/step - loss: 0.0476 - mse: 0.0476 - val_loss: 0.0538 - val_mse: 0.0538\n",
            "Epoch 99/128\n",
            "96/96 [==============================] - 1s 5ms/step - loss: 0.0479 - mse: 0.0479 - val_loss: 0.0536 - val_mse: 0.0536\n",
            "Epoch 100/128\n",
            "96/96 [==============================] - 1s 6ms/step - loss: 0.0445 - mse: 0.0445 - val_loss: 0.0569 - val_mse: 0.0569\n",
            "Epoch 101/128\n",
            "96/96 [==============================] - 1s 5ms/step - loss: 0.0418 - mse: 0.0418 - val_loss: 0.0534 - val_mse: 0.0534\n",
            "Epoch 102/128\n",
            "96/96 [==============================] - 1s 6ms/step - loss: 0.0417 - mse: 0.0417 - val_loss: 0.0554 - val_mse: 0.0554\n",
            "Epoch 103/128\n",
            "96/96 [==============================] - 1s 6ms/step - loss: 0.0433 - mse: 0.0433 - val_loss: 0.0561 - val_mse: 0.0561\n",
            "Epoch 104/128\n",
            "96/96 [==============================] - 1s 5ms/step - loss: 0.0463 - mse: 0.0463 - val_loss: 0.0569 - val_mse: 0.0569\n",
            "Epoch 105/128\n",
            "96/96 [==============================] - 1s 5ms/step - loss: 0.0450 - mse: 0.0450 - val_loss: 0.0577 - val_mse: 0.0577\n",
            "Epoch 106/128\n",
            "96/96 [==============================] - 1s 5ms/step - loss: 0.0446 - mse: 0.0446 - val_loss: 0.0565 - val_mse: 0.0565\n",
            "Epoch 107/128\n",
            "96/96 [==============================] - 1s 6ms/step - loss: 0.0464 - mse: 0.0464 - val_loss: 0.0574 - val_mse: 0.0574\n",
            "Epoch 108/128\n",
            "96/96 [==============================] - 1s 5ms/step - loss: 0.0432 - mse: 0.0432 - val_loss: 0.0547 - val_mse: 0.0547\n",
            "Epoch 109/128\n",
            "96/96 [==============================] - 1s 5ms/step - loss: 0.0459 - mse: 0.0459 - val_loss: 0.0561 - val_mse: 0.0561\n",
            "Epoch 110/128\n",
            "96/96 [==============================] - 1s 5ms/step - loss: 0.0479 - mse: 0.0479 - val_loss: 0.0537 - val_mse: 0.0537\n",
            "Epoch 111/128\n",
            "96/96 [==============================] - 1s 6ms/step - loss: 0.0449 - mse: 0.0449 - val_loss: 0.0547 - val_mse: 0.0547\n",
            "Epoch 112/128\n",
            "96/96 [==============================] - 1s 5ms/step - loss: 0.0410 - mse: 0.0410 - val_loss: 0.0541 - val_mse: 0.0541\n",
            "Epoch 113/128\n",
            "96/96 [==============================] - 1s 5ms/step - loss: 0.0448 - mse: 0.0448 - val_loss: 0.0567 - val_mse: 0.0567\n",
            "Epoch 114/128\n",
            "96/96 [==============================] - 1s 7ms/step - loss: 0.0469 - mse: 0.0469 - val_loss: 0.0547 - val_mse: 0.0547\n",
            "Epoch 115/128\n",
            "96/96 [==============================] - 1s 8ms/step - loss: 0.0417 - mse: 0.0417 - val_loss: 0.0565 - val_mse: 0.0565\n",
            "Epoch 116/128\n",
            "96/96 [==============================] - 1s 8ms/step - loss: 0.0452 - mse: 0.0452 - val_loss: 0.0550 - val_mse: 0.0550\n",
            "Epoch 117/128\n",
            "96/96 [==============================] - 1s 8ms/step - loss: 0.0444 - mse: 0.0444 - val_loss: 0.0579 - val_mse: 0.0579\n",
            "Epoch 118/128\n",
            "96/96 [==============================] - 1s 9ms/step - loss: 0.0458 - mse: 0.0458 - val_loss: 0.0604 - val_mse: 0.0604\n",
            "Epoch 119/128\n",
            "96/96 [==============================] - 1s 7ms/step - loss: 0.0410 - mse: 0.0410 - val_loss: 0.0589 - val_mse: 0.0589\n",
            "Epoch 120/128\n",
            "96/96 [==============================] - 1s 6ms/step - loss: 0.0404 - mse: 0.0404 - val_loss: 0.0577 - val_mse: 0.0577\n",
            "Epoch 121/128\n",
            "96/96 [==============================] - 1s 6ms/step - loss: 0.0433 - mse: 0.0433 - val_loss: 0.0589 - val_mse: 0.0589\n",
            "Epoch 122/128\n",
            "96/96 [==============================] - 1s 5ms/step - loss: 0.0442 - mse: 0.0442 - val_loss: 0.0576 - val_mse: 0.0576\n",
            "Epoch 123/128\n",
            "96/96 [==============================] - 1s 6ms/step - loss: 0.0423 - mse: 0.0423 - val_loss: 0.0580 - val_mse: 0.0580\n",
            "Epoch 124/128\n",
            "96/96 [==============================] - 1s 6ms/step - loss: 0.0419 - mse: 0.0419 - val_loss: 0.0595 - val_mse: 0.0595\n",
            "Epoch 125/128\n",
            "96/96 [==============================] - 1s 6ms/step - loss: 0.0417 - mse: 0.0417 - val_loss: 0.0606 - val_mse: 0.0606\n",
            "Epoch 126/128\n",
            "96/96 [==============================] - 1s 5ms/step - loss: 0.0440 - mse: 0.0440 - val_loss: 0.0580 - val_mse: 0.0580\n",
            "Epoch 127/128\n",
            "96/96 [==============================] - 1s 5ms/step - loss: 0.0439 - mse: 0.0439 - val_loss: 0.0614 - val_mse: 0.0614\n",
            "Epoch 128/128\n",
            "96/96 [==============================] - 1s 6ms/step - loss: 0.0451 - mse: 0.0451 - val_loss: 0.0575 - val_mse: 0.0575\n",
            "30/30 [==============================] - 0s 2ms/step\n"
          ]
        },
        {
          "output_type": "display_data",
          "data": {
            "text/plain": [
              "<Figure size 640x480 with 2 Axes>"
            ],
            "image/png": "[encoded data removed]"
          },
          "metadata": {}
        },
        {
          "output_type": "stream",
          "name": "stdout",
          "text": [
            "Acurácia: 0.9374348279457768, Precisão: 0.9142259414225942, Recall: 0.9583333333333334, F1: 0.9357601713062098\n"
          ]
        }
      ]
    },
    {
      "cell_type": "code",
      "source": [
        "petr_df_t = pd.read_csv(\"/content/drive/MyDrive/03_Studies/_FIAP/FIAP2024/DeepLearning/FIAP_PI/PETR4.SA/teste.csv\")\n",
        "validate_model(petr_df_t, modelo_petr, 15)"
      ],
      "metadata": {
        "colab": {
          "base_uri": "https://localhost:8080/",
          "height": 501
        },
        "id": "q_hq2z02Jbii",
        "outputId": "24400457-eb03-4d52-d525-2284f2f43e38"
      },
      "execution_count": null,
      "outputs": [
        {
          "output_type": "stream",
          "name": "stdout",
          "text": [
            "X.shape:(1188, 15, 11), y.shape:(1188,)\n",
            "38/38 [==============================] - 0s 3ms/step\n"
          ]
        },
        {
          "output_type": "display_data",
          "data": {
            "text/plain": [
              "<Figure size 640x480 with 2 Axes>"
            ],
            "image/png": "[encoded data removed]"
          },
          "metadata": {}
        },
        {
          "output_type": "stream",
          "name": "stdout",
          "text": [
            "Acurácia: 0.5193602693602694, Precisão: 0.95, Recall: 0.06260296540362438, F1: 0.11746522411128284\n"
          ]
        }
      ]
    },
    {
      "cell_type": "markdown",
      "metadata": {
        "id": "BhLCN7LTFBI7"
      },
      "source": [
        "# Estudos prévios\n",
        "Esta sessão abaixo está mantida apenas para histórico de estudos"
      ]
    },
    {
      "cell_type": "markdown",
      "metadata": {
        "id": "dNk0IFs0F2A7"
      },
      "source": [
        "## Densa"
      ]
    },
    {
      "cell_type": "code",
      "execution_count": null,
      "metadata": {
        "id": "Mu02SD9mF6ra"
      },
      "outputs": [],
      "source": [
        "simples = Sequential([\n",
        "    # Input and normalization\n",
        "    InputLayer(input_shape=(15,11)),   # Camada de Entrada\n",
        "    BatchNormalization(),           # Normalização\n",
        "\n",
        "    # Dense layers\n",
        "    Dense(64, activation='relu'),\n",
        "    Dropout(0.2),\n",
        "    Dense(64, activation='relu'),\n",
        "    Dropout(0.2),\n",
        "    Flatten(),\n",
        "    # Output layer\n",
        "    Dense(1, activation='sigmoid')  # Use 'softmax' for multi-class\n",
        "])\n",
        "simples.compile(optimizer='adam', loss='mse', metrics=['mse'])"
      ]
    },
    {
      "cell_type": "code",
      "execution_count": null,
      "metadata": {
        "id": "Lz8EFcPDO1WW"
      },
      "outputs": [],
      "source": [
        "X = bba_p.drop([\"Label\", \"BB_upper_15\", \"BB_lower_15\"], axis=1)\n",
        "y = bba_p[\"Label\"]"
      ]
    },
    {
      "cell_type": "code",
      "execution_count": null,
      "metadata": {
        "colab": {
          "base_uri": "https://localhost:8080/"
        },
        "id": "EFACyGYHMKXG",
        "outputId": "df4d3522-c375-4568-8005-8a420410f75a"
      },
      "outputs": [
        {
          "name": "stdout",
          "output_type": "stream",
          "text": [
            "X.shape:(4720, 15, 11), y.shape:(4720,)\n"
          ]
        }
      ],
      "source": [
        "X, y = make_timesteps_sequences(bba_p, 15)"
      ]
    },
    {
      "cell_type": "code",
      "execution_count": null,
      "metadata": {
        "id": "xl86-CMCPS8x"
      },
      "outputs": [],
      "source": [
        "X_train, y_train, X_test, y_test = linear_split(X, y, 0.8)"
      ]
    },
    {
      "cell_type": "code",
      "execution_count": null,
      "metadata": {
        "colab": {
          "base_uri": "https://localhost:8080/"
        },
        "id": "H13d_nmVPfIe",
        "outputId": "fcdba1ed-4e8f-41c9-c96f-1e83f8c23700"
      },
      "outputs": [
        {
          "data": {
            "text/plain": [
              "(3776, 15, 11)"
            ]
          },
          "execution_count": 19,
          "metadata": {},
          "output_type": "execute_result"
        }
      ],
      "source": [
        "X_train.shape"
      ]
    },
    {
      "cell_type": "code",
      "execution_count": null,
      "metadata": {
        "colab": {
          "base_uri": "https://localhost:8080/"
        },
        "id": "eokO8awpPX6P",
        "outputId": "7f187cf2-c1ef-45ae-90f5-63e08a1090ae"
      },
      "outputs": [
        {
          "name": "stdout",
          "output_type": "stream",
          "text": [
            "Epoch 1/10\n",
            "302/302 [==============================] - 9s 4ms/step - loss: 0.1234 - mse: 0.1234 - val_loss: 0.0929 - val_mse: 0.0929\n",
            "Epoch 2/10\n",
            "302/302 [==============================] - 1s 4ms/step - loss: 0.0833 - mse: 0.0833 - val_loss: 0.0502 - val_mse: 0.0502\n",
            "Epoch 3/10\n",
            "302/302 [==============================] - 1s 4ms/step - loss: 0.0845 - mse: 0.0845 - val_loss: 0.0491 - val_mse: 0.0491\n",
            "Epoch 4/10\n",
            "302/302 [==============================] - 1s 4ms/step - loss: 0.0839 - mse: 0.0839 - val_loss: 0.0472 - val_mse: 0.0472\n",
            "Epoch 5/10\n",
            "302/302 [==============================] - 1s 4ms/step - loss: 0.0782 - mse: 0.0782 - val_loss: 0.0556 - val_mse: 0.0556\n",
            "Epoch 6/10\n",
            "302/302 [==============================] - 1s 4ms/step - loss: 0.0770 - mse: 0.0770 - val_loss: 0.0629 - val_mse: 0.0629\n",
            "Epoch 7/10\n",
            "302/302 [==============================] - 1s 4ms/step - loss: 0.0746 - mse: 0.0746 - val_loss: 0.0610 - val_mse: 0.0610\n",
            "Epoch 8/10\n",
            "302/302 [==============================] - 1s 4ms/step - loss: 0.0782 - mse: 0.0782 - val_loss: 0.0628 - val_mse: 0.0628\n",
            "Epoch 9/10\n",
            "302/302 [==============================] - 2s 5ms/step - loss: 0.0743 - mse: 0.0743 - val_loss: 0.0608 - val_mse: 0.0608\n",
            "Epoch 10/10\n",
            "302/302 [==============================] - 1s 5ms/step - loss: 0.0765 - mse: 0.0765 - val_loss: 0.0572 - val_mse: 0.0572\n"
          ]
        }
      ],
      "source": [
        "history = simples.fit(\n",
        "    X_train, y_train,\n",
        "    epochs=10,  # Number of epochs\n",
        "    batch_size=10,  # Size of the batch\n",
        "    validation_split=0.2  # Split for validation data\n",
        ")"
      ]
    },
    {
      "cell_type": "code",
      "execution_count": null,
      "metadata": {
        "colab": {
          "base_uri": "https://localhost:8080/"
        },
        "id": "Uk5NTarIPq6x",
        "outputId": "e1241110-581a-44fd-cb93-d6e29b5ba5fd"
      },
      "outputs": [
        {
          "name": "stdout",
          "output_type": "stream",
          "text": [
            "30/30 [==============================] - 0s 3ms/step - loss: 0.0639 - mse: 0.0639\n"
          ]
        },
        {
          "data": {
            "text/plain": [
              "[0.0638834610581398, 0.0638834610581398]"
            ]
          },
          "execution_count": 21,
          "metadata": {},
          "output_type": "execute_result"
        }
      ],
      "source": [
        "simples.evaluate(X_test, y_test)"
      ]
    },
    {
      "cell_type": "code",
      "execution_count": null,
      "metadata": {
        "colab": {
          "base_uri": "https://localhost:8080/"
        },
        "id": "gNlrhz5-P_vE",
        "outputId": "72bbf008-43a8-45ee-c099-17c7d007982e"
      },
      "outputs": [
        {
          "name": "stdout",
          "output_type": "stream",
          "text": [
            "30/30 [==============================] - 0s 2ms/step\n"
          ]
        }
      ],
      "source": [
        "predictions = simples.predict(X_test)\n",
        "predictions = (predictions > 0.5).astype(int)"
      ]
    },
    {
      "cell_type": "code",
      "execution_count": null,
      "metadata": {
        "colab": {
          "base_uri": "https://localhost:8080/",
          "height": 449
        },
        "id": "qtUDCqC5QJy9",
        "outputId": "f1ed93db-cd99-4612-aeba-2835b19438ec"
      },
      "outputs": [
        {
          "data": {
            "image/png": "[encoded data removed]",
            "text/plain": [
              "<Figure size 640x480 with 2 Axes>"
            ]
          },
          "metadata": {},
          "output_type": "display_data"
        }
      ],
      "source": [
        "cm = confusion_matrix(y_test, predictions)\n",
        "sns.heatmap(cm, annot=True, fmt='d', cmap='Blues', xticklabels=['Predicted 0', 'Predicted 1'], yticklabels=['Actual 0', 'Actual 1'])\n",
        "plt.ylabel('Actual')\n",
        "plt.xlabel('Predicted')\n",
        "plt.show()"
      ]
    },
    {
      "cell_type": "code",
      "execution_count": null,
      "metadata": {
        "colab": {
          "base_uri": "https://localhost:8080/"
        },
        "id": "z37_EJ1yY7Nl",
        "outputId": "e19ffdc8-b283-4443-8a35-1e15799c2887"
      },
      "outputs": [
        {
          "name": "stdout",
          "output_type": "stream",
          "text": [
            "Acurácia: 0.9184322033898306, Precisão: 0.8868686868686869, Revocação: 0.9543478260869566\n"
          ]
        }
      ],
      "source": [
        "# Calculando as métricas\n",
        "accuracy = accuracy_score(y_test, predictions)\n",
        "precision = precision_score(y_test, predictions)\n",
        "recall = recall_score(y_test, predictions)\n",
        "\n",
        "print(f'Acurácia: {accuracy}, Precisão: {precision}, Revocação: {recall}')"
      ]
    },
    {
      "cell_type": "markdown",
      "metadata": {
        "id": "haH66S-gPPwp"
      },
      "source": []
    },
    {
      "cell_type": "markdown",
      "metadata": {
        "id": "Gvqdyq09GEMH"
      },
      "source": [
        "## Conv 1D"
      ]
    },
    {
      "cell_type": "code",
      "execution_count": null,
      "metadata": {
        "id": "LdaA2aJA6m3n"
      },
      "outputs": [],
      "source": [
        "Conv = Sequential([\n",
        "    # Input and normalization\n",
        "    InputLayer(input_shape=(15,11)),   # Camada de Entrada\n",
        "    BatchNormalization(),           # Normalização\n",
        "    # Dense layers\n",
        "    Conv1D(64, kernel_size=5, activation='relu'),\n",
        "    Dropout(0.5),\n",
        "    Conv1D(32, kernel_size=3, activation='relu'),\n",
        "    Dropout(0.5),\n",
        "    Flatten(),\n",
        "    # Output layer\n",
        "    Dense(1, activation='sigmoid')  # Use 'softmax' for multi-class\n",
        "])\n",
        "Conv.compile(optimizer='adam', loss='mean_absolute_percentage_error', metrics=['mse'])"
      ]
    },
    {
      "cell_type": "code",
      "execution_count": null,
      "metadata": {
        "colab": {
          "base_uri": "https://localhost:8080/",
          "height": 141
        },
        "id": "Nn3_ZVFtRMon",
        "outputId": "7d40faf3-fac0-498d-e264-3c3e576576ca"
      },
      "outputs": [
        {
          "ename": "NameError",
          "evalue": "name 'make_timesteps' is not defined",
          "output_type": "error",
          "traceback": [
            "\u001b[0;31m---------------------------------------------------------------------------\u001b[0m",
            "\u001b[0;31mNameError\u001b[0m                                 Traceback (most recent call last)",
            "\u001b[0;32m<ipython-input-26-caf5375198d6>\u001b[0m in \u001b[0;36m<cell line: 1>\u001b[0;34m()\u001b[0m\n\u001b[0;32m----> 1\u001b[0;31m \u001b[0mX\u001b[0m\u001b[0;34m,\u001b[0m \u001b[0my\u001b[0m \u001b[0;34m=\u001b[0m \u001b[0mmake_timesteps\u001b[0m\u001b[0;34m(\u001b[0m\u001b[0mbba_p\u001b[0m\u001b[0;34m,\u001b[0m \u001b[0;36m15\u001b[0m\u001b[0;34m)\u001b[0m\u001b[0;34m\u001b[0m\u001b[0;34m\u001b[0m\u001b[0m\n\u001b[0m",
            "\u001b[0;31mNameError\u001b[0m: name 'make_timesteps' is not defined"
          ]
        }
      ],
      "source": [
        "X, y = make_timesteps(bba_p, 15)"
      ]
    },
    {
      "cell_type": "code",
      "execution_count": null,
      "metadata": {
        "id": "WHpiKI8BRMot"
      },
      "outputs": [],
      "source": [
        "X_train, y_train, X_test, y_test = linear_split(X, y, 0.8)"
      ]
    },
    {
      "cell_type": "code",
      "execution_count": null,
      "metadata": {
        "id": "rrqU8PsjUo1Y"
      },
      "outputs": [],
      "source": [
        "history = Conv.fit(\n",
        "    X_train, y_train,\n",
        "    epochs=10,  # Number of epochs\n",
        "    batch_size=10,  # Size of the batch\n",
        "    validation_split=0.2  # Split for validation data\n",
        ")"
      ]
    },
    {
      "cell_type": "code",
      "execution_count": null,
      "metadata": {
        "id": "6Ti0OQ_sU95D"
      },
      "outputs": [],
      "source": [
        "Conv.evaluate(X_test, y_test)"
      ]
    },
    {
      "cell_type": "code",
      "execution_count": null,
      "metadata": {
        "id": "V_Gj9jvbVJZu"
      },
      "outputs": [],
      "source": [
        "predictions = Conv.predict(X_test)\n",
        "predictions = (predictions > 0.5).astype(int)\n",
        "cm = confusion_matrix(y_test, predictions)\n",
        "sns.heatmap(cm, annot=True, fmt='d', cmap='Blues', xticklabels=['Predicted 0', 'Predicted 1'], yticklabels=['Actual 0', 'Actual 1'])\n",
        "plt.ylabel('Actual')\n",
        "plt.xlabel('Predicted')\n",
        "plt.show()"
      ]
    },
    {
      "cell_type": "code",
      "execution_count": null,
      "metadata": {
        "id": "kNoe1Jt1Y45J"
      },
      "outputs": [],
      "source": [
        "# Calculando as métricas\n",
        "accuracy = accuracy_score(y_test, predictions)\n",
        "precision = precision_score(y_test, predictions)\n",
        "recall = recall_score(y_test, predictions)\n",
        "\n",
        "print(f'Acurácia: {accuracy}, Precisão: {precision}, Revocação: {recall}')"
      ]
    },
    {
      "cell_type": "markdown",
      "metadata": {
        "id": "q73hyIaoFEw5"
      },
      "source": [
        "## LSTM simples"
      ]
    },
    {
      "cell_type": "markdown",
      "metadata": {
        "id": "OBS7-hh4XFo6"
      },
      "source": [
        "### time_step = 2"
      ]
    },
    {
      "cell_type": "code",
      "execution_count": null,
      "metadata": {
        "id": "nHkksnPZ7tGy"
      },
      "outputs": [],
      "source": [
        "lstm_simples2 = Sequential([\n",
        "    # Input and normalization\n",
        "    InputLayer(input_shape=(2,11)),   # Camada de Entrada\n",
        "    BatchNormalization(),           # Normalização\n",
        "\n",
        "    LSTM(units=64, activation='relu', input_shape=(2, 11)),\n",
        "\n",
        "    # Output layer\n",
        "    Dense(1, activation='sigmoid')  # Use 'softmax' for multi-class\n",
        "])\n",
        "lstm_simples2.compile(optimizer='adam', loss='mean_squared_error', metrics=['mse'])"
      ]
    },
    {
      "cell_type": "code",
      "execution_count": null,
      "metadata": {
        "id": "kT896S1IVYuC"
      },
      "outputs": [],
      "source": [
        "X, y = make_timesteps_sequences(bba_p, 2)"
      ]
    },
    {
      "cell_type": "code",
      "execution_count": null,
      "metadata": {
        "id": "VAgwP4MSVYuG"
      },
      "outputs": [],
      "source": [
        "X_train, y_train, X_test, y_test = linear_split(X, y, 0.8)"
      ]
    },
    {
      "cell_type": "code",
      "execution_count": null,
      "metadata": {
        "id": "QSa3VHZ6VYuH"
      },
      "outputs": [],
      "source": [
        "history = lstm_simples2.fit(\n",
        "    X_train, y_train,\n",
        "    epochs=10,  # Number of epochs\n",
        "    batch_size=10,  # Size of the batch\n",
        "    validation_split=0.2  # Split for validation data\n",
        ")"
      ]
    },
    {
      "cell_type": "code",
      "execution_count": null,
      "metadata": {
        "id": "P5zGbN4tVYuJ"
      },
      "outputs": [],
      "source": [
        "lstm_simples2.evaluate(X_test, y_test)"
      ]
    },
    {
      "cell_type": "code",
      "execution_count": null,
      "metadata": {
        "id": "CGZC-lV1VYuK"
      },
      "outputs": [],
      "source": [
        "predictions = lstm_simples.predict(X_test)\n",
        "predictions = (predictions > 0.5).astype(int)\n",
        "cm = confusion_matrix(y_test, predictions)\n",
        "sns.heatmap(cm, annot=True, fmt='d', cmap='Blues', xticklabels=['Predicted 0', 'Predicted 1'], yticklabels=['Actual 0', 'Actual 1'])\n",
        "plt.ylabel('Actual')\n",
        "plt.xlabel('Predicted')\n",
        "plt.show()"
      ]
    },
    {
      "cell_type": "code",
      "execution_count": null,
      "metadata": {
        "id": "Aj5n3_KfY2-2"
      },
      "outputs": [],
      "source": [
        "# Calculando as métricas\n",
        "accuracy = accuracy_score(y_test, predictions)\n",
        "precision = precision_score(y_test, predictions)\n",
        "recall = recall_score(y_test, predictions)\n",
        "\n",
        "print(f'Acurácia: {accuracy}, Precisão: {precision}, Revocação: {recall}')"
      ]
    },
    {
      "cell_type": "markdown",
      "metadata": {
        "id": "0Y9TiuXpXLV4"
      },
      "source": [
        "### time_step=7"
      ]
    },
    {
      "cell_type": "code",
      "execution_count": null,
      "metadata": {
        "id": "1DB9QI0vXU-Z"
      },
      "outputs": [],
      "source": [
        "lstm_simples7 = Sequential([\n",
        "    # Input and normalization\n",
        "    InputLayer(input_shape=(7,11)),   # Camada de Entrada\n",
        "    BatchNormalization(),           # Normalização\n",
        "\n",
        "    LSTM(units=64, activation='relu', input_shape=(2, 11)),\n",
        "\n",
        "    # Output layer\n",
        "    Dense(1, activation='sigmoid')  # Use 'softmax' for multi-class\n",
        "])\n",
        "lstm_simples7.compile(optimizer='adam', loss='mean_squared_error', metrics=['mse'])"
      ]
    },
    {
      "cell_type": "code",
      "execution_count": null,
      "metadata": {
        "id": "aJoRvGnOXU-d"
      },
      "outputs": [],
      "source": [
        "X, y = make_timesteps_sequences(bba_p, 7)"
      ]
    },
    {
      "cell_type": "code",
      "execution_count": null,
      "metadata": {
        "id": "gvFFYoGfXU-f"
      },
      "outputs": [],
      "source": [
        "X_train, y_train, X_test, y_test = linear_split(X, y, 0.8)"
      ]
    },
    {
      "cell_type": "code",
      "execution_count": null,
      "metadata": {
        "id": "MVhWqJv9XU-g"
      },
      "outputs": [],
      "source": [
        "history = lstm_simples7.fit(\n",
        "    X_train, y_train,\n",
        "    epochs=10,  # Number of epochs\n",
        "    batch_size=10,  # Size of the batch\n",
        "    validation_split=0.2  # Split for validation data\n",
        ")"
      ]
    },
    {
      "cell_type": "code",
      "execution_count": null,
      "metadata": {
        "id": "LF4qZTIEXU-h"
      },
      "outputs": [],
      "source": [
        "lstm_simples.evaluate(X_test, y_test)"
      ]
    },
    {
      "cell_type": "code",
      "execution_count": null,
      "metadata": {
        "id": "jHB1dIw7XU-j"
      },
      "outputs": [],
      "source": [
        "predictions = lstm_simples.predict(X_test)\n",
        "predictions = (predictions > 0.5).astype(int)\n",
        "cm = confusion_matrix(y_test, predictions)\n",
        "sns.heatmap(cm, annot=True, fmt='d', cmap='Blues', xticklabels=['Predicted 0', 'Predicted 1'], yticklabels=['Actual 0', 'Actual 1'])\n",
        "plt.ylabel('Actual')\n",
        "plt.xlabel('Predicted')\n",
        "plt.show()"
      ]
    },
    {
      "cell_type": "code",
      "execution_count": null,
      "metadata": {
        "id": "PEhYxp0UYrEk"
      },
      "outputs": [],
      "source": [
        "# Calculando as métricas\n",
        "accuracy = accuracy_score(y_test, predictions)\n",
        "precision = precision_score(y_test, predictions)\n",
        "recall = recall_score(y_test, predictions)\n",
        "\n",
        "print(f'Acurácia: {accuracy}, Precisão: {precision}, Revocação: {recall}')"
      ]
    },
    {
      "cell_type": "markdown",
      "metadata": {
        "id": "_iM4VBatFdd2"
      },
      "source": [
        "## LSTM Duplo"
      ]
    },
    {
      "cell_type": "code",
      "execution_count": null,
      "metadata": {
        "id": "I0fec--yAJQF"
      },
      "outputs": [],
      "source": [
        "lstm_duplo = Sequential([\n",
        "    InputLayer(input_shape=(2, 11)),  # Correct input shape\n",
        "    LSTM(units=64, activation='tanh', return_sequences=True),  # Set return_sequences=True when stacking LSTM layers\n",
        "    BatchNormalization(),  # Batch Normalization after LSTM\n",
        "    LSTM(units=32, activation='tanh'),  # Additional LSTM layer for complex patterns\n",
        "    BatchNormalization(),  # Batch Normalization after LSTM\n",
        "    Dropout(0.2),  # Dropout for regularization\n",
        "    Dense(64, activation='relu'),  # Additional Dense layer to learn non-linear interactions\n",
        "    BatchNormalization(),  # Batch Normalization after Dense layer\n",
        "    Dropout(0.2),  # Additional Dropout for regularization\n",
        "    Dense(32, activation='relu'),  # Another Dense layer for further interpretation of LSTM outputs\n",
        "    BatchNormalization(),  # Batch Normalization after Dense layer\n",
        "    Dense(1, activation='linear')  # Output layer with linear activation for regression\n",
        "])\n",
        "\n",
        "lstm_duplo.compile(optimizer='adam',\n",
        "               loss='mean_squared_error',  # MSE for regression\n",
        "               metrics=['mse'])  # MSE metric for regression\n"
      ]
    },
    {
      "cell_type": "code",
      "execution_count": null,
      "metadata": {
        "id": "mC0dN9nqVtYe"
      },
      "outputs": [],
      "source": [
        "X, y = make_timesteps_sequences(bba_p, 2)\n",
        "X_train, y_train, X_test, y_test = linear_split(X, y, 0.8)"
      ]
    },
    {
      "cell_type": "code",
      "execution_count": null,
      "metadata": {
        "id": "BzOopURWVtYk"
      },
      "outputs": [],
      "source": [
        "history = lstm_duplo.fit(\n",
        "    X_train, y_train,\n",
        "    epochs=10,  # Number of epochs\n",
        "    batch_size=10,  # Size of the batch\n",
        "    validation_split=0.2  # Split for validation data\n",
        ")"
      ]
    },
    {
      "cell_type": "code",
      "execution_count": null,
      "metadata": {
        "id": "66CBPdXXVtYm"
      },
      "outputs": [],
      "source": [
        "lstm_duplo.evaluate(X_test, y_test)"
      ]
    },
    {
      "cell_type": "code",
      "execution_count": null,
      "metadata": {
        "id": "PmVRFVsbVtYn"
      },
      "outputs": [],
      "source": [
        "predictions = lstm_duplo.predict(X_test)\n",
        "predictions = (predictions > 0.5).astype(int)\n",
        "cm = confusion_matrix(y_test, predictions)\n",
        "sns.heatmap(cm, annot=True, fmt='d', cmap='Blues', xticklabels=['Predicted 0', 'Predicted 1'], yticklabels=['Actual 0', 'Actual 1'])\n",
        "plt.ylabel('Actual')\n",
        "plt.xlabel('Predicted')\n",
        "plt.show()"
      ]
    },
    {
      "cell_type": "code",
      "execution_count": null,
      "metadata": {
        "id": "ES4bfOLlYptH"
      },
      "outputs": [],
      "source": [
        "# Calculando as métricas\n",
        "accuracy = accuracy_score(y_test, predictions)\n",
        "precision = precision_score(y_test, predictions)\n",
        "recall = recall_score(y_test, predictions)\n",
        "\n",
        "print(f'Acurácia: {accuracy}, Precisão: {precision}, Revocação: {recall}')"
      ]
    }
  ],
  "metadata": {
    "accelerator": "GPU",
    "colab": {
      "gpuType": "T4",
      "provenance": []
    },
    "kernelspec": {
      "display_name": "Python 3",
      "name": "python3"
    },
    "language_info": {
      "name": "python"
    }
  },
  "nbformat": 4,
  "nbformat_minor": 0
}